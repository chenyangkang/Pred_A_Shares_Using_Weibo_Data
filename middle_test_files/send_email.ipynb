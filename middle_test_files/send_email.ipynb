{
 "cells": [
  {
   "cell_type": "code",
   "execution_count": 3,
   "metadata": {},
   "outputs": [],
   "source": [
    "import smtplib\n",
    "from email.mime.text import MIMEText\n",
    "from email.utils import formataddr\n",
    "\n",
    "import datetime"
   ]
  },
  {
   "cell_type": "code",
   "execution_count": 6,
   "metadata": {},
   "outputs": [],
   "source": [
    "# 发送邮件的函数\n",
    "def send_email(text):\n",
    "    date = str(datetime.date.today())\n",
    "    # 发件人邮箱账号\n",
    "    sender = 'chenyangkang24@outlook.com'\n",
    "    # 发件人邮箱密码或授权码\n",
    "    password = 'idongmansishen8'\n",
    "    # 收件人邮箱账号\n",
    "    receiver = 'chenyangkang24@outlook.com'\n",
    "    # 邮件主题\n",
    "    subject = f'Today\\'s A-Sahre Trading Recommendation: {date}'\n",
    "    # 邮件正文\n",
    "    content = text\n",
    "    # 邮件对象，MIMEText()参数依次为邮件正文、邮件类型、编码方式\n",
    "    message = MIMEText(content, 'plain', 'utf-8')\n",
    "    # 设置发件人和收件人\n",
    "    message['From'] = formataddr(['Sender', sender])\n",
    "    message['To'] = formataddr(['Receiver', receiver])\n",
    "    # 设置邮件主题\n",
    "    message['Subject'] = subject\n",
    "    # 发送邮件的服务器和端口号\n",
    "    server = smtplib.SMTP('smtp.office365.com', 587)\n",
    "\n",
    "    server.ehlo()\n",
    "    server.starttls()\n",
    "    server.ehlo()\n",
    "    \n",
    "    # 登录发件人邮箱\n",
    "    server.login(sender, password)\n",
    "    # 发送邮件\n",
    "    server.sendmail(sender, [receiver], message.as_string())\n",
    "    # 退出邮件服务器\n",
    "    server.quit()\n",
    "    print('Email sent successfully!')\n",
    "# 调用发送邮件的函数\n"
   ]
  },
  {
   "cell_type": "code",
   "execution_count": 7,
   "metadata": {},
   "outputs": [
    {
     "name": "stdout",
     "output_type": "stream",
     "text": [
      "Email sent successfully!\n"
     ]
    }
   ],
   "source": [
    "send_email('test')"
   ]
  },
  {
   "cell_type": "code",
   "execution_count": null,
   "metadata": {},
   "outputs": [],
   "source": []
  }
 ],
 "metadata": {
  "kernelspec": {
   "display_name": "Python 3",
   "language": "python",
   "name": "python3"
  },
  "language_info": {
   "codemirror_mode": {
    "name": "ipython",
    "version": 3
   },
   "file_extension": ".py",
   "mimetype": "text/x-python",
   "name": "python",
   "nbconvert_exporter": "python",
   "pygments_lexer": "ipython3",
   "version": "3.9.7"
  },
  "orig_nbformat": 4,
  "vscode": {
   "interpreter": {
    "hash": "aee8b7b246df8f9039afb4144a1f6fd8d2ca17a180786b69acc140d282b71a49"
   }
  }
 },
 "nbformat": 4,
 "nbformat_minor": 2
}
