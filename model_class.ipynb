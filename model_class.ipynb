{
 "cells": [
  {
   "cell_type": "code",
   "execution_count": 1,
   "metadata": {},
   "outputs": [],
   "source": [
    "import pickle\n",
    "import datetime\n",
    "import pandas as pd\n",
    "import numpy as np\n",
    "from warnings import filterwarnings\n",
    "filterwarnings('ignore')\n",
    "from tqdm import tqdm\n",
    "import matplotlib.pyplot as plt\n",
    "\n",
    "\n",
    "from weibo_scraper import get_weibo_profile\n",
    "import weibo_scraper\n",
    "from tqdm import tqdm\n",
    "import pickle\n",
    "from weibo_scraper import  get_formatted_weibo_tweets_by_name\n",
    "from sentence_transformers import SentenceTransformer\n",
    "import os\n",
    "from  utiles.Ashare.Ashare import *\n",
    "\n",
    "\n",
    "\n",
    "\n"
   ]
  },
  {
   "cell_type": "code",
   "execution_count": 2,
   "metadata": {},
   "outputs": [],
   "source": [
    "%load_ext autoreload\n",
    "%autoreload 2"
   ]
  },
  {
   "cell_type": "code",
   "execution_count": 3,
   "metadata": {},
   "outputs": [],
   "source": [
    "from utiles.Weibo_scrapper_utiles import get_influencer_list,get_data_by_usr_name\n",
    "from utiles.Sentence_embedding_utiles import get_date\n",
    "from utiles.get_stock_codes_utiles import get_stock_codes"
   ]
  },
  {
   "cell_type": "code",
   "execution_count": 4,
   "metadata": {},
   "outputs": [],
   "source": [
    "from sklearn.ensemble import RandomForestClassifier,RandomForestRegressor\n",
    "from xgboost import XGBRFClassifier, XGBRFRegressor\n",
    "from sklearn.model_selection import train_test_split\n",
    "from sklearn.utils.class_weight import compute_sample_weight\n",
    "from sklearn.metrics import precision_score, recall_score, roc_auc_score, f1_score, r2_score, mean_squared_error\n",
    "from sklearn.model_selection import cross_validate\n",
    "from sklearn.metrics import make_scorer\n"
   ]
  },
  {
   "cell_type": "code",
   "execution_count": 5,
   "metadata": {},
   "outputs": [],
   "source": [
    "stock_codes_dict = get_stock_codes()"
   ]
  },
  {
   "cell_type": "code",
   "execution_count": 6,
   "metadata": {},
   "outputs": [],
   "source": [
    "from utiles.Agent_utiles import Wei_trade_model"
   ]
  },
  {
   "attachments": {},
   "cell_type": "markdown",
   "metadata": {},
   "source": [
    "## Initialization (Train on historical data & store model)\n",
    "### To include new influencer, reinitialize the models"
   ]
  },
  {
   "cell_type": "code",
   "execution_count": 12,
   "metadata": {},
   "outputs": [
    {
     "name": "stderr",
     "output_type": "stream",
     "text": [
      "  0%|          | 0/65 [00:00<?, ?it/s]No sentence-transformers model found with name /Users/chenyangkang/.cache/torch/sentence_transformers/uer_sbert-base-chinese-nli. Creating a new one with MEAN pooling.\n",
      "100%|██████████| 113/113 [00:00<00:00, 102610.16it/s]\n"
     ]
    },
    {
     "name": "stdout",
     "output_type": "stream",
     "text": [
      "Input data formatted\n",
      "Classifier stored in model.classifier; scores stored in model.cls_scores\n",
      "Regressor stored in model.regressor; scores stored in model.reg_scores\n",
      "--------------------------------------------------------\n",
      "#0 sh000001 上证指数 \n",
      " |                |     mean |      std |\n",
      "|:---------------|---------:|---------:|\n",
      "| test_precision | 0.544572 | 0.15621  |\n",
      "| test_recall    | 0.608369 | 0.195684 |\n",
      "| test_roc_auc   | 0.519033 | 0.113242 |\n",
      "| test_f1_score  | 0.56147  | 0.154687 | \n",
      " |                         |         mean |         std |\n",
      "|:------------------------|-------------:|------------:|\n",
      "| test_r2_score           | -0.142986    | 0.120447    |\n",
      "| test_mean_squared_error |  8.1825e-05  | 5.18796e-05 |\n",
      "| test_spearmanr          |  0.000350877 | 0.221888    | \n",
      "\n",
      "--------------------------------------------------------\n"
     ]
    },
    {
     "name": "stderr",
     "output_type": "stream",
     "text": [
      "  2%|▏         | 1/65 [00:42<45:31, 42.69s/it]No sentence-transformers model found with name /Users/chenyangkang/.cache/torch/sentence_transformers/uer_sbert-base-chinese-nli. Creating a new one with MEAN pooling.\n",
      "100%|██████████| 113/113 [00:00<00:00, 68077.61it/s]\n"
     ]
    },
    {
     "name": "stdout",
     "output_type": "stream",
     "text": [
      "Input data formatted\n",
      "Classifier stored in model.classifier; scores stored in model.cls_scores\n",
      "Regressor stored in model.regressor; scores stored in model.reg_scores\n",
      "--------------------------------------------------------\n",
      "#1 sz399001 创业板指 \n",
      " |                |     mean |       std |\n",
      "|:---------------|---------:|----------:|\n",
      "| test_precision | 0.406548 | 0.199206  |\n",
      "| test_recall    | 0.278616 | 0.160657  |\n",
      "| test_roc_auc   | 0.472502 | 0.0982294 |\n",
      "| test_f1_score  | 0.305947 | 0.153298  | \n",
      " |                         |         mean |         std |\n",
      "|:------------------------|-------------:|------------:|\n",
      "| test_r2_score           | -0.152512    | 0.161199    |\n",
      "| test_mean_squared_error |  0.000136531 | 7.65282e-05 |\n",
      "| test_spearmanr          |  0.0338596   | 0.101376    | \n",
      "\n",
      "--------------------------------------------------------\n"
     ]
    },
    {
     "name": "stderr",
     "output_type": "stream",
     "text": [
      "  3%|▎         | 2/65 [01:24<44:23, 42.27s/it]No sentence-transformers model found with name /Users/chenyangkang/.cache/torch/sentence_transformers/uer_sbert-base-chinese-nli. Creating a new one with MEAN pooling.\n",
      "100%|██████████| 113/113 [00:00<00:00, 97844.00it/s]\n"
     ]
    },
    {
     "name": "stdout",
     "output_type": "stream",
     "text": [
      "Input data formatted\n",
      "Classifier stored in model.classifier; scores stored in model.cls_scores\n",
      "Regressor stored in model.regressor; scores stored in model.reg_scores\n",
      "--------------------------------------------------------\n",
      "#2 sh000300 沪深300 \n",
      " |                |     mean |      std |\n",
      "|:---------------|---------:|---------:|\n",
      "| test_precision | 0.467449 | 0.145499 |\n",
      "| test_recall    | 0.379924 | 0.177222 |\n",
      "| test_roc_auc   | 0.489221 | 0.114105 |\n",
      "| test_f1_score  | 0.395028 | 0.13574  | \n",
      " |                         |         mean |         std |\n",
      "|:------------------------|-------------:|------------:|\n",
      "| test_r2_score           | -0.173054    | 0.22284     |\n",
      "| test_mean_squared_error |  0.000104175 | 5.83468e-05 |\n",
      "| test_spearmanr          |  0.0731579   | 0.172865    | \n",
      "\n",
      "--------------------------------------------------------\n"
     ]
    },
    {
     "name": "stderr",
     "output_type": "stream",
     "text": [
      "  5%|▍         | 3/65 [02:07<44:04, 42.65s/it]No sentence-transformers model found with name /Users/chenyangkang/.cache/torch/sentence_transformers/uer_sbert-base-chinese-nli. Creating a new one with MEAN pooling.\n",
      "100%|██████████| 113/113 [00:00<00:00, 100096.38it/s]\n"
     ]
    },
    {
     "name": "stdout",
     "output_type": "stream",
     "text": [
      "Input data formatted\n",
      "Classifier stored in model.classifier; scores stored in model.cls_scores\n",
      "Regressor stored in model.regressor; scores stored in model.reg_scores\n",
      "--------------------------------------------------------\n",
      "#3 sh000688 科创50 \n",
      " |                |     mean |       std |\n",
      "|:---------------|---------:|----------:|\n",
      "| test_precision | 0.460557 | 0.0916929 |\n",
      "| test_recall    | 0.497363 | 0.156988  |\n",
      "| test_roc_auc   | 0.448328 | 0.091722  |\n",
      "| test_f1_score  | 0.457729 | 0.107317  | \n",
      " |                         |         mean |        std |\n",
      "|:------------------------|-------------:|-----------:|\n",
      "| test_r2_score           | -0.210492    | 0.143292   |\n",
      "| test_mean_squared_error |  0.000258746 | 0.00015346 |\n",
      "| test_spearmanr          | -0.116667    | 0.217611   | \n",
      "\n",
      "--------------------------------------------------------\n"
     ]
    },
    {
     "name": "stderr",
     "output_type": "stream",
     "text": [
      "  6%|▌         | 4/65 [02:50<43:24, 42.70s/it]No sentence-transformers model found with name /Users/chenyangkang/.cache/torch/sentence_transformers/uer_sbert-base-chinese-nli. Creating a new one with MEAN pooling.\n",
      "100%|██████████| 113/113 [00:00<00:00, 87883.62it/s]\n"
     ]
    },
    {
     "name": "stdout",
     "output_type": "stream",
     "text": [
      "Input data formatted\n",
      "Classifier stored in model.classifier; scores stored in model.cls_scores\n",
      "Regressor stored in model.regressor; scores stored in model.reg_scores\n",
      "--------------------------------------------------------\n",
      "#4 sh000016 上证50 \n",
      " |                |     mean |      std |\n",
      "|:---------------|---------:|---------:|\n",
      "| test_precision | 0.487222 | 0.362587 |\n",
      "| test_recall    | 0.240087 | 0.218695 |\n",
      "| test_roc_auc   | 0.500555 | 0.133798 |\n",
      "| test_f1_score  | 0.268764 | 0.171126 | \n",
      " |                         |         mean |         std |\n",
      "|:------------------------|-------------:|------------:|\n",
      "| test_r2_score           | -0.257326    | 0.299883    |\n",
      "| test_mean_squared_error |  0.000113123 | 5.81969e-05 |\n",
      "| test_spearmanr          |  0.0578947   | 0.215784    | \n",
      "\n",
      "--------------------------------------------------------\n"
     ]
    },
    {
     "name": "stderr",
     "output_type": "stream",
     "text": [
      "  8%|▊         | 5/65 [03:33<42:47, 42.79s/it]No sentence-transformers model found with name /Users/chenyangkang/.cache/torch/sentence_transformers/uer_sbert-base-chinese-nli. Creating a new one with MEAN pooling.\n",
      "100%|██████████| 113/113 [00:00<00:00, 80317.97it/s]\n"
     ]
    },
    {
     "name": "stdout",
     "output_type": "stream",
     "text": [
      "Input data formatted\n",
      "Classifier stored in model.classifier; scores stored in model.cls_scores\n",
      "Regressor stored in model.regressor; scores stored in model.reg_scores\n",
      "--------------------------------------------------------\n",
      "#5 sh000905 中证500 \n",
      " |                |     mean |       std |\n",
      "|:---------------|---------:|----------:|\n",
      "| test_precision | 0.556387 | 0.0890898 |\n",
      "| test_recall    | 0.653573 | 0.119698  |\n",
      "| test_roc_auc   | 0.5251   | 0.074295  |\n",
      "| test_f1_score  | 0.593188 | 0.0725212 | \n",
      " |                         |         mean |        std |\n",
      "|:------------------------|-------------:|-----------:|\n",
      "| test_r2_score           | -0.119751    | 0.0943044  |\n",
      "| test_mean_squared_error |  0.000123139 | 8.2676e-05 |\n",
      "| test_spearmanr          |  0.0412281   | 0.192038   | \n",
      "\n",
      "--------------------------------------------------------\n"
     ]
    },
    {
     "name": "stderr",
     "output_type": "stream",
     "text": [
      "  9%|▉         | 6/65 [04:16<42:17, 43.00s/it]No sentence-transformers model found with name /Users/chenyangkang/.cache/torch/sentence_transformers/uer_sbert-base-chinese-nli. Creating a new one with MEAN pooling.\n",
      "100%|██████████| 113/113 [00:00<00:00, 77179.02it/s]\n"
     ]
    },
    {
     "name": "stdout",
     "output_type": "stream",
     "text": [
      "Input data formatted\n",
      "Classifier stored in model.classifier; scores stored in model.cls_scores\n",
      "Regressor stored in model.regressor; scores stored in model.reg_scores\n",
      "--------------------------------------------------------\n",
      "#6 bj899050 北证50 \n",
      " |                |     mean |       std |\n",
      "|:---------------|---------:|----------:|\n",
      "| test_precision | 0.471006 | 0.0946187 |\n",
      "| test_recall    | 0.484048 | 0.153189  |\n",
      "| test_roc_auc   | 0.485404 | 0.0796787 |\n",
      "| test_f1_score  | 0.467402 | 0.100733  | \n",
      " |                         |         mean |         std |\n",
      "|:------------------------|-------------:|------------:|\n",
      "| test_r2_score           | -0.274256    | 0.275368    |\n",
      "| test_mean_squared_error |  0.000134613 | 8.15059e-05 |\n",
      "| test_spearmanr          |  0.0393189   | 0.200928    | \n",
      "\n",
      "--------------------------------------------------------\n"
     ]
    },
    {
     "name": "stderr",
     "output_type": "stream",
     "text": [
      " 11%|█         | 7/65 [05:00<41:40, 43.10s/it]No sentence-transformers model found with name /Users/chenyangkang/.cache/torch/sentence_transformers/uer_sbert-base-chinese-nli. Creating a new one with MEAN pooling.\n",
      "100%|██████████| 113/113 [00:00<00:00, 76605.20it/s]\n"
     ]
    },
    {
     "name": "stdout",
     "output_type": "stream",
     "text": [
      "Input data formatted\n",
      "Classifier stored in model.classifier; scores stored in model.cls_scores\n",
      "Regressor stored in model.regressor; scores stored in model.reg_scores\n",
      "--------------------------------------------------------\n",
      "#7 sh512510 中证500指数ETF \n",
      " |                |     mean |      std |\n",
      "|:---------------|---------:|---------:|\n",
      "| test_precision | 0.552314 | 0.13098  |\n",
      "| test_recall    | 0.619141 | 0.168054 |\n",
      "| test_roc_auc   | 0.532474 | 0.106739 |\n",
      "| test_f1_score  | 0.567934 | 0.121984 | \n",
      " |                         |       mean |        std |\n",
      "|:------------------------|-----------:|-----------:|\n",
      "| test_r2_score           | -0.204152  | 0.0851238  |\n",
      "| test_mean_squared_error |  0.0001123 | 6.3867e-05 |\n",
      "| test_spearmanr          | -0.0807615 | 0.149366   | \n",
      "\n",
      "--------------------------------------------------------\n"
     ]
    },
    {
     "name": "stderr",
     "output_type": "stream",
     "text": [
      " 12%|█▏        | 8/65 [05:43<40:56, 43.09s/it]No sentence-transformers model found with name /Users/chenyangkang/.cache/torch/sentence_transformers/uer_sbert-base-chinese-nli. Creating a new one with MEAN pooling.\n",
      "100%|██████████| 113/113 [00:00<00:00, 100798.88it/s]\n"
     ]
    },
    {
     "name": "stdout",
     "output_type": "stream",
     "text": [
      "Input data formatted\n",
      "Classifier stored in model.classifier; scores stored in model.cls_scores\n",
      "Regressor stored in model.regressor; scores stored in model.reg_scores\n",
      "--------------------------------------------------------\n",
      "#8 sh510370 300指数ETF \n",
      " |                |     mean |       std |\n",
      "|:---------------|---------:|----------:|\n",
      "| test_precision | 0.593712 | 0.139616  |\n",
      "| test_recall    | 0.694275 | 0.172154  |\n",
      "| test_roc_auc   | 0.571407 | 0.0834327 |\n",
      "| test_f1_score  | 0.613895 | 0.104608  | \n",
      " |                         |         mean |         std |\n",
      "|:------------------------|-------------:|------------:|\n",
      "| test_r2_score           | -0.24179     | 0.258826    |\n",
      "| test_mean_squared_error |  0.000172438 | 0.000126882 |\n",
      "| test_spearmanr          |  0.0251928   | 0.229445    | \n",
      "\n",
      "--------------------------------------------------------\n"
     ]
    },
    {
     "name": "stderr",
     "output_type": "stream",
     "text": [
      " 14%|█▍        | 9/65 [06:27<40:27, 43.34s/it]No sentence-transformers model found with name /Users/chenyangkang/.cache/torch/sentence_transformers/uer_sbert-base-chinese-nli. Creating a new one with MEAN pooling.\n",
      "100%|██████████| 113/113 [00:00<00:00, 74136.77it/s]\n"
     ]
    },
    {
     "name": "stdout",
     "output_type": "stream",
     "text": [
      "Input data formatted\n",
      "Classifier stored in model.classifier; scores stored in model.cls_scores\n",
      "Regressor stored in model.regressor; scores stored in model.reg_scores\n",
      "--------------------------------------------------------\n",
      "#9 sh562000 中证100ETF基金 \n",
      " |                |     mean |      std |\n",
      "|:---------------|---------:|---------:|\n",
      "| test_precision | 0.308333 | 0.349702 |\n",
      "| test_recall    | 0.146786 | 0.220357 |\n",
      "| test_roc_auc   | 0.508552 | 0.126068 |\n",
      "| test_f1_score  | 0.178333 | 0.228163 | \n",
      " |                         |         mean |        std |\n",
      "|:------------------------|-------------:|-----------:|\n",
      "| test_r2_score           | -0.448428    | 0.273227   |\n",
      "| test_mean_squared_error |  0.000124538 | 6.4682e-05 |\n",
      "| test_spearmanr          | -0.193846    | 0.257999   | \n",
      "\n",
      "--------------------------------------------------------\n"
     ]
    },
    {
     "name": "stderr",
     "output_type": "stream",
     "text": [
      " 15%|█▌        | 10/65 [06:59<36:28, 39.79s/it]No sentence-transformers model found with name /Users/chenyangkang/.cache/torch/sentence_transformers/uer_sbert-base-chinese-nli. Creating a new one with MEAN pooling.\n",
      "100%|██████████| 113/113 [00:00<00:00, 73951.69it/s]\n"
     ]
    },
    {
     "name": "stdout",
     "output_type": "stream",
     "text": [
      "Input data formatted\n",
      "Classifier stored in model.classifier; scores stored in model.cls_scores\n",
      "Regressor stored in model.regressor; scores stored in model.reg_scores\n",
      "--------------------------------------------------------\n",
      "#10 sh510760 上证综指ETF \n",
      " |                |     mean |       std |\n",
      "|:---------------|---------:|----------:|\n",
      "| test_precision | 0.482115 | 0.0823599 |\n",
      "| test_recall    | 0.508926 | 0.211415  |\n",
      "| test_roc_auc   | 0.480166 | 0.0725351 |\n",
      "| test_f1_score  | 0.466278 | 0.114264  | \n",
      " |                         |         mean |         std |\n",
      "|:------------------------|-------------:|------------:|\n",
      "| test_r2_score           | -0.148823    | 0.143134    |\n",
      "| test_mean_squared_error |  7.72487e-05 | 4.82003e-05 |\n",
      "| test_spearmanr          |  0.0233284   | 0.286816    | \n",
      "\n",
      "--------------------------------------------------------\n"
     ]
    },
    {
     "name": "stderr",
     "output_type": "stream",
     "text": [
      " 17%|█▋        | 11/65 [07:39<36:07, 40.14s/it]No sentence-transformers model found with name /Users/chenyangkang/.cache/torch/sentence_transformers/uer_sbert-base-chinese-nli. Creating a new one with MEAN pooling.\n",
      "100%|██████████| 113/113 [00:00<00:00, 94848.18it/s]\n"
     ]
    },
    {
     "name": "stdout",
     "output_type": "stream",
     "text": [
      "Input data formatted\n",
      "Classifier stored in model.classifier; scores stored in model.cls_scores\n",
      "Regressor stored in model.regressor; scores stored in model.reg_scores\n",
      "--------------------------------------------------------\n",
      "#11 sh512290 生物医药ETF \n",
      " |                |     mean |      std |\n",
      "|:---------------|---------:|---------:|\n",
      "| test_precision | 0.50369  | 0.254685 |\n",
      "| test_recall    | 0.293777 | 0.190395 |\n",
      "| test_roc_auc   | 0.51867  | 0.132588 |\n",
      "| test_f1_score  | 0.34881  | 0.17861  | \n",
      " |                         |         mean |         std |\n",
      "|:------------------------|-------------:|------------:|\n",
      "| test_r2_score           | -0.281488    | 0.218493    |\n",
      "| test_mean_squared_error |  0.000328951 | 0.000216903 |\n",
      "| test_spearmanr          |  0.0119298   | 0.169136    | \n",
      "\n",
      "--------------------------------------------------------\n"
     ]
    },
    {
     "name": "stderr",
     "output_type": "stream",
     "text": [
      " 18%|█▊        | 12/65 [08:22<36:01, 40.78s/it]No sentence-transformers model found with name /Users/chenyangkang/.cache/torch/sentence_transformers/uer_sbert-base-chinese-nli. Creating a new one with MEAN pooling.\n",
      "100%|██████████| 113/113 [00:00<00:00, 74627.04it/s]\n"
     ]
    },
    {
     "name": "stdout",
     "output_type": "stream",
     "text": [
      "Input data formatted\n",
      "Classifier stored in model.classifier; scores stored in model.cls_scores\n",
      "Regressor stored in model.regressor; scores stored in model.reg_scores\n",
      "--------------------------------------------------------\n",
      "#12 sh562500 机器人ETF \n",
      " |                |     mean |       std |\n",
      "|:---------------|---------:|----------:|\n",
      "| test_precision | 0.298333 | 0.235284  |\n",
      "| test_recall    | 0.188175 | 0.161374  |\n",
      "| test_roc_auc   | 0.461821 | 0.0950023 |\n",
      "| test_f1_score  | 0.218828 | 0.169196  | \n",
      " |                         |         mean |         std |\n",
      "|:------------------------|-------------:|------------:|\n",
      "| test_r2_score           | -0.105277    | 0.169497    |\n",
      "| test_mean_squared_error |  0.000304458 | 0.000169449 |\n",
      "| test_spearmanr          |  0.102874    | 0.210971    | \n",
      "\n",
      "--------------------------------------------------------\n"
     ]
    },
    {
     "name": "stderr",
     "output_type": "stream",
     "text": [
      " 20%|██        | 13/65 [09:04<35:49, 41.33s/it]No sentence-transformers model found with name /Users/chenyangkang/.cache/torch/sentence_transformers/uer_sbert-base-chinese-nli. Creating a new one with MEAN pooling.\n",
      "100%|██████████| 113/113 [00:00<00:00, 94225.91it/s]\n"
     ]
    },
    {
     "name": "stdout",
     "output_type": "stream",
     "text": [
      "Input data formatted\n",
      "Classifier stored in model.classifier; scores stored in model.cls_scores\n",
      "Regressor stored in model.regressor; scores stored in model.reg_scores\n",
      "--------------------------------------------------------\n",
      "#13 sz159880 有色ETF基金 \n",
      " |                |     mean |       std |\n",
      "|:---------------|---------:|----------:|\n",
      "| test_precision | 0.477002 | 0.134743  |\n",
      "| test_recall    | 0.410397 | 0.175337  |\n",
      "| test_roc_auc   | 0.517551 | 0.0880048 |\n",
      "| test_f1_score  | 0.420823 | 0.133882  | \n",
      " |                         |         mean |         std |\n",
      "|:------------------------|-------------:|------------:|\n",
      "| test_r2_score           | -0.169086    | 0.129906    |\n",
      "| test_mean_squared_error |  0.000308938 | 0.000165954 |\n",
      "| test_spearmanr          | -0.147373    | 0.238539    | \n",
      "\n",
      "--------------------------------------------------------\n"
     ]
    },
    {
     "name": "stderr",
     "output_type": "stream",
     "text": [
      " 22%|██▏       | 14/65 [09:48<35:37, 41.92s/it]No sentence-transformers model found with name /Users/chenyangkang/.cache/torch/sentence_transformers/uer_sbert-base-chinese-nli. Creating a new one with MEAN pooling.\n",
      "100%|██████████| 113/113 [00:00<00:00, 74044.11it/s]\n"
     ]
    },
    {
     "name": "stdout",
     "output_type": "stream",
     "text": [
      "Input data formatted\n",
      "Classifier stored in model.classifier; scores stored in model.cls_scores\n",
      "Regressor stored in model.regressor; scores stored in model.reg_scores\n",
      "--------------------------------------------------------\n",
      "#14 sh561300 矿业ETF \n",
      " |                |      mean |       std |\n",
      "|:---------------|----------:|----------:|\n",
      "| test_precision | 0.243333  | 0.311288  |\n",
      "| test_recall    | 0.0930159 | 0.108122  |\n",
      "| test_roc_auc   | 0.454072  | 0.0670939 |\n",
      "| test_f1_score  | 0.118718  | 0.131426  | \n",
      " |                         |         mean |         std |\n",
      "|:------------------------|-------------:|------------:|\n",
      "| test_r2_score           | -0.196091    | 0.148928    |\n",
      "| test_mean_squared_error |  9.73575e-05 | 4.15683e-05 |\n",
      "| test_spearmanr          | -0.0269823   | 0.163386    | \n",
      "\n",
      "--------------------------------------------------------\n"
     ]
    },
    {
     "name": "stderr",
     "output_type": "stream",
     "text": [
      " 23%|██▎       | 15/65 [10:27<34:11, 41.03s/it]No sentence-transformers model found with name /Users/chenyangkang/.cache/torch/sentence_transformers/uer_sbert-base-chinese-nli. Creating a new one with MEAN pooling.\n",
      "100%|██████████| 113/113 [00:00<00:00, 96156.70it/s]\n"
     ]
    },
    {
     "name": "stdout",
     "output_type": "stream",
     "text": [
      "Input data formatted\n",
      "Classifier stored in model.classifier; scores stored in model.cls_scores\n",
      "Regressor stored in model.regressor; scores stored in model.reg_scores\n",
      "--------------------------------------------------------\n",
      "#15 sz159650 国开ETF \n",
      " |                |     mean |      std |\n",
      "|:---------------|---------:|---------:|\n",
      "| test_precision | 0.592897 | 0.103812 |\n",
      "| test_recall    | 0.840476 | 0.213769 |\n",
      "| test_roc_auc   | 0.517738 | 0.100071 |\n",
      "| test_f1_score  | 0.672894 | 0.102605 | \n",
      " |                         |         mean |         std |\n",
      "|:------------------------|-------------:|------------:|\n",
      "| test_r2_score           | -0.479165    | 0.658492    |\n",
      "| test_mean_squared_error |  3.44832e-07 | 2.88751e-07 |\n",
      "| test_spearmanr          |  0.04        | 0.409145    | \n",
      "\n",
      "--------------------------------------------------------\n"
     ]
    },
    {
     "name": "stderr",
     "output_type": "stream",
     "text": [
      " 25%|██▍       | 16/65 [10:51<29:26, 36.04s/it]No sentence-transformers model found with name /Users/chenyangkang/.cache/torch/sentence_transformers/uer_sbert-base-chinese-nli. Creating a new one with MEAN pooling.\n",
      "100%|██████████| 113/113 [00:00<00:00, 71789.81it/s]\n"
     ]
    },
    {
     "name": "stdout",
     "output_type": "stream",
     "text": [
      "Input data formatted\n",
      "Classifier stored in model.classifier; scores stored in model.cls_scores\n",
      "Regressor stored in model.regressor; scores stored in model.reg_scores\n",
      "--------------------------------------------------------\n",
      "#16 sh512970 大湾区ETF \n",
      " |                |     mean |       std |\n",
      "|:---------------|---------:|----------:|\n",
      "| test_precision | 0.527551 | 0.134472  |\n",
      "| test_recall    | 0.593462 | 0.127853  |\n",
      "| test_roc_auc   | 0.480897 | 0.0876372 |\n",
      "| test_f1_score  | 0.542488 | 0.0969453 | \n",
      " |                         |         mean |        std |\n",
      "|:------------------------|-------------:|-----------:|\n",
      "| test_r2_score           | -0.222142    | 0.207823   |\n",
      "| test_mean_squared_error |  0.000262364 | 0.00014046 |\n",
      "| test_spearmanr          | -0.0554441   | 0.18936    | \n",
      "\n",
      "--------------------------------------------------------\n"
     ]
    },
    {
     "name": "stderr",
     "output_type": "stream",
     "text": [
      " 26%|██▌       | 17/65 [11:33<30:09, 37.70s/it]No sentence-transformers model found with name /Users/chenyangkang/.cache/torch/sentence_transformers/uer_sbert-base-chinese-nli. Creating a new one with MEAN pooling.\n",
      "100%|██████████| 113/113 [00:00<00:00, 83649.20it/s]\n"
     ]
    },
    {
     "name": "stdout",
     "output_type": "stream",
     "text": [
      "Input data formatted\n",
      "Classifier stored in model.classifier; scores stored in model.cls_scores\n",
      "Regressor stored in model.regressor; scores stored in model.reg_scores\n",
      "--------------------------------------------------------\n",
      "#17 sh588090 科创板ETF \n",
      " |                |     mean |       std |\n",
      "|:---------------|---------:|----------:|\n",
      "| test_precision | 0.48763  | 0.106383  |\n",
      "| test_recall    | 0.471129 | 0.0997782 |\n",
      "| test_roc_auc   | 0.486259 | 0.0932333 |\n",
      "| test_f1_score  | 0.465145 | 0.0733625 | \n",
      " |                         |         mean |         std |\n",
      "|:------------------------|-------------:|------------:|\n",
      "| test_r2_score           | -0.253876    | 0.143294    |\n",
      "| test_mean_squared_error |  0.000263997 | 0.000167532 |\n",
      "| test_spearmanr          | -0.16633     | 0.244295    | \n",
      "\n",
      "--------------------------------------------------------\n"
     ]
    },
    {
     "name": "stderr",
     "output_type": "stream",
     "text": [
      " 28%|██▊       | 18/65 [12:15<30:45, 39.27s/it]No sentence-transformers model found with name /Users/chenyangkang/.cache/torch/sentence_transformers/uer_sbert-base-chinese-nli. Creating a new one with MEAN pooling.\n",
      "100%|██████████| 113/113 [00:00<00:00, 87461.96it/s]\n"
     ]
    },
    {
     "name": "stdout",
     "output_type": "stream",
     "text": [
      "Input data formatted\n",
      "Classifier stored in model.classifier; scores stored in model.cls_scores\n",
      "Regressor stored in model.regressor; scores stored in model.reg_scores\n",
      "--------------------------------------------------------\n",
      "#18 sz159869 游戏ETF \n",
      " |                |     mean |      std |\n",
      "|:---------------|---------:|---------:|\n",
      "| test_precision | 0.531233 | 0.185622 |\n",
      "| test_recall    | 0.534535 | 0.202581 |\n",
      "| test_roc_auc   | 0.530485 | 0.169751 |\n",
      "| test_f1_score  | 0.508196 | 0.162042 | \n",
      " |                         |         mean |         std |\n",
      "|:------------------------|-------------:|------------:|\n",
      "| test_r2_score           | -0.123693    | 0.140104    |\n",
      "| test_mean_squared_error |  0.000316664 | 9.22203e-05 |\n",
      "| test_spearmanr          | -0.0521053   | 0.26522     | \n",
      "\n",
      "--------------------------------------------------------\n"
     ]
    },
    {
     "name": "stderr",
     "output_type": "stream",
     "text": [
      " 29%|██▉       | 19/65 [12:54<29:52, 38.98s/it]No sentence-transformers model found with name /Users/chenyangkang/.cache/torch/sentence_transformers/uer_sbert-base-chinese-nli. Creating a new one with MEAN pooling.\n",
      "100%|██████████| 113/113 [00:00<00:00, 77041.02it/s]\n"
     ]
    },
    {
     "name": "stdout",
     "output_type": "stream",
     "text": [
      "Input data formatted\n",
      "Classifier stored in model.classifier; scores stored in model.cls_scores\n",
      "Regressor stored in model.regressor; scores stored in model.reg_scores\n",
      "--------------------------------------------------------\n",
      "#19 sz159998 计算机ETF \n",
      " |                |     mean |      std |\n",
      "|:---------------|---------:|---------:|\n",
      "| test_precision | 0.516235 | 0.13857  |\n",
      "| test_recall    | 0.591437 | 0.157794 |\n",
      "| test_roc_auc   | 0.482266 | 0.14691  |\n",
      "| test_f1_score  | 0.538783 | 0.12994  | \n",
      " |                         |         mean |         std |\n",
      "|:------------------------|-------------:|------------:|\n",
      "| test_r2_score           | -0.119008    | 0.15329     |\n",
      "| test_mean_squared_error |  0.000292833 | 0.000113816 |\n",
      "| test_spearmanr          | -0.072807    | 0.215864    | \n",
      "\n",
      "--------------------------------------------------------\n"
     ]
    },
    {
     "name": "stderr",
     "output_type": "stream",
     "text": [
      " 31%|███       | 20/65 [13:35<29:42, 39.62s/it]No sentence-transformers model found with name /Users/chenyangkang/.cache/torch/sentence_transformers/uer_sbert-base-chinese-nli. Creating a new one with MEAN pooling.\n",
      "100%|██████████| 113/113 [00:00<00:00, 104718.59it/s]\n"
     ]
    },
    {
     "name": "stdout",
     "output_type": "stream",
     "text": [
      "Input data formatted\n",
      "Classifier stored in model.classifier; scores stored in model.cls_scores\n",
      "Regressor stored in model.regressor; scores stored in model.reg_scores\n",
      "--------------------------------------------------------\n",
      "#20 sh516510 云计算ETF \n",
      " |                |     mean |      std |\n",
      "|:---------------|---------:|---------:|\n",
      "| test_precision | 0.544167 | 0.222519 |\n",
      "| test_recall    | 0.375245 | 0.151653 |\n",
      "| test_roc_auc   | 0.522308 | 0.104668 |\n",
      "| test_f1_score  | 0.408099 | 0.120375 | \n",
      " |                         |         mean |         std |\n",
      "|:------------------------|-------------:|------------:|\n",
      "| test_r2_score           | -0.127482    | 0.128264    |\n",
      "| test_mean_squared_error |  0.000370886 | 0.000157021 |\n",
      "| test_spearmanr          | -0.0245059   | 0.285317    | \n",
      "\n",
      "--------------------------------------------------------\n"
     ]
    },
    {
     "name": "stderr",
     "output_type": "stream",
     "text": [
      " 32%|███▏      | 21/65 [14:16<29:28, 40.19s/it]No sentence-transformers model found with name /Users/chenyangkang/.cache/torch/sentence_transformers/uer_sbert-base-chinese-nli. Creating a new one with MEAN pooling.\n",
      "100%|██████████| 113/113 [00:00<00:00, 96000.88it/s]\n"
     ]
    },
    {
     "name": "stdout",
     "output_type": "stream",
     "text": [
      "Input data formatted\n",
      "Classifier stored in model.classifier; scores stored in model.cls_scores\n",
      "Regressor stored in model.regressor; scores stored in model.reg_scores\n",
      "--------------------------------------------------------\n",
      "#21 sh512670 国防ETF \n",
      " |                |     mean |      std |\n",
      "|:---------------|---------:|---------:|\n",
      "| test_precision | 0.440693 | 0.232025 |\n",
      "| test_recall    | 0.383321 | 0.2131   |\n",
      "| test_roc_auc   | 0.488816 | 0.11262  |\n",
      "| test_f1_score  | 0.376476 | 0.175859 | \n",
      " |                         |         mean |         std |\n",
      "|:------------------------|-------------:|------------:|\n",
      "| test_r2_score           | -0.0346434   | 0.0818973   |\n",
      "| test_mean_squared_error |  0.000298496 | 0.000186851 |\n",
      "| test_spearmanr          | -0.0268421   | 0.159728    | \n",
      "\n",
      "--------------------------------------------------------\n"
     ]
    },
    {
     "name": "stderr",
     "output_type": "stream",
     "text": [
      " 34%|███▍      | 22/65 [14:58<29:04, 40.56s/it]No sentence-transformers model found with name /Users/chenyangkang/.cache/torch/sentence_transformers/uer_sbert-base-chinese-nli. Creating a new one with MEAN pooling.\n",
      "100%|██████████| 113/113 [00:00<00:00, 70856.08it/s]\n"
     ]
    },
    {
     "name": "stdout",
     "output_type": "stream",
     "text": [
      "Input data formatted\n",
      "Classifier stored in model.classifier; scores stored in model.cls_scores\n",
      "Regressor stored in model.regressor; scores stored in model.reg_scores\n",
      "--------------------------------------------------------\n",
      "#22 sh515210 钢铁ETF \n",
      " |                |     mean |      std |\n",
      "|:---------------|---------:|---------:|\n",
      "| test_precision | 0.520346 | 0.143635 |\n",
      "| test_recall    | 0.52803  | 0.199655 |\n",
      "| test_roc_auc   | 0.505238 | 0.13446  |\n",
      "| test_f1_score  | 0.504829 | 0.138934 | \n",
      " |                         |         mean |        std |\n",
      "|:------------------------|-------------:|-----------:|\n",
      "| test_r2_score           | -0.143027    | 0.142447   |\n",
      "| test_mean_squared_error |  0.000148663 | 6.3726e-05 |\n",
      "| test_spearmanr          | -0.0414072   | 0.154439   | \n",
      "\n",
      "--------------------------------------------------------\n"
     ]
    },
    {
     "name": "stderr",
     "output_type": "stream",
     "text": [
      " 35%|███▌      | 23/65 [15:40<28:37, 40.89s/it]No sentence-transformers model found with name /Users/chenyangkang/.cache/torch/sentence_transformers/uer_sbert-base-chinese-nli. Creating a new one with MEAN pooling.\n",
      "100%|██████████| 113/113 [00:00<00:00, 86725.77it/s]\n"
     ]
    },
    {
     "name": "stdout",
     "output_type": "stream",
     "text": [
      "Input data formatted\n",
      "Classifier stored in model.classifier; scores stored in model.cls_scores\n",
      "Regressor stored in model.regressor; scores stored in model.reg_scores\n",
      "--------------------------------------------------------\n",
      "#23 sz159825 农业ETF \n",
      " |                |     mean |      std |\n",
      "|:---------------|---------:|---------:|\n",
      "| test_precision | 0.44315  | 0.158855 |\n",
      "| test_recall    | 0.364394 | 0.201873 |\n",
      "| test_roc_auc   | 0.482083 | 0.085712 |\n",
      "| test_f1_score  | 0.363543 | 0.105848 | \n",
      " |                         |         mean |         std |\n",
      "|:------------------------|-------------:|------------:|\n",
      "| test_r2_score           | -0.157438    | 0.0734062   |\n",
      "| test_mean_squared_error |  0.000136083 | 6.21382e-05 |\n",
      "| test_spearmanr          | -0.0491842   | 0.116233    | \n",
      "\n",
      "--------------------------------------------------------\n"
     ]
    },
    {
     "name": "stderr",
     "output_type": "stream",
     "text": [
      " 37%|███▋      | 24/65 [16:19<27:42, 40.54s/it]No sentence-transformers model found with name /Users/chenyangkang/.cache/torch/sentence_transformers/uer_sbert-base-chinese-nli. Creating a new one with MEAN pooling.\n",
      "100%|██████████| 113/113 [00:00<00:00, 98864.49it/s]\n"
     ]
    },
    {
     "name": "stdout",
     "output_type": "stream",
     "text": [
      "Input data formatted\n",
      "Classifier stored in model.classifier; scores stored in model.cls_scores\n",
      "Regressor stored in model.regressor; scores stored in model.reg_scores\n",
      "--------------------------------------------------------\n",
      "#24 sz159996 家电ETF \n",
      " |                |     mean |      std |\n",
      "|:---------------|---------:|---------:|\n",
      "| test_precision | 0.457698 | 0.239979 |\n",
      "| test_recall    | 0.298042 | 0.161173 |\n",
      "| test_roc_auc   | 0.464894 | 0.102572 |\n",
      "| test_f1_score  | 0.327052 | 0.147537 | \n",
      " |                         |         mean |         std |\n",
      "|:------------------------|-------------:|------------:|\n",
      "| test_r2_score           | -0.206149    | 0.136484    |\n",
      "| test_mean_squared_error |  0.000185705 | 7.33906e-05 |\n",
      "| test_spearmanr          | -0.0487783   | 0.243386    | \n",
      "\n",
      "--------------------------------------------------------\n"
     ]
    },
    {
     "name": "stderr",
     "output_type": "stream",
     "text": [
      " 38%|███▊      | 25/65 [17:00<27:08, 40.72s/it]No sentence-transformers model found with name /Users/chenyangkang/.cache/torch/sentence_transformers/uer_sbert-base-chinese-nli. Creating a new one with MEAN pooling.\n",
      "100%|██████████| 113/113 [00:00<00:00, 93372.02it/s]\n"
     ]
    },
    {
     "name": "stdout",
     "output_type": "stream",
     "text": [
      "Input data formatted\n",
      "Classifier stored in model.classifier; scores stored in model.cls_scores\n",
      "Regressor stored in model.regressor; scores stored in model.reg_scores\n",
      "--------------------------------------------------------\n",
      "#25 sz159865 养殖ETF \n",
      " |                |     mean |      std |\n",
      "|:---------------|---------:|---------:|\n",
      "| test_precision | 0.526973 | 0.166744 |\n",
      "| test_recall    | 0.464437 | 0.16878  |\n",
      "| test_roc_auc   | 0.532936 | 0.093182 |\n",
      "| test_f1_score  | 0.460545 | 0.087539 | \n",
      " |                         |         mean |         std |\n",
      "|:------------------------|-------------:|------------:|\n",
      "| test_r2_score           | -0.0909688   | 0.0681099   |\n",
      "| test_mean_squared_error |  0.000206115 | 0.000100205 |\n",
      "| test_spearmanr          |  0.0318402   | 0.158455    | \n",
      "\n",
      "--------------------------------------------------------\n"
     ]
    },
    {
     "name": "stderr",
     "output_type": "stream",
     "text": [
      " 40%|████      | 26/65 [17:40<26:15, 40.41s/it]No sentence-transformers model found with name /Users/chenyangkang/.cache/torch/sentence_transformers/uer_sbert-base-chinese-nli. Creating a new one with MEAN pooling.\n",
      "100%|██████████| 113/113 [00:00<00:00, 80495.30it/s]\n"
     ]
    },
    {
     "name": "stdout",
     "output_type": "stream",
     "text": [
      "Input data formatted\n",
      "Classifier stored in model.classifier; scores stored in model.cls_scores\n",
      "Regressor stored in model.regressor; scores stored in model.reg_scores\n",
      "--------------------------------------------------------\n",
      "#26 sh515230 软件ETF \n",
      " |                |     mean |       std |\n",
      "|:---------------|---------:|----------:|\n",
      "| test_precision | 0.553961 | 0.182662  |\n",
      "| test_recall    | 0.675237 | 0.0851921 |\n",
      "| test_roc_auc   | 0.516217 | 0.113978  |\n",
      "| test_f1_score  | 0.585547 | 0.102358  | \n",
      " |                         |         mean |         std |\n",
      "|:------------------------|-------------:|------------:|\n",
      "| test_r2_score           | -0.131175    | 0.183868    |\n",
      "| test_mean_squared_error |  0.000373575 | 0.000149365 |\n",
      "| test_spearmanr          | -0.0451709   | 0.212412    | \n",
      "\n",
      "--------------------------------------------------------\n"
     ]
    },
    {
     "name": "stderr",
     "output_type": "stream",
     "text": [
      " 42%|████▏     | 27/65 [18:21<25:45, 40.66s/it]No sentence-transformers model found with name /Users/chenyangkang/.cache/torch/sentence_transformers/uer_sbert-base-chinese-nli. Creating a new one with MEAN pooling.\n",
      "100%|██████████| 113/113 [00:00<00:00, 107643.96it/s]\n"
     ]
    },
    {
     "name": "stdout",
     "output_type": "stream",
     "text": [
      "Input data formatted\n",
      "Classifier stored in model.classifier; scores stored in model.cls_scores\n",
      "Regressor stored in model.regressor; scores stored in model.reg_scores\n",
      "--------------------------------------------------------\n",
      "#27 sh512980 传媒ETF \n",
      " |                |     mean |       std |\n",
      "|:---------------|---------:|----------:|\n",
      "| test_precision | 0.476709 | 0.102685  |\n",
      "| test_recall    | 0.539714 | 0.154746  |\n",
      "| test_roc_auc   | 0.454576 | 0.0529537 |\n",
      "| test_f1_score  | 0.48372  | 0.0699382 | \n",
      " |                         |         mean |         std |\n",
      "|:------------------------|-------------:|------------:|\n",
      "| test_r2_score           | -0.0622345   | 0.137759    |\n",
      "| test_mean_squared_error |  0.000232865 | 8.31528e-05 |\n",
      "| test_spearmanr          |  0.142215    | 0.171398    | \n",
      "\n",
      "--------------------------------------------------------\n"
     ]
    },
    {
     "name": "stderr",
     "output_type": "stream",
     "text": [
      " 43%|████▎     | 28/65 [19:00<24:39, 39.98s/it]No sentence-transformers model found with name /Users/chenyangkang/.cache/torch/sentence_transformers/uer_sbert-base-chinese-nli. Creating a new one with MEAN pooling.\n",
      "100%|██████████| 113/113 [00:00<00:00, 76309.19it/s]\n"
     ]
    },
    {
     "name": "stdout",
     "output_type": "stream",
     "text": [
      "Input data formatted\n",
      "Classifier stored in model.classifier; scores stored in model.cls_scores\n",
      "Regressor stored in model.regressor; scores stored in model.reg_scores\n",
      "--------------------------------------------------------\n",
      "#28 sh513360 教育ETF \n",
      " |                |     mean |      std |\n",
      "|:---------------|---------:|---------:|\n",
      "| test_precision | 0.43119  | 0.283972 |\n",
      "| test_recall    | 0.179776 | 0.100575 |\n",
      "| test_roc_auc   | 0.483963 | 0.08424  |\n",
      "| test_f1_score  | 0.236291 | 0.132304 | \n",
      " |                         |         mean |         std |\n",
      "|:------------------------|-------------:|------------:|\n",
      "| test_r2_score           | -0.109073    | 0.114592    |\n",
      "| test_mean_squared_error |  0.000385346 | 0.000206554 |\n",
      "| test_spearmanr          | -0.0560599   | 0.238408    | \n",
      "\n",
      "--------------------------------------------------------\n"
     ]
    },
    {
     "name": "stderr",
     "output_type": "stream",
     "text": [
      " 45%|████▍     | 29/65 [19:41<24:12, 40.35s/it]No sentence-transformers model found with name /Users/chenyangkang/.cache/torch/sentence_transformers/uer_sbert-base-chinese-nli. Creating a new one with MEAN pooling.\n",
      "100%|██████████| 113/113 [00:00<00:00, 82226.99it/s]\n"
     ]
    },
    {
     "name": "stdout",
     "output_type": "stream",
     "text": [
      "Input data formatted\n",
      "Classifier stored in model.classifier; scores stored in model.cls_scores\n",
      "Regressor stored in model.regressor; scores stored in model.reg_scores\n",
      "--------------------------------------------------------\n",
      "#29 sz159840 锂电池ETF \n",
      " |                |     mean |       std |\n",
      "|:---------------|---------:|----------:|\n",
      "| test_precision | 0.504266 | 0.164628  |\n",
      "| test_recall    | 0.51355  | 0.239219  |\n",
      "| test_roc_auc   | 0.525386 | 0.0788825 |\n",
      "| test_f1_score  | 0.448834 | 0.106094  | \n",
      " |                         |       mean |         std |\n",
      "|:------------------------|-----------:|------------:|\n",
      "| test_r2_score           | -0.203127  | 0.277645    |\n",
      "| test_mean_squared_error |  0.000428  | 0.000263607 |\n",
      "| test_spearmanr          |  0.0248249 | 0.203099    | \n",
      "\n",
      "--------------------------------------------------------\n"
     ]
    },
    {
     "name": "stderr",
     "output_type": "stream",
     "text": [
      " 46%|████▌     | 30/65 [20:22<23:40, 40.57s/it]No sentence-transformers model found with name /Users/chenyangkang/.cache/torch/sentence_transformers/uer_sbert-base-chinese-nli. Creating a new one with MEAN pooling.\n",
      "100%|██████████| 113/113 [00:00<00:00, 94564.32it/s]\n"
     ]
    },
    {
     "name": "stdout",
     "output_type": "stream",
     "text": [
      "Input data formatted\n",
      "Classifier stored in model.classifier; scores stored in model.cls_scores\n",
      "Regressor stored in model.regressor; scores stored in model.reg_scores\n",
      "--------------------------------------------------------\n",
      "#30 sh512200 房地产ETF \n",
      " |                |     mean |      std |\n",
      "|:---------------|---------:|---------:|\n",
      "| test_precision | 0.438408 | 0.116737 |\n",
      "| test_recall    | 0.533026 | 0.239657 |\n",
      "| test_roc_auc   | 0.397524 | 0.12041  |\n",
      "| test_f1_score  | 0.460372 | 0.142824 | \n",
      " |                         |         mean |         std |\n",
      "|:------------------------|-------------:|------------:|\n",
      "| test_r2_score           | -0.19544     | 0.269379    |\n",
      "| test_mean_squared_error |  0.000260187 | 0.000106914 |\n",
      "| test_spearmanr          |  0.00631579  | 0.169385    | \n",
      "\n",
      "--------------------------------------------------------\n"
     ]
    },
    {
     "name": "stderr",
     "output_type": "stream",
     "text": [
      " 48%|████▊     | 31/65 [21:04<23:11, 40.94s/it]No sentence-transformers model found with name /Users/chenyangkang/.cache/torch/sentence_transformers/uer_sbert-base-chinese-nli. Creating a new one with MEAN pooling.\n",
      "100%|██████████| 113/113 [00:00<00:00, 66426.96it/s]\n"
     ]
    },
    {
     "name": "stdout",
     "output_type": "stream",
     "text": [
      "Input data formatted\n",
      "Classifier stored in model.classifier; scores stored in model.cls_scores\n",
      "Regressor stored in model.regressor; scores stored in model.reg_scores\n",
      "--------------------------------------------------------\n",
      "#31 sh516970 基建50ETF \n",
      " |                |     mean |      std |\n",
      "|:---------------|---------:|---------:|\n",
      "| test_precision | 0.497222 | 0.142989 |\n",
      "| test_recall    | 0.54026  | 0.177521 |\n",
      "| test_roc_auc   | 0.489852 | 0.10013  |\n",
      "| test_f1_score  | 0.503043 | 0.112576 | \n",
      " |                         |         mean |         std |\n",
      "|:------------------------|-------------:|------------:|\n",
      "| test_r2_score           | -0.267643    | 0.245567    |\n",
      "| test_mean_squared_error |  0.000201853 | 9.74093e-05 |\n",
      "| test_spearmanr          | -0.118055    | 0.200771    | \n",
      "\n",
      "--------------------------------------------------------\n"
     ]
    },
    {
     "name": "stderr",
     "output_type": "stream",
     "text": [
      " 49%|████▉     | 32/65 [21:44<22:22, 40.68s/it]No sentence-transformers model found with name /Users/chenyangkang/.cache/torch/sentence_transformers/uer_sbert-base-chinese-nli. Creating a new one with MEAN pooling.\n",
      "100%|██████████| 113/113 [00:00<00:00, 64907.74it/s]\n"
     ]
    },
    {
     "name": "stdout",
     "output_type": "stream",
     "text": [
      "Input data formatted\n",
      "Classifier stored in model.classifier; scores stored in model.cls_scores\n",
      "Regressor stored in model.regressor; scores stored in model.reg_scores\n",
      "--------------------------------------------------------\n",
      "#32 sz159766 旅游ETF \n",
      " |                |     mean |      std |\n",
      "|:---------------|---------:|---------:|\n",
      "| test_precision | 0.478739 | 0.20815  |\n",
      "| test_recall    | 0.555754 | 0.127238 |\n",
      "| test_roc_auc   | 0.436959 | 0.11863  |\n",
      "| test_f1_score  | 0.496184 | 0.146874 | \n",
      " |                         |        mean |        std |\n",
      "|:------------------------|------------:|-----------:|\n",
      "| test_r2_score           | -0.148516   | 0.14198    |\n",
      "| test_mean_squared_error |  0.00043841 | 0.00027719 |\n",
      "| test_spearmanr          |  0.0198246  | 0.168198   | \n",
      "\n",
      "--------------------------------------------------------\n"
     ]
    },
    {
     "name": "stderr",
     "output_type": "stream",
     "text": [
      " 51%|█████     | 33/65 [22:26<21:58, 41.19s/it]No sentence-transformers model found with name /Users/chenyangkang/.cache/torch/sentence_transformers/uer_sbert-base-chinese-nli. Creating a new one with MEAN pooling.\n",
      "100%|██████████| 113/113 [00:00<00:00, 77876.50it/s]\n"
     ]
    },
    {
     "name": "stdout",
     "output_type": "stream",
     "text": [
      "Input data formatted\n",
      "Classifier stored in model.classifier; scores stored in model.cls_scores\n",
      "Regressor stored in model.regressor; scores stored in model.reg_scores\n",
      "--------------------------------------------------------\n",
      "#33 sz159934 黄金ETF \n",
      " |                |     mean |       std |\n",
      "|:---------------|---------:|----------:|\n",
      "| test_precision | 0.546797 | 0.210389  |\n",
      "| test_recall    | 0.326014 | 0.110831  |\n",
      "| test_roc_auc   | 0.523175 | 0.0921533 |\n",
      "| test_f1_score  | 0.384298 | 0.10468   | \n",
      " |                         |         mean |         std |\n",
      "|:------------------------|-------------:|------------:|\n",
      "| test_r2_score           | -0.0654373   | 0.164357    |\n",
      "| test_mean_squared_error |  5.59925e-06 | 2.26119e-06 |\n",
      "| test_spearmanr          |  0.160271    | 0.209758    | \n",
      "\n",
      "--------------------------------------------------------\n"
     ]
    },
    {
     "name": "stderr",
     "output_type": "stream",
     "text": [
      " 52%|█████▏    | 34/65 [23:06<21:06, 40.84s/it]No sentence-transformers model found with name /Users/chenyangkang/.cache/torch/sentence_transformers/uer_sbert-base-chinese-nli. Creating a new one with MEAN pooling.\n",
      "100%|██████████| 113/113 [00:00<00:00, 70834.91it/s]\n"
     ]
    },
    {
     "name": "stdout",
     "output_type": "stream",
     "text": [
      "Input data formatted\n",
      "Classifier stored in model.classifier; scores stored in model.cls_scores\n",
      "Regressor stored in model.regressor; scores stored in model.reg_scores\n",
      "--------------------------------------------------------\n",
      "#34 sh512400 有色金属ETF \n",
      " |                |     mean |      std |\n",
      "|:---------------|---------:|---------:|\n",
      "| test_precision | 0.520556 | 0.195342 |\n",
      "| test_recall    | 0.458434 | 0.193798 |\n",
      "| test_roc_auc   | 0.534742 | 0.141772 |\n",
      "| test_f1_score  | 0.475814 | 0.173431 | \n",
      " |                         |         mean |         std |\n",
      "|:------------------------|-------------:|------------:|\n",
      "| test_r2_score           | -0.0737439   | 0.116557    |\n",
      "| test_mean_squared_error |  0.000288731 | 0.000162394 |\n",
      "| test_spearmanr          | -0.00271425  | 0.219818    | \n",
      "\n",
      "--------------------------------------------------------\n"
     ]
    },
    {
     "name": "stderr",
     "output_type": "stream",
     "text": [
      " 54%|█████▍    | 35/65 [23:48<20:31, 41.03s/it]No sentence-transformers model found with name /Users/chenyangkang/.cache/torch/sentence_transformers/uer_sbert-base-chinese-nli. Creating a new one with MEAN pooling.\n",
      "100%|██████████| 113/113 [00:00<00:00, 71207.38it/s]\n"
     ]
    },
    {
     "name": "stdout",
     "output_type": "stream",
     "text": [
      "Input data formatted\n",
      "Classifier stored in model.classifier; scores stored in model.cls_scores\n",
      "Regressor stored in model.regressor; scores stored in model.reg_scores\n",
      "--------------------------------------------------------\n",
      "#35 sh515880 通讯ETF \n",
      " |                |     mean |      std |\n",
      "|:---------------|---------:|---------:|\n",
      "| test_precision | 0.549653 | 0.159637 |\n",
      "| test_recall    | 0.687084 | 0.148135 |\n",
      "| test_roc_auc   | 0.516681 | 0.1137   |\n",
      "| test_f1_score  | 0.589741 | 0.107431 | \n",
      " |                         |         mean |         std |\n",
      "|:------------------------|-------------:|------------:|\n",
      "| test_r2_score           | -0.123274    | 0.110578    |\n",
      "| test_mean_squared_error |  0.000240075 | 9.06518e-05 |\n",
      "| test_spearmanr          | -0.0738826   | 0.187091    | \n",
      "\n",
      "--------------------------------------------------------\n"
     ]
    },
    {
     "name": "stderr",
     "output_type": "stream",
     "text": [
      " 55%|█████▌    | 36/65 [24:25<19:20, 40.01s/it]No sentence-transformers model found with name /Users/chenyangkang/.cache/torch/sentence_transformers/uer_sbert-base-chinese-nli. Creating a new one with MEAN pooling.\n",
      "100%|██████████| 113/113 [00:00<00:00, 70372.14it/s]\n"
     ]
    },
    {
     "name": "stdout",
     "output_type": "stream",
     "text": [
      "Input data formatted\n",
      "Classifier stored in model.classifier; scores stored in model.cls_scores\n",
      "Regressor stored in model.regressor; scores stored in model.reg_scores\n",
      "--------------------------------------------------------\n",
      "#36 sh516110 汽车ETF \n",
      " |                |     mean |      std |\n",
      "|:---------------|---------:|---------:|\n",
      "| test_precision | 0.594266 | 0.158112 |\n",
      "| test_recall    | 0.537222 | 0.193084 |\n",
      "| test_roc_auc   | 0.586849 | 0.112909 |\n",
      "| test_f1_score  | 0.542781 | 0.162199 | \n",
      " |                         |         mean |         std |\n",
      "|:------------------------|-------------:|------------:|\n",
      "| test_r2_score           | -0.0968723   | 0.125997    |\n",
      "| test_mean_squared_error |  0.000350019 | 0.000235079 |\n",
      "| test_spearmanr          |  0.0721053   | 0.217618    | \n",
      "\n",
      "--------------------------------------------------------\n"
     ]
    },
    {
     "name": "stderr",
     "output_type": "stream",
     "text": [
      " 57%|█████▋    | 37/65 [25:08<19:04, 40.87s/it]No sentence-transformers model found with name /Users/chenyangkang/.cache/torch/sentence_transformers/uer_sbert-base-chinese-nli. Creating a new one with MEAN pooling.\n",
      "100%|██████████| 113/113 [00:00<00:00, 92317.17it/s]\n"
     ]
    },
    {
     "name": "stdout",
     "output_type": "stream",
     "text": [
      "Input data formatted\n",
      "Classifier stored in model.classifier; scores stored in model.cls_scores\n",
      "Regressor stored in model.regressor; scores stored in model.reg_scores\n",
      "--------------------------------------------------------\n",
      "#37 sz159992 创新药ETF \n",
      " |                |     mean |       std |\n",
      "|:---------------|---------:|----------:|\n",
      "| test_precision | 0.478929 | 0.187496  |\n",
      "| test_recall    | 0.315556 | 0.12916   |\n",
      "| test_roc_auc   | 0.513059 | 0.0822802 |\n",
      "| test_f1_score  | 0.363712 | 0.135692  | \n",
      " |                         |         mean |         std |\n",
      "|:------------------------|-------------:|------------:|\n",
      "| test_r2_score           | -0.195147    | 0.170475    |\n",
      "| test_mean_squared_error |  0.000326307 | 0.000170584 |\n",
      "| test_spearmanr          |  0.0384352   | 0.104431    | \n",
      "\n",
      "--------------------------------------------------------\n"
     ]
    },
    {
     "name": "stderr",
     "output_type": "stream",
     "text": [
      " 58%|█████▊    | 38/65 [25:49<18:23, 40.88s/it]No sentence-transformers model found with name /Users/chenyangkang/.cache/torch/sentence_transformers/uer_sbert-base-chinese-nli. Creating a new one with MEAN pooling.\n",
      "100%|██████████| 113/113 [00:00<00:00, 74886.45it/s]\n"
     ]
    },
    {
     "name": "stdout",
     "output_type": "stream",
     "text": [
      "Input data formatted\n",
      "Classifier stored in model.classifier; scores stored in model.cls_scores\n",
      "Regressor stored in model.regressor; scores stored in model.reg_scores\n",
      "--------------------------------------------------------\n",
      "#38 sz159607 中概互联网ETF \n",
      " |                |     mean |       std |\n",
      "|:---------------|---------:|----------:|\n",
      "| test_precision | 0.458333 | 0.366458  |\n",
      "| test_recall    | 0.189802 | 0.150936  |\n",
      "| test_roc_auc   | 0.515403 | 0.0831167 |\n",
      "| test_f1_score  | 0.245243 | 0.176597  | \n",
      " |                         |         mean |         std |\n",
      "|:------------------------|-------------:|------------:|\n",
      "| test_r2_score           | -0.21292     | 0.26881     |\n",
      "| test_mean_squared_error |  0.000555687 | 0.000419716 |\n",
      "| test_spearmanr          | -0.0221053   | 0.200194    | \n",
      "\n",
      "--------------------------------------------------------\n"
     ]
    },
    {
     "name": "stderr",
     "output_type": "stream",
     "text": [
      " 60%|██████    | 39/65 [26:30<17:42, 40.87s/it]No sentence-transformers model found with name /Users/chenyangkang/.cache/torch/sentence_transformers/uer_sbert-base-chinese-nli. Creating a new one with MEAN pooling.\n",
      "100%|██████████| 113/113 [00:00<00:00, 67256.47it/s]\n"
     ]
    },
    {
     "name": "stdout",
     "output_type": "stream",
     "text": [
      "Input data formatted\n",
      "Classifier stored in model.classifier; scores stored in model.cls_scores\n",
      "Regressor stored in model.regressor; scores stored in model.reg_scores\n",
      "--------------------------------------------------------\n",
      "#39 sz159928 消费ETF \n",
      " |                |     mean |       std |\n",
      "|:---------------|---------:|----------:|\n",
      "| test_precision | 0.614524 | 0.220051  |\n",
      "| test_recall    | 0.363214 | 0.090503  |\n",
      "| test_roc_auc   | 0.585925 | 0.0865645 |\n",
      "| test_f1_score  | 0.4501   | 0.120076  | \n",
      " |                         |         mean |         std |\n",
      "|:------------------------|-------------:|------------:|\n",
      "| test_r2_score           | -0.260228    | 0.184646    |\n",
      "| test_mean_squared_error |  0.000187307 | 0.000108402 |\n",
      "| test_spearmanr          |  0.00649161  | 0.159188    | \n",
      "\n",
      "--------------------------------------------------------\n"
     ]
    },
    {
     "name": "stderr",
     "output_type": "stream",
     "text": [
      " 62%|██████▏   | 40/65 [27:10<16:53, 40.52s/it]No sentence-transformers model found with name /Users/chenyangkang/.cache/torch/sentence_transformers/uer_sbert-base-chinese-nli. Creating a new one with MEAN pooling.\n",
      "100%|██████████| 113/113 [00:00<00:00, 85923.92it/s]\n"
     ]
    },
    {
     "name": "stdout",
     "output_type": "stream",
     "text": [
      "Input data formatted\n",
      "Classifier stored in model.classifier; scores stored in model.cls_scores\n",
      "Regressor stored in model.regressor; scores stored in model.reg_scores\n",
      "--------------------------------------------------------\n",
      "#40 sh515220 煤炭ETF \n",
      " |                |     mean |       std |\n",
      "|:---------------|---------:|----------:|\n",
      "| test_precision | 0.546024 | 0.0961508 |\n",
      "| test_recall    | 0.750519 | 0.118612  |\n",
      "| test_roc_auc   | 0.48509  | 0.0639411 |\n",
      "| test_f1_score  | 0.624362 | 0.0817358 | \n",
      " |                         |         mean |         std |\n",
      "|:------------------------|-------------:|------------:|\n",
      "| test_r2_score           | -0.068286    | 0.102035    |\n",
      "| test_mean_squared_error |  0.000298003 | 0.000148993 |\n",
      "| test_spearmanr          |  0.0807018   | 0.220626    | \n",
      "\n",
      "--------------------------------------------------------\n"
     ]
    },
    {
     "name": "stderr",
     "output_type": "stream",
     "text": [
      " 63%|██████▎   | 41/65 [27:52<16:23, 40.99s/it]No sentence-transformers model found with name /Users/chenyangkang/.cache/torch/sentence_transformers/uer_sbert-base-chinese-nli. Creating a new one with MEAN pooling.\n",
      "100%|██████████| 113/113 [00:00<00:00, 84199.03it/s]\n"
     ]
    },
    {
     "name": "stdout",
     "output_type": "stream",
     "text": [
      "Input data formatted\n",
      "Classifier stored in model.classifier; scores stored in model.cls_scores\n",
      "Regressor stored in model.regressor; scores stored in model.reg_scores\n",
      "--------------------------------------------------------\n",
      "#41 sz159819 人工智能ETF \n",
      " |                |     mean |       std |\n",
      "|:---------------|---------:|----------:|\n",
      "| test_precision | 0.443752 | 0.148612  |\n",
      "| test_recall    | 0.400455 | 0.140231  |\n",
      "| test_roc_auc   | 0.457563 | 0.0966676 |\n",
      "| test_f1_score  | 0.407245 | 0.127032  | \n",
      " |                         |         mean |         std |\n",
      "|:------------------------|-------------:|------------:|\n",
      "| test_r2_score           | -0.154751    | 0.0862568   |\n",
      "| test_mean_squared_error |  0.000309426 | 0.000110716 |\n",
      "| test_spearmanr          | -0.102127    | 0.179511    | \n",
      "\n",
      "--------------------------------------------------------\n"
     ]
    },
    {
     "name": "stderr",
     "output_type": "stream",
     "text": [
      " 65%|██████▍   | 42/65 [28:32<15:35, 40.70s/it]No sentence-transformers model found with name /Users/chenyangkang/.cache/torch/sentence_transformers/uer_sbert-base-chinese-nli. Creating a new one with MEAN pooling.\n",
      "100%|██████████| 113/113 [00:00<00:00, 81519.84it/s]\n"
     ]
    },
    {
     "name": "stdout",
     "output_type": "stream",
     "text": [
      "Input data formatted\n",
      "Classifier stored in model.classifier; scores stored in model.cls_scores\n",
      "Regressor stored in model.regressor; scores stored in model.reg_scores\n",
      "--------------------------------------------------------\n",
      "#42 sh516160 新能源ETF \n",
      " |                |     mean |      std |\n",
      "|:---------------|---------:|---------:|\n",
      "| test_precision | 0.552471 | 0.21046  |\n",
      "| test_recall    | 0.451801 | 0.177846 |\n",
      "| test_roc_auc   | 0.543678 | 0.116574 |\n",
      "| test_f1_score  | 0.460029 | 0.13223  | \n",
      " |                         |         mean |         std |\n",
      "|:------------------------|-------------:|------------:|\n",
      "| test_r2_score           | -0.0590615   | 0.132455    |\n",
      "| test_mean_squared_error |  0.000349846 | 0.000197276 |\n",
      "| test_spearmanr          |  0.153967    | 0.228135    | \n",
      "\n",
      "--------------------------------------------------------\n"
     ]
    },
    {
     "name": "stderr",
     "output_type": "stream",
     "text": [
      " 66%|██████▌   | 43/65 [29:14<15:04, 41.13s/it]No sentence-transformers model found with name /Users/chenyangkang/.cache/torch/sentence_transformers/uer_sbert-base-chinese-nli. Creating a new one with MEAN pooling.\n",
      "100%|██████████| 113/113 [00:00<00:00, 68313.11it/s]\n"
     ]
    },
    {
     "name": "stdout",
     "output_type": "stream",
     "text": [
      "Input data formatted\n",
      "Classifier stored in model.classifier; scores stored in model.cls_scores\n",
      "Regressor stored in model.regressor; scores stored in model.reg_scores\n",
      "--------------------------------------------------------\n",
      "#43 sz159740 恒生科技ETF \n",
      " |                |     mean |       std |\n",
      "|:---------------|---------:|----------:|\n",
      "| test_precision | 0.485    | 0.271462  |\n",
      "| test_recall    | 0.222381 | 0.105598  |\n",
      "| test_roc_auc   | 0.512228 | 0.0845902 |\n",
      "| test_f1_score  | 0.291905 | 0.128203  | \n",
      " |                         |         mean |        std |\n",
      "|:------------------------|-------------:|-----------:|\n",
      "| test_r2_score           | -0.246722    | 0.334426   |\n",
      "| test_mean_squared_error |  0.000454393 | 0.00034918 |\n",
      "| test_spearmanr          |  0.00807957  | 0.119032   | \n",
      "\n",
      "--------------------------------------------------------\n"
     ]
    },
    {
     "name": "stderr",
     "output_type": "stream",
     "text": [
      " 68%|██████▊   | 44/65 [29:53<14:09, 40.45s/it]No sentence-transformers model found with name /Users/chenyangkang/.cache/torch/sentence_transformers/uer_sbert-base-chinese-nli. Creating a new one with MEAN pooling.\n",
      "100%|██████████| 113/113 [00:00<00:00, 70940.93it/s]\n"
     ]
    },
    {
     "name": "stdout",
     "output_type": "stream",
     "text": [
      "Input data formatted\n",
      "Classifier stored in model.classifier; scores stored in model.cls_scores\n",
      "Regressor stored in model.regressor; scores stored in model.reg_scores\n",
      "--------------------------------------------------------\n",
      "#44 sh512800 银行ETF \n",
      " |                |     mean |      std |\n",
      "|:---------------|---------:|---------:|\n",
      "| test_precision | 0.508528 | 0.114689 |\n",
      "| test_recall    | 0.54447  | 0.11449  |\n",
      "| test_roc_auc   | 0.48358  | 0.102391 |\n",
      "| test_f1_score  | 0.520934 | 0.100933 | \n",
      " |                         |         mean |         std |\n",
      "|:------------------------|-------------:|------------:|\n",
      "| test_r2_score           | -0.152546    | 0.180573    |\n",
      "| test_mean_squared_error |  8.61047e-05 | 3.49633e-05 |\n",
      "| test_spearmanr          |  0.0409725   | 0.121153    | \n",
      "\n",
      "--------------------------------------------------------\n"
     ]
    },
    {
     "name": "stderr",
     "output_type": "stream",
     "text": [
      " 69%|██████▉   | 45/65 [30:34<13:30, 40.54s/it]No sentence-transformers model found with name /Users/chenyangkang/.cache/torch/sentence_transformers/uer_sbert-base-chinese-nli. Creating a new one with MEAN pooling.\n",
      "100%|██████████| 113/113 [00:00<00:00, 75338.79it/s]\n"
     ]
    },
    {
     "name": "stdout",
     "output_type": "stream",
     "text": [
      "Input data formatted\n",
      "Classifier stored in model.classifier; scores stored in model.cls_scores\n",
      "Regressor stored in model.regressor; scores stored in model.reg_scores\n",
      "--------------------------------------------------------\n",
      "#45 sh513060 恒生医疗ETF \n",
      " |                |     mean |       std |\n",
      "|:---------------|---------:|----------:|\n",
      "| test_precision | 0.560278 | 0.237788  |\n",
      "| test_recall    | 0.241237 | 0.109277  |\n",
      "| test_roc_auc   | 0.513402 | 0.0687209 |\n",
      "| test_f1_score  | 0.30887  | 0.0889599 | \n",
      " |                         |         mean |         std |\n",
      "|:------------------------|-------------:|------------:|\n",
      "| test_r2_score           | -0.154053    | 0.148796    |\n",
      "| test_mean_squared_error |  0.000440585 | 0.000218545 |\n",
      "| test_spearmanr          | -0.0300562   | 0.18482     | \n",
      "\n",
      "--------------------------------------------------------\n"
     ]
    },
    {
     "name": "stderr",
     "output_type": "stream",
     "text": [
      " 71%|███████   | 46/65 [31:15<12:52, 40.66s/it]No sentence-transformers model found with name /Users/chenyangkang/.cache/torch/sentence_transformers/uer_sbert-base-chinese-nli. Creating a new one with MEAN pooling.\n",
      "100%|██████████| 113/113 [00:00<00:00, 78508.59it/s]\n"
     ]
    },
    {
     "name": "stdout",
     "output_type": "stream",
     "text": [
      "Input data formatted\n",
      "Classifier stored in model.classifier; scores stored in model.cls_scores\n",
      "Regressor stored in model.regressor; scores stored in model.reg_scores\n",
      "--------------------------------------------------------\n",
      "#46 sh515400 大数据ETF \n",
      " |                |     mean |       std |\n",
      "|:---------------|---------:|----------:|\n",
      "| test_precision | 0.396859 | 0.100672  |\n",
      "| test_recall    | 0.446335 | 0.147643  |\n",
      "| test_roc_auc   | 0.378028 | 0.0933168 |\n",
      "| test_f1_score  | 0.414672 | 0.113286  | \n",
      " |                         |         mean |         std |\n",
      "|:------------------------|-------------:|------------:|\n",
      "| test_r2_score           | -0.0824902   | 0.117708    |\n",
      "| test_mean_squared_error |  0.000366887 | 0.000151031 |\n",
      "| test_spearmanr          | -0.064551    | 0.182185    | \n",
      "\n",
      "--------------------------------------------------------\n"
     ]
    },
    {
     "name": "stderr",
     "output_type": "stream",
     "text": [
      " 72%|███████▏  | 47/65 [31:55<12:12, 40.71s/it]No sentence-transformers model found with name /Users/chenyangkang/.cache/torch/sentence_transformers/uer_sbert-base-chinese-nli. Creating a new one with MEAN pooling.\n",
      "100%|██████████| 113/113 [00:00<00:00, 70983.43it/s]\n"
     ]
    },
    {
     "name": "stdout",
     "output_type": "stream",
     "text": [
      "Input data formatted\n",
      "Classifier stored in model.classifier; scores stored in model.cls_scores\n",
      "Regressor stored in model.regressor; scores stored in model.reg_scores\n",
      "--------------------------------------------------------\n",
      "#47 sz159755 电池ETF \n",
      " |                |     mean |      std |\n",
      "|:---------------|---------:|---------:|\n",
      "| test_precision | 0.522554 | 0.154756 |\n",
      "| test_recall    | 0.400278 | 0.175974 |\n",
      "| test_roc_auc   | 0.534778 | 0.111515 |\n",
      "| test_f1_score  | 0.419542 | 0.121702 | \n",
      " |                         |         mean |         std |\n",
      "|:------------------------|-------------:|------------:|\n",
      "| test_r2_score           | -0.209377    | 0.251338    |\n",
      "| test_mean_squared_error |  0.000451932 | 0.000274333 |\n",
      "| test_spearmanr          |  0.0114035   | 0.195537    | \n",
      "\n",
      "--------------------------------------------------------\n"
     ]
    },
    {
     "name": "stderr",
     "output_type": "stream",
     "text": [
      " 74%|███████▍  | 48/65 [32:38<11:41, 41.26s/it]No sentence-transformers model found with name /Users/chenyangkang/.cache/torch/sentence_transformers/uer_sbert-base-chinese-nli. Creating a new one with MEAN pooling.\n",
      "100%|██████████| 113/113 [00:00<00:00, 63558.58it/s]\n"
     ]
    },
    {
     "name": "stdout",
     "output_type": "stream",
     "text": [
      "Input data formatted\n",
      "Classifier stored in model.classifier; scores stored in model.cls_scores\n",
      "Regressor stored in model.regressor; scores stored in model.reg_scores\n",
      "--------------------------------------------------------\n",
      "#48 sz159813 半导体ETF \n",
      " |                |     mean |       std |\n",
      "|:---------------|---------:|----------:|\n",
      "| test_precision | 0.444401 | 0.106065  |\n",
      "| test_recall    | 0.423329 | 0.172772  |\n",
      "| test_roc_auc   | 0.479308 | 0.0972913 |\n",
      "| test_f1_score  | 0.418521 | 0.123808  | \n",
      " |                         |        mean |         std |\n",
      "|:------------------------|------------:|------------:|\n",
      "| test_r2_score           | -0.175211   | 0.0896775   |\n",
      "| test_mean_squared_error |  0.00037973 | 0.000174816 |\n",
      "| test_spearmanr          | -0.0710604  | 0.223305    | \n",
      "\n",
      "--------------------------------------------------------\n"
     ]
    },
    {
     "name": "stderr",
     "output_type": "stream",
     "text": [
      " 75%|███████▌  | 49/65 [33:19<11:01, 41.35s/it]No sentence-transformers model found with name /Users/chenyangkang/.cache/torch/sentence_transformers/uer_sbert-base-chinese-nli. Creating a new one with MEAN pooling.\n",
      "100%|██████████| 113/113 [00:00<00:00, 77179.02it/s]\n"
     ]
    },
    {
     "name": "stdout",
     "output_type": "stream",
     "text": [
      "Input data formatted\n",
      "Classifier stored in model.classifier; scores stored in model.cls_scores\n",
      "Regressor stored in model.regressor; scores stored in model.reg_scores\n",
      "--------------------------------------------------------\n",
      "#49 sh512760 芯片ETF \n",
      " |                |     mean |       std |\n",
      "|:---------------|---------:|----------:|\n",
      "| test_precision | 0.502315 | 0.129429  |\n",
      "| test_recall    | 0.547424 | 0.0880987 |\n",
      "| test_roc_auc   | 0.467376 | 0.0924929 |\n",
      "| test_f1_score  | 0.513837 | 0.0825266 | \n",
      " |                         |         mean |         std |\n",
      "|:------------------------|-------------:|------------:|\n",
      "| test_r2_score           | -0.191464    | 0.073985    |\n",
      "| test_mean_squared_error |  0.000449179 | 0.000214348 |\n",
      "| test_spearmanr          | -0.0878947   | 0.11436     | \n",
      "\n",
      "--------------------------------------------------------\n"
     ]
    },
    {
     "name": "stderr",
     "output_type": "stream",
     "text": [
      " 77%|███████▋  | 50/65 [34:01<10:20, 41.35s/it]No sentence-transformers model found with name /Users/chenyangkang/.cache/torch/sentence_transformers/uer_sbert-base-chinese-nli. Creating a new one with MEAN pooling.\n",
      "100%|██████████| 113/113 [00:00<00:00, 109839.25it/s]\n"
     ]
    },
    {
     "name": "stdout",
     "output_type": "stream",
     "text": [
      "Input data formatted\n",
      "Classifier stored in model.classifier; scores stored in model.cls_scores\n",
      "Regressor stored in model.regressor; scores stored in model.reg_scores\n",
      "--------------------------------------------------------\n",
      "#50 sh518880 黄金ETF \n",
      " |                |     mean |       std |\n",
      "|:---------------|---------:|----------:|\n",
      "| test_precision | 0.544372 | 0.0905748 |\n",
      "| test_recall    | 0.572482 | 0.151346  |\n",
      "| test_roc_auc   | 0.529713 | 0.116314  |\n",
      "| test_f1_score  | 0.547489 | 0.0965614 | \n",
      " |                         |         mean |         std |\n",
      "|:------------------------|-------------:|------------:|\n",
      "| test_r2_score           | -0.226036    | 0.294085    |\n",
      "| test_mean_squared_error |  6.16292e-06 | 3.31749e-06 |\n",
      "| test_spearmanr          | -0.0282639   | 0.250638    | \n",
      "\n",
      "--------------------------------------------------------\n"
     ]
    },
    {
     "name": "stderr",
     "output_type": "stream",
     "text": [
      " 78%|███████▊  | 51/65 [34:45<09:52, 42.34s/it]No sentence-transformers model found with name /Users/chenyangkang/.cache/torch/sentence_transformers/uer_sbert-base-chinese-nli. Creating a new one with MEAN pooling.\n",
      "100%|██████████| 113/113 [00:00<00:00, 88573.42it/s]\n"
     ]
    },
    {
     "name": "stdout",
     "output_type": "stream",
     "text": [
      "Input data formatted\n",
      "Classifier stored in model.classifier; scores stored in model.cls_scores\n",
      "Regressor stored in model.regressor; scores stored in model.reg_scores\n",
      "--------------------------------------------------------\n",
      "#51 sh515790 光伏ETF \n",
      " |                |     mean |       std |\n",
      "|:---------------|---------:|----------:|\n",
      "| test_precision | 0.424495 | 0.191255  |\n",
      "| test_recall    | 0.383838 | 0.169414  |\n",
      "| test_roc_auc   | 0.509804 | 0.0908542 |\n",
      "| test_f1_score  | 0.383944 | 0.152516  | \n",
      " |                         |         mean |         std |\n",
      "|:------------------------|-------------:|------------:|\n",
      "| test_r2_score           | -0.118448    | 0.115324    |\n",
      "| test_mean_squared_error |  0.000487609 | 0.000245559 |\n",
      "| test_spearmanr          | -0.126765    | 0.173175    | \n",
      "\n",
      "--------------------------------------------------------\n"
     ]
    },
    {
     "name": "stderr",
     "output_type": "stream",
     "text": [
      " 80%|████████  | 52/65 [35:27<09:06, 42.07s/it]No sentence-transformers model found with name /Users/chenyangkang/.cache/torch/sentence_transformers/uer_sbert-base-chinese-nli. Creating a new one with MEAN pooling.\n",
      "100%|██████████| 113/113 [00:00<00:00, 37490.61it/s]\n"
     ]
    },
    {
     "name": "stdout",
     "output_type": "stream",
     "text": [
      "Input data formatted\n",
      "Classifier stored in model.classifier; scores stored in model.cls_scores\n",
      "Regressor stored in model.regressor; scores stored in model.reg_scores\n",
      "--------------------------------------------------------\n",
      "#52 sh512660 军工ETF \n",
      " |                |     mean |       std |\n",
      "|:---------------|---------:|----------:|\n",
      "| test_precision | 0.540929 | 0.144713  |\n",
      "| test_recall    | 0.562222 | 0.193778  |\n",
      "| test_roc_auc   | 0.526865 | 0.0956896 |\n",
      "| test_f1_score  | 0.522839 | 0.141985  | \n",
      " |                         |         mean |         std |\n",
      "|:------------------------|-------------:|------------:|\n",
      "| test_r2_score           | -0.0464824   | 0.105852    |\n",
      "| test_mean_squared_error |  0.000257964 | 0.000141003 |\n",
      "| test_spearmanr          |  0.0128096   | 0.243662    | \n",
      "\n",
      "--------------------------------------------------------\n"
     ]
    },
    {
     "name": "stderr",
     "output_type": "stream",
     "text": [
      " 82%|████████▏ | 53/65 [36:10<08:27, 42.29s/it]No sentence-transformers model found with name /Users/chenyangkang/.cache/torch/sentence_transformers/uer_sbert-base-chinese-nli. Creating a new one with MEAN pooling.\n",
      "100%|██████████| 113/113 [00:00<00:00, 43901.11it/s]\n"
     ]
    },
    {
     "name": "stdout",
     "output_type": "stream",
     "text": [
      "Input data formatted\n",
      "Classifier stored in model.classifier; scores stored in model.cls_scores\n",
      "Regressor stored in model.regressor; scores stored in model.reg_scores\n",
      "--------------------------------------------------------\n",
      "#53 sh515030 新能源车ETF \n",
      " |                |     mean |       std |\n",
      "|:---------------|---------:|----------:|\n",
      "| test_precision | 0.51735  | 0.245791  |\n",
      "| test_recall    | 0.365285 | 0.132206  |\n",
      "| test_roc_auc   | 0.493526 | 0.0846465 |\n",
      "| test_f1_score  | 0.394235 | 0.127665  | \n",
      " |                         |         mean |         std |\n",
      "|:------------------------|-------------:|------------:|\n",
      "| test_r2_score           | -0.142476    | 0.152365    |\n",
      "| test_mean_squared_error |  0.000385918 | 0.000230893 |\n",
      "| test_spearmanr          | -0.0151703   | 0.172264    | \n",
      "\n",
      "--------------------------------------------------------\n"
     ]
    },
    {
     "name": "stderr",
     "output_type": "stream",
     "text": [
      " 83%|████████▎ | 54/65 [36:50<07:40, 41.82s/it]No sentence-transformers model found with name /Users/chenyangkang/.cache/torch/sentence_transformers/uer_sbert-base-chinese-nli. Creating a new one with MEAN pooling.\n",
      "100%|██████████| 113/113 [00:00<00:00, 103664.99it/s]\n"
     ]
    },
    {
     "name": "stdout",
     "output_type": "stream",
     "text": [
      "Input data formatted\n",
      "Classifier stored in model.classifier; scores stored in model.cls_scores\n",
      "Regressor stored in model.regressor; scores stored in model.reg_scores\n",
      "--------------------------------------------------------\n",
      "#54 sz159658 数字经济ETF \n",
      " |                |     mean |       std |\n",
      "|:---------------|---------:|----------:|\n",
      "| test_precision | 0.573095 | 0.171267  |\n",
      "| test_recall    | 0.499286 | 0.119798  |\n",
      "| test_roc_auc   | 0.548333 | 0.0905407 |\n",
      "| test_f1_score  | 0.522561 | 0.123929  | \n",
      " |                         |         mean |         std |\n",
      "|:------------------------|-------------:|------------:|\n",
      "| test_r2_score           | -0.171003    | 0.305716    |\n",
      "| test_mean_squared_error |  0.000221415 | 8.51601e-05 |\n",
      "| test_spearmanr          | -0.0254545   | 0.470883    | \n",
      "\n",
      "--------------------------------------------------------\n"
     ]
    },
    {
     "name": "stderr",
     "output_type": "stream",
     "text": [
      " 85%|████████▍ | 55/65 [37:15<06:05, 36.52s/it]No sentence-transformers model found with name /Users/chenyangkang/.cache/torch/sentence_transformers/uer_sbert-base-chinese-nli. Creating a new one with MEAN pooling.\n",
      "100%|██████████| 113/113 [00:00<00:00, 77596.00it/s]\n"
     ]
    },
    {
     "name": "stdout",
     "output_type": "stream",
     "text": [
      "Input data formatted\n",
      "Classifier stored in model.classifier; scores stored in model.cls_scores\n",
      "Regressor stored in model.regressor; scores stored in model.reg_scores\n",
      "--------------------------------------------------------\n",
      "#55 sh512880 证券ETF \n",
      " |                |     mean |      std |\n",
      "|:---------------|---------:|---------:|\n",
      "| test_precision | 0.480785 | 0.222371 |\n",
      "| test_recall    | 0.298193 | 0.133523 |\n",
      "| test_roc_auc   | 0.466443 | 0.148771 |\n",
      "| test_f1_score  | 0.334185 | 0.139689 | \n",
      " |                         |        mean |         std |\n",
      "|:------------------------|------------:|------------:|\n",
      "| test_r2_score           | -0.443478   | 0.780159    |\n",
      "| test_mean_squared_error |  0.00028158 | 0.000173062 |\n",
      "| test_spearmanr          | -0.0938565  | 0.215132    | \n",
      "\n",
      "--------------------------------------------------------\n"
     ]
    },
    {
     "name": "stderr",
     "output_type": "stream",
     "text": [
      " 86%|████████▌ | 56/65 [37:59<05:49, 38.82s/it]No sentence-transformers model found with name /Users/chenyangkang/.cache/torch/sentence_transformers/uer_sbert-base-chinese-nli. Creating a new one with MEAN pooling.\n",
      "100%|██████████| 113/113 [00:00<00:00, 80046.67it/s]\n"
     ]
    },
    {
     "name": "stdout",
     "output_type": "stream",
     "text": [
      "Input data formatted\n",
      "Classifier stored in model.classifier; scores stored in model.cls_scores\n",
      "Regressor stored in model.regressor; scores stored in model.reg_scores\n",
      "--------------------------------------------------------\n",
      "#56 sh512690 酒ETF \n",
      " |                |     mean |      std |\n",
      "|:---------------|---------:|---------:|\n",
      "| test_precision | 0.471165 | 0.185123 |\n",
      "| test_recall    | 0.366129 | 0.210189 |\n",
      "| test_roc_auc   | 0.506461 | 0.117236 |\n",
      "| test_f1_score  | 0.377654 | 0.143872 | \n",
      " |                         |         mean |         std |\n",
      "|:------------------------|-------------:|------------:|\n",
      "| test_r2_score           | -0.227192    | 0.143996    |\n",
      "| test_mean_squared_error |  0.000319475 | 0.000156053 |\n",
      "| test_spearmanr          | -0.0128021   | 0.134551    | \n",
      "\n",
      "--------------------------------------------------------\n"
     ]
    },
    {
     "name": "stderr",
     "output_type": "stream",
     "text": [
      " 88%|████████▊ | 57/65 [38:38<05:12, 39.08s/it]No sentence-transformers model found with name /Users/chenyangkang/.cache/torch/sentence_transformers/uer_sbert-base-chinese-nli. Creating a new one with MEAN pooling.\n",
      "100%|██████████| 113/113 [00:00<00:00, 78417.66it/s]\n"
     ]
    },
    {
     "name": "stdout",
     "output_type": "stream",
     "text": [
      "Input data formatted\n",
      "Classifier stored in model.classifier; scores stored in model.cls_scores\n",
      "Regressor stored in model.regressor; scores stored in model.reg_scores\n",
      "--------------------------------------------------------\n",
      "#57 sz159995 芯片ETF \n",
      " |                |     mean |       std |\n",
      "|:---------------|---------:|----------:|\n",
      "| test_precision | 0.443943 | 0.143037  |\n",
      "| test_recall    | 0.396046 | 0.120157  |\n",
      "| test_roc_auc   | 0.468507 | 0.0808035 |\n",
      "| test_f1_score  | 0.407008 | 0.10844   | \n",
      " |                         |         mean |         std |\n",
      "|:------------------------|-------------:|------------:|\n",
      "| test_r2_score           | -0.225739    | 0.115357    |\n",
      "| test_mean_squared_error |  0.000411051 | 0.000179126 |\n",
      "| test_spearmanr          | -0.148421    | 0.17789     | \n",
      "\n",
      "--------------------------------------------------------\n"
     ]
    },
    {
     "name": "stderr",
     "output_type": "stream",
     "text": [
      " 89%|████████▉ | 58/65 [39:20<04:38, 39.84s/it]No sentence-transformers model found with name /Users/chenyangkang/.cache/torch/sentence_transformers/uer_sbert-base-chinese-nli. Creating a new one with MEAN pooling.\n",
      "100%|██████████| 113/113 [00:00<00:00, 96000.88it/s]\n"
     ]
    },
    {
     "name": "stdout",
     "output_type": "stream",
     "text": [
      "Input data formatted\n",
      "Classifier stored in model.classifier; scores stored in model.cls_scores\n",
      "Regressor stored in model.regressor; scores stored in model.reg_scores\n",
      "--------------------------------------------------------\n",
      "#58 sh510050 上证50ETF \n",
      " |                |     mean |       std |\n",
      "|:---------------|---------:|----------:|\n",
      "| test_precision | 0.463229 | 0.165045  |\n",
      "| test_recall    | 0.377475 | 0.128081  |\n",
      "| test_roc_auc   | 0.492272 | 0.0979383 |\n",
      "| test_f1_score  | 0.399617 | 0.127934  | \n",
      " |                         |         mean |         std |\n",
      "|:------------------------|-------------:|------------:|\n",
      "| test_r2_score           | -0.304692    | 0.294118    |\n",
      "| test_mean_squared_error |  0.000116788 | 6.48076e-05 |\n",
      "| test_spearmanr          | -0.014386    | 0.186396    | \n",
      "\n",
      "--------------------------------------------------------\n"
     ]
    },
    {
     "name": "stderr",
     "output_type": "stream",
     "text": [
      " 91%|█████████ | 59/65 [40:01<04:00, 40.10s/it]No sentence-transformers model found with name /Users/chenyangkang/.cache/torch/sentence_transformers/uer_sbert-base-chinese-nli. Creating a new one with MEAN pooling.\n",
      "100%|██████████| 113/113 [00:00<00:00, 101316.02it/s]\n"
     ]
    },
    {
     "name": "stdout",
     "output_type": "stream",
     "text": [
      "Input data formatted\n",
      "Classifier stored in model.classifier; scores stored in model.cls_scores\n",
      "Regressor stored in model.regressor; scores stored in model.reg_scores\n",
      "--------------------------------------------------------\n",
      "#59 sh512170 医疗ETF \n",
      " |                |     mean |       std |\n",
      "|:---------------|---------:|----------:|\n",
      "| test_precision | 0.405714 | 0.226577  |\n",
      "| test_recall    | 0.303903 | 0.201375  |\n",
      "| test_roc_auc   | 0.529427 | 0.0892147 |\n",
      "| test_f1_score  | 0.332107 | 0.205083  | \n",
      " |                         |         mean |         std |\n",
      "|:------------------------|-------------:|------------:|\n",
      "| test_r2_score           | -0.331268    | 0.236919    |\n",
      "| test_mean_squared_error |  0.000300903 | 0.000183271 |\n",
      "| test_spearmanr          |  0.0686543   | 0.210235    | \n",
      "\n",
      "--------------------------------------------------------\n"
     ]
    },
    {
     "name": "stderr",
     "output_type": "stream",
     "text": [
      " 92%|█████████▏| 60/65 [40:42<03:22, 40.55s/it]No sentence-transformers model found with name /Users/chenyangkang/.cache/torch/sentence_transformers/uer_sbert-base-chinese-nli. Creating a new one with MEAN pooling.\n",
      "100%|██████████| 113/113 [00:00<00:00, 82184.21it/s]\n"
     ]
    },
    {
     "name": "stdout",
     "output_type": "stream",
     "text": [
      "Input data formatted\n",
      "Classifier stored in model.classifier; scores stored in model.cls_scores\n",
      "Regressor stored in model.regressor; scores stored in model.reg_scores\n",
      "--------------------------------------------------------\n",
      "#60 sh510300 沪深300ETF \n",
      " |                |     mean |       std |\n",
      "|:---------------|---------:|----------:|\n",
      "| test_precision | 0.416349 | 0.174225  |\n",
      "| test_recall    | 0.296281 | 0.156976  |\n",
      "| test_roc_auc   | 0.481284 | 0.0971886 |\n",
      "| test_f1_score  | 0.325789 | 0.151771  | \n",
      " |                         |         mean |         std |\n",
      "|:------------------------|-------------:|------------:|\n",
      "| test_r2_score           | -0.258529    | 0.22178     |\n",
      "| test_mean_squared_error |  0.000106347 | 6.06511e-05 |\n",
      "| test_spearmanr          | -0.0182456   | 0.202254    | \n",
      "\n",
      "--------------------------------------------------------\n"
     ]
    },
    {
     "name": "stderr",
     "output_type": "stream",
     "text": [
      " 94%|█████████▍| 61/65 [41:24<02:43, 40.91s/it]No sentence-transformers model found with name /Users/chenyangkang/.cache/torch/sentence_transformers/uer_sbert-base-chinese-nli. Creating a new one with MEAN pooling.\n",
      "100%|██████████| 113/113 [00:00<00:00, 85152.06it/s]\n"
     ]
    },
    {
     "name": "stdout",
     "output_type": "stream",
     "text": [
      "Input data formatted\n",
      "Classifier stored in model.classifier; scores stored in model.cls_scores\n",
      "Regressor stored in model.regressor; scores stored in model.reg_scores\n",
      "--------------------------------------------------------\n",
      "#61 sz159915 创业板ETF \n",
      " |                |     mean |      std |\n",
      "|:---------------|---------:|---------:|\n",
      "| test_precision | 0.370476 | 0.170694 |\n",
      "| test_recall    | 0.34309  | 0.208616 |\n",
      "| test_roc_auc   | 0.45854  | 0.10037  |\n",
      "| test_f1_score  | 0.333106 | 0.159517 | \n",
      " |                         |         mean |         std |\n",
      "|:------------------------|-------------:|------------:|\n",
      "| test_r2_score           | -0.201401    | 0.180233    |\n",
      "| test_mean_squared_error |  0.000231992 | 0.000130119 |\n",
      "| test_spearmanr          | -0.065614    | 0.218531    | \n",
      "\n",
      "--------------------------------------------------------\n"
     ]
    },
    {
     "name": "stderr",
     "output_type": "stream",
     "text": [
      " 95%|█████████▌| 62/65 [42:07<02:04, 41.51s/it]No sentence-transformers model found with name /Users/chenyangkang/.cache/torch/sentence_transformers/uer_sbert-base-chinese-nli. Creating a new one with MEAN pooling.\n",
      "100%|██████████| 113/113 [00:00<00:00, 109408.21it/s]\n"
     ]
    },
    {
     "name": "stdout",
     "output_type": "stream",
     "text": [
      "Input data formatted\n",
      "Classifier stored in model.classifier; scores stored in model.cls_scores\n",
      "Regressor stored in model.regressor; scores stored in model.reg_scores\n",
      "--------------------------------------------------------\n",
      "#62 sh513050 中概互联网ETF \n",
      " |                |     mean |       std |\n",
      "|:---------------|---------:|----------:|\n",
      "| test_precision | 0.286667 | 0.28556   |\n",
      "| test_recall    | 0.121667 | 0.0904191 |\n",
      "| test_roc_auc   | 0.477929 | 0.0683386 |\n",
      "| test_f1_score  | 0.163648 | 0.125869  | \n",
      " |                         |         mean |         std |\n",
      "|:------------------------|-------------:|------------:|\n",
      "| test_r2_score           | -0.201889    | 0.258459    |\n",
      "| test_mean_squared_error |  0.000362734 | 0.000200542 |\n",
      "| test_spearmanr          | -0.0979094   | 0.230075    | \n",
      "\n",
      "--------------------------------------------------------\n"
     ]
    },
    {
     "name": "stderr",
     "output_type": "stream",
     "text": [
      " 97%|█████████▋| 63/65 [42:47<01:22, 41.02s/it]No sentence-transformers model found with name /Users/chenyangkang/.cache/torch/sentence_transformers/uer_sbert-base-chinese-nli. Creating a new one with MEAN pooling.\n",
      "100%|██████████| 113/113 [00:00<00:00, 67104.11it/s]\n"
     ]
    },
    {
     "name": "stdout",
     "output_type": "stream",
     "text": [
      "Input data formatted\n",
      "Classifier stored in model.classifier; scores stored in model.cls_scores\n",
      "Regressor stored in model.regressor; scores stored in model.reg_scores\n",
      "--------------------------------------------------------\n",
      "#63 sh512480 半导体ETF \n",
      " |                |     mean |      std |\n",
      "|:---------------|---------:|---------:|\n",
      "| test_precision | 0.386667 | 0.187934 |\n",
      "| test_recall    | 0.3775   | 0.21847  |\n",
      "| test_roc_auc   | 0.460574 | 0.108954 |\n",
      "| test_f1_score  | 0.366691 | 0.185535 | \n",
      " |                         |         mean |         std |\n",
      "|:------------------------|-------------:|------------:|\n",
      "| test_r2_score           | -0.176089    | 0.105736    |\n",
      "| test_mean_squared_error |  0.000442374 | 0.000190293 |\n",
      "| test_spearmanr          | -0.0738408   | 0.138298    | \n",
      "\n",
      "--------------------------------------------------------\n"
     ]
    },
    {
     "name": "stderr",
     "output_type": "stream",
     "text": [
      " 98%|█████████▊| 64/65 [43:30<00:41, 41.64s/it]No sentence-transformers model found with name /Users/chenyangkang/.cache/torch/sentence_transformers/uer_sbert-base-chinese-nli. Creating a new one with MEAN pooling.\n",
      "100%|██████████| 113/113 [00:00<00:00, 76667.15it/s]\n"
     ]
    },
    {
     "name": "stdout",
     "output_type": "stream",
     "text": [
      "Input data formatted\n",
      "Classifier stored in model.classifier; scores stored in model.cls_scores\n",
      "Regressor stored in model.regressor; scores stored in model.reg_scores\n",
      "--------------------------------------------------------\n",
      "#64 sh588000 科创50ETF \n",
      " |                |     mean |      std |\n",
      "|:---------------|---------:|---------:|\n",
      "| test_precision | 0.439592 | 0.239272 |\n",
      "| test_recall    | 0.404542 | 0.187833 |\n",
      "| test_roc_auc   | 0.504298 | 0.119894 |\n",
      "| test_f1_score  | 0.405476 | 0.191079 | \n",
      " |                         |         mean |         std |\n",
      "|:------------------------|-------------:|------------:|\n",
      "| test_r2_score           | -0.216209    | 0.152055    |\n",
      "| test_mean_squared_error |  0.000256645 | 0.000151187 |\n",
      "| test_spearmanr          | -0.127119    | 0.163211    | \n",
      "\n",
      "--------------------------------------------------------\n"
     ]
    },
    {
     "name": "stderr",
     "output_type": "stream",
     "text": [
      "100%|██████████| 65/65 [44:13<00:00, 40.82s/it]\n"
     ]
    }
   ],
   "source": [
    "### initialize\n",
    "if not os.path.exists('./Trained_bot'):\n",
    "    os.mkdir('./Trained_bot')\n",
    "\n",
    "for index,stock in tqdm(enumerate(stock_codes_dict.items()),total=len(stock_codes_dict)):\n",
    "    ### building bot\n",
    "    bot = Wei_trade_model(stock_id=stock[0],\n",
    "                        stock_name=stock[1])\n",
    "\n",
    "    ##### we don't need to re-download these historical tweets for a while (like a month)\n",
    "    ### get historical data\n",
    "    # if index==0:\n",
    "    #     bot.get_historical_tweets(force=False)\n",
    "    # else:\n",
    "    bot.get_historical_tweets(force=False)\n",
    "\n",
    "    ### feature engineering historical tweets\n",
    "    try:\n",
    "        bot.all_mean_features = pd.read_csv('mean_features.csv')\n",
    "    except:\n",
    "        # if index==0:\n",
    "        #     bot.merging_historical_tweets(force_embedding=True) #False\n",
    "        # else:\n",
    "        bot.merging_historical_tweets(force_embedding=False) #False\n",
    "\n",
    "    ### formatting input\n",
    "    bot.formatting_input_data()\n",
    "\n",
    "    ### training\n",
    "    bot.build_classifier()\n",
    "    bot.build_regressor()\n",
    "    print('--------------------------------------------------------')\n",
    "    print(f'#{index}', bot.stock_id, bot.stock_name,'\\n', \n",
    "                        bot.cls_scores.to_markdown(),'\\n', \n",
    "                        bot.reg_scores.to_markdown(),'\\n')\n",
    "    print('--------------------------------------------------------')\n",
    "\n",
    "    pickle.dump(bot, open(f'./Trained_bot/{stock[0]}.pkl', 'wb'))\n",
    "\n"
   ]
  },
  {
   "attachments": {},
   "cell_type": "markdown",
   "metadata": {},
   "source": [
    "## Predict today (Run every trading day morning ~8:30)"
   ]
  },
  {
   "cell_type": "code",
   "execution_count": null,
   "metadata": {},
   "outputs": [],
   "source": [
    "######### pred today\n",
    "pred_res = []\n",
    "for count,stock in enumerate(stock_codes_dict.items()):\n",
    "    print(f'Predicting ---- {count+1}')\n",
    "    ### building bot\n",
    "    try:\n",
    "        bot = pickle.load(open(f'./Trained_bot/{stock[0]}.pkl', 'rb'))\n",
    "\n",
    "        ### pred today one model (one stock)\n",
    "        if count==0:\n",
    "            bot.predict_today(force=True) #False\n",
    "        else:\n",
    "            bot.predict_today(force=False) #False\n",
    "            \n",
    "        pred_res.append({\n",
    "            'stock_id':bot.stock_id, \n",
    "            'stock_name':bot.stock_name,\n",
    "            'total_influencer_used':bot.today_influencer_count,\n",
    "            'pred_today_cls':bot.pred_today_cls,\n",
    "            'pred_today_reg':bot.pred_today_reg,\n",
    "            'f1':round(bot.cls_scores.loc['test_f1_score','mean'], 3),\n",
    "            'f1_std':round(bot.cls_scores.loc['test_f1_score','std'], 3),\n",
    "            'precision':round(bot.cls_scores.loc['test_precision','mean'], 3),\n",
    "            'precision_std':round(bot.cls_scores.loc['test_precision','std'], 3),\n",
    "            'recall':round(bot.cls_scores.loc['test_recall','mean'], 3),\n",
    "            'recall_std':round(bot.cls_scores.loc['test_recall','std'], 3),\n",
    "            'roc_auc':round(bot.cls_scores.loc['test_roc_auc','mean'], 3),\n",
    "            'roc_auc_std':round(bot.cls_scores.loc['test_roc_auc','std'], 3),\n",
    "            'r2_score':round(bot.reg_scores.loc['test_r2_score','mean'], 3),\n",
    "            'r2_score_std':round(bot.reg_scores.loc['test_r2_score','std'], 3),\n",
    "            'spearmanr':round(bot.reg_scores.loc['test_spearmanr','mean'], 3),\n",
    "            'spearmanr_std':round(bot.reg_scores.loc['test_spearmanr','std'], 3)\n",
    "        })\n",
    "\n",
    "    except Exception as e:\n",
    "        print(e)\n",
    "        continue\n",
    "\n",
    "    # print(bot.stock_id, bot.stock_name, bot.pred_today_cls, bot.pred_today_reg)\n",
    "pred_res = pd.DataFrame(pred_res).sort_values(by=['f1','pred_today_cls','pred_today_reg'],ascending=[False,False,False])\n",
    "pred_res['today'] = str(datetime.date.today())\n",
    "pred_res['today_influencer_count'] = bot.today_influencer_count\n",
    "\n",
    "    "
   ]
  },
  {
   "attachments": {},
   "cell_type": "markdown",
   "metadata": {},
   "source": [
    "## Construct your own index"
   ]
  },
  {
   "cell_type": "code",
   "execution_count": 67,
   "metadata": {},
   "outputs": [],
   "source": [
    "from sklearn.preprocessing import MinMaxScaler,minmax_scale\n",
    "pred_res['index1'] = 2/(1/minmax_scale(pred_res['pred_today_cls']) + 1/minmax_scale(pred_res['f1']))\n",
    "pred_res['index2'] = 2/(1/minmax_scale(pred_res['pred_today_reg']) + 1/minmax_scale(pred_res['spearmanr']))\n",
    "pred_res['index3'] = 2/(1/minmax_scale(pred_res['index1']) + 1/minmax_scale(pred_res['index2']))\n",
    "pred_res['index4'] = 4/( 1/minmax_scale(pred_res['precision']) + 1/minmax_scale(pred_res['spearmanr'] + \\\n",
    "                            1/(minmax_scale(pred_res['pred_today_cls'])) + 1/(minmax_scale(pred_res['pred_today_reg']))))\n"
   ]
  },
  {
   "cell_type": "code",
   "execution_count": 60,
   "metadata": {},
   "outputs": [],
   "source": [
    "pred_res.to_csv(f'./Data_{str(datetime.date.today())}/today_pred.csv')"
   ]
  },
  {
   "cell_type": "code",
   "execution_count": 72,
   "metadata": {},
   "outputs": [
    {
     "data": {
      "text/html": [
       "<div>\n",
       "<style scoped>\n",
       "    .dataframe tbody tr th:only-of-type {\n",
       "        vertical-align: middle;\n",
       "    }\n",
       "\n",
       "    .dataframe tbody tr th {\n",
       "        vertical-align: top;\n",
       "    }\n",
       "\n",
       "    .dataframe thead th {\n",
       "        text-align: right;\n",
       "    }\n",
       "</style>\n",
       "<table border=\"1\" class=\"dataframe\">\n",
       "  <thead>\n",
       "    <tr style=\"text-align: right;\">\n",
       "      <th></th>\n",
       "      <th>stock_id</th>\n",
       "      <th>stock_name</th>\n",
       "      <th>total_influencer_used</th>\n",
       "      <th>pred_today_cls</th>\n",
       "      <th>pred_today_reg</th>\n",
       "      <th>f1</th>\n",
       "      <th>f1_std</th>\n",
       "      <th>precision</th>\n",
       "      <th>precision_std</th>\n",
       "      <th>recall</th>\n",
       "      <th>...</th>\n",
       "      <th>spearmanr</th>\n",
       "      <th>spearmanr_std</th>\n",
       "      <th>today</th>\n",
       "      <th>today_influencer_count</th>\n",
       "      <th>index1</th>\n",
       "      <th>spearmanr_minmax</th>\n",
       "      <th>index2</th>\n",
       "      <th>pred_today_reg_minmax</th>\n",
       "      <th>index3</th>\n",
       "      <th>index4</th>\n",
       "    </tr>\n",
       "  </thead>\n",
       "  <tbody>\n",
       "    <tr>\n",
       "      <th>15</th>\n",
       "      <td>sz159650</td>\n",
       "      <td>国开ETF</td>\n",
       "      <td>99</td>\n",
       "      <td>0.61</td>\n",
       "      <td>0.000696</td>\n",
       "      <td>0.673</td>\n",
       "      <td>0.103</td>\n",
       "      <td>0.593</td>\n",
       "      <td>0.104</td>\n",
       "      <td>0.840</td>\n",
       "      <td>...</td>\n",
       "      <td>0.040</td>\n",
       "      <td>0.409</td>\n",
       "      <td>2023-03-13</td>\n",
       "      <td>99</td>\n",
       "      <td>0.964286</td>\n",
       "      <td>0.661017</td>\n",
       "      <td>0.491137</td>\n",
       "      <td>0.390723</td>\n",
       "      <td>0.760993</td>\n",
       "      <td>1.827825</td>\n",
       "    </tr>\n",
       "    <tr>\n",
       "      <th>39</th>\n",
       "      <td>sz159928</td>\n",
       "      <td>消费ETF</td>\n",
       "      <td>99</td>\n",
       "      <td>0.54</td>\n",
       "      <td>0.012663</td>\n",
       "      <td>0.450</td>\n",
       "      <td>0.120</td>\n",
       "      <td>0.615</td>\n",
       "      <td>0.220</td>\n",
       "      <td>0.363</td>\n",
       "      <td>...</td>\n",
       "      <td>0.006</td>\n",
       "      <td>0.159</td>\n",
       "      <td>2023-03-13</td>\n",
       "      <td>99</td>\n",
       "      <td>0.640263</td>\n",
       "      <td>0.564972</td>\n",
       "      <td>0.614455</td>\n",
       "      <td>0.673439</td>\n",
       "      <td>0.712387</td>\n",
       "      <td>1.681181</td>\n",
       "    </tr>\n",
       "    <tr>\n",
       "      <th>8</th>\n",
       "      <td>sh510370</td>\n",
       "      <td>300指数ETF</td>\n",
       "      <td>99</td>\n",
       "      <td>0.60</td>\n",
       "      <td>0.018858</td>\n",
       "      <td>0.614</td>\n",
       "      <td>0.105</td>\n",
       "      <td>0.594</td>\n",
       "      <td>0.140</td>\n",
       "      <td>0.694</td>\n",
       "      <td>...</td>\n",
       "      <td>0.025</td>\n",
       "      <td>0.229</td>\n",
       "      <td>2023-03-13</td>\n",
       "      <td>99</td>\n",
       "      <td>0.895024</td>\n",
       "      <td>0.618644</td>\n",
       "      <td>0.705146</td>\n",
       "      <td>0.819771</td>\n",
       "      <td>0.904407</td>\n",
       "      <td>1.644308</td>\n",
       "    </tr>\n",
       "    <tr>\n",
       "      <th>54</th>\n",
       "      <td>sz159658</td>\n",
       "      <td>数字经济ETF</td>\n",
       "      <td>99</td>\n",
       "      <td>0.61</td>\n",
       "      <td>0.009237</td>\n",
       "      <td>0.523</td>\n",
       "      <td>0.124</td>\n",
       "      <td>0.573</td>\n",
       "      <td>0.171</td>\n",
       "      <td>0.499</td>\n",
       "      <td>...</td>\n",
       "      <td>-0.025</td>\n",
       "      <td>0.471</td>\n",
       "      <td>2023-03-13</td>\n",
       "      <td>99</td>\n",
       "      <td>0.817875</td>\n",
       "      <td>0.477401</td>\n",
       "      <td>0.528755</td>\n",
       "      <td>0.592489</td>\n",
       "      <td>0.743128</td>\n",
       "      <td>1.616140</td>\n",
       "    </tr>\n",
       "    <tr>\n",
       "      <th>35</th>\n",
       "      <td>sh515880</td>\n",
       "      <td>通讯ETF</td>\n",
       "      <td>99</td>\n",
       "      <td>0.56</td>\n",
       "      <td>0.005363</td>\n",
       "      <td>0.590</td>\n",
       "      <td>0.107</td>\n",
       "      <td>0.550</td>\n",
       "      <td>0.160</td>\n",
       "      <td>0.687</td>\n",
       "      <td>...</td>\n",
       "      <td>-0.074</td>\n",
       "      <td>0.187</td>\n",
       "      <td>2023-03-13</td>\n",
       "      <td>99</td>\n",
       "      <td>0.801795</td>\n",
       "      <td>0.338983</td>\n",
       "      <td>0.404360</td>\n",
       "      <td>0.500979</td>\n",
       "      <td>0.628889</td>\n",
       "      <td>1.583232</td>\n",
       "    </tr>\n",
       "    <tr>\n",
       "      <th>0</th>\n",
       "      <td>sh000001</td>\n",
       "      <td>上证指数</td>\n",
       "      <td>99</td>\n",
       "      <td>0.55</td>\n",
       "      <td>0.004058</td>\n",
       "      <td>0.561</td>\n",
       "      <td>0.155</td>\n",
       "      <td>0.545</td>\n",
       "      <td>0.156</td>\n",
       "      <td>0.608</td>\n",
       "      <td>...</td>\n",
       "      <td>0.000</td>\n",
       "      <td>0.222</td>\n",
       "      <td>2023-03-13</td>\n",
       "      <td>99</td>\n",
       "      <td>0.759202</td>\n",
       "      <td>0.548023</td>\n",
       "      <td>0.506114</td>\n",
       "      <td>0.470160</td>\n",
       "      <td>0.701731</td>\n",
       "      <td>1.580785</td>\n",
       "    </tr>\n",
       "    <tr>\n",
       "      <th>18</th>\n",
       "      <td>sz159869</td>\n",
       "      <td>游戏ETF</td>\n",
       "      <td>99</td>\n",
       "      <td>0.56</td>\n",
       "      <td>0.007139</td>\n",
       "      <td>0.508</td>\n",
       "      <td>0.162</td>\n",
       "      <td>0.531</td>\n",
       "      <td>0.186</td>\n",
       "      <td>0.535</td>\n",
       "      <td>...</td>\n",
       "      <td>-0.052</td>\n",
       "      <td>0.265</td>\n",
       "      <td>2023-03-13</td>\n",
       "      <td>99</td>\n",
       "      <td>0.729302</td>\n",
       "      <td>0.401130</td>\n",
       "      <td>0.461384</td>\n",
       "      <td>0.542939</td>\n",
       "      <td>0.654591</td>\n",
       "      <td>1.538500</td>\n",
       "    </tr>\n",
       "    <tr>\n",
       "      <th>25</th>\n",
       "      <td>sz159865</td>\n",
       "      <td>养殖ETF</td>\n",
       "      <td>99</td>\n",
       "      <td>0.53</td>\n",
       "      <td>0.005115</td>\n",
       "      <td>0.461</td>\n",
       "      <td>0.088</td>\n",
       "      <td>0.527</td>\n",
       "      <td>0.167</td>\n",
       "      <td>0.464</td>\n",
       "      <td>...</td>\n",
       "      <td>0.032</td>\n",
       "      <td>0.158</td>\n",
       "      <td>2023-03-13</td>\n",
       "      <td>99</td>\n",
       "      <td>0.635688</td>\n",
       "      <td>0.638418</td>\n",
       "      <td>0.557717</td>\n",
       "      <td>0.495128</td>\n",
       "      <td>0.677806</td>\n",
       "      <td>1.536627</td>\n",
       "    </tr>\n",
       "    <tr>\n",
       "      <th>34</th>\n",
       "      <td>sh512400</td>\n",
       "      <td>有色金属ETF</td>\n",
       "      <td>99</td>\n",
       "      <td>0.51</td>\n",
       "      <td>0.006729</td>\n",
       "      <td>0.476</td>\n",
       "      <td>0.173</td>\n",
       "      <td>0.521</td>\n",
       "      <td>0.195</td>\n",
       "      <td>0.458</td>\n",
       "      <td>...</td>\n",
       "      <td>-0.003</td>\n",
       "      <td>0.220</td>\n",
       "      <td>2023-03-13</td>\n",
       "      <td>99</td>\n",
       "      <td>0.613929</td>\n",
       "      <td>0.539548</td>\n",
       "      <td>0.536379</td>\n",
       "      <td>0.533247</td>\n",
       "      <td>0.653276</td>\n",
       "      <td>1.517854</td>\n",
       "    </tr>\n",
       "    <tr>\n",
       "      <th>16</th>\n",
       "      <td>sh512970</td>\n",
       "      <td>大湾区ETF</td>\n",
       "      <td>99</td>\n",
       "      <td>0.61</td>\n",
       "      <td>-0.012340</td>\n",
       "      <td>0.542</td>\n",
       "      <td>0.097</td>\n",
       "      <td>0.528</td>\n",
       "      <td>0.134</td>\n",
       "      <td>0.593</td>\n",
       "      <td>...</td>\n",
       "      <td>-0.055</td>\n",
       "      <td>0.189</td>\n",
       "      <td>2023-03-13</td>\n",
       "      <td>99</td>\n",
       "      <td>0.839008</td>\n",
       "      <td>0.392655</td>\n",
       "      <td>0.136713</td>\n",
       "      <td>0.082765</td>\n",
       "      <td>0.285781</td>\n",
       "      <td>1.504996</td>\n",
       "    </tr>\n",
       "  </tbody>\n",
       "</table>\n",
       "<p>10 rows × 25 columns</p>\n",
       "</div>"
      ],
      "text/plain": [
       "    stock_id stock_name  total_influencer_used  pred_today_cls  \\\n",
       "15  sz159650      国开ETF                     99            0.61   \n",
       "39  sz159928      消费ETF                     99            0.54   \n",
       "8   sh510370   300指数ETF                     99            0.60   \n",
       "54  sz159658    数字经济ETF                     99            0.61   \n",
       "35  sh515880      通讯ETF                     99            0.56   \n",
       "0   sh000001       上证指数                     99            0.55   \n",
       "18  sz159869      游戏ETF                     99            0.56   \n",
       "25  sz159865      养殖ETF                     99            0.53   \n",
       "34  sh512400    有色金属ETF                     99            0.51   \n",
       "16  sh512970     大湾区ETF                     99            0.61   \n",
       "\n",
       "    pred_today_reg     f1  f1_std  precision  precision_std  recall  ...  \\\n",
       "15        0.000696  0.673   0.103      0.593          0.104   0.840  ...   \n",
       "39        0.012663  0.450   0.120      0.615          0.220   0.363  ...   \n",
       "8         0.018858  0.614   0.105      0.594          0.140   0.694  ...   \n",
       "54        0.009237  0.523   0.124      0.573          0.171   0.499  ...   \n",
       "35        0.005363  0.590   0.107      0.550          0.160   0.687  ...   \n",
       "0         0.004058  0.561   0.155      0.545          0.156   0.608  ...   \n",
       "18        0.007139  0.508   0.162      0.531          0.186   0.535  ...   \n",
       "25        0.005115  0.461   0.088      0.527          0.167   0.464  ...   \n",
       "34        0.006729  0.476   0.173      0.521          0.195   0.458  ...   \n",
       "16       -0.012340  0.542   0.097      0.528          0.134   0.593  ...   \n",
       "\n",
       "    spearmanr  spearmanr_std       today  today_influencer_count    index1  \\\n",
       "15      0.040          0.409  2023-03-13                      99  0.964286   \n",
       "39      0.006          0.159  2023-03-13                      99  0.640263   \n",
       "8       0.025          0.229  2023-03-13                      99  0.895024   \n",
       "54     -0.025          0.471  2023-03-13                      99  0.817875   \n",
       "35     -0.074          0.187  2023-03-13                      99  0.801795   \n",
       "0       0.000          0.222  2023-03-13                      99  0.759202   \n",
       "18     -0.052          0.265  2023-03-13                      99  0.729302   \n",
       "25      0.032          0.158  2023-03-13                      99  0.635688   \n",
       "34     -0.003          0.220  2023-03-13                      99  0.613929   \n",
       "16     -0.055          0.189  2023-03-13                      99  0.839008   \n",
       "\n",
       "    spearmanr_minmax    index2 pred_today_reg_minmax    index3    index4  \n",
       "15          0.661017  0.491137              0.390723  0.760993  1.827825  \n",
       "39          0.564972  0.614455              0.673439  0.712387  1.681181  \n",
       "8           0.618644  0.705146              0.819771  0.904407  1.644308  \n",
       "54          0.477401  0.528755              0.592489  0.743128  1.616140  \n",
       "35          0.338983  0.404360              0.500979  0.628889  1.583232  \n",
       "0           0.548023  0.506114              0.470160  0.701731  1.580785  \n",
       "18          0.401130  0.461384              0.542939  0.654591  1.538500  \n",
       "25          0.638418  0.557717              0.495128  0.677806  1.536627  \n",
       "34          0.539548  0.536379              0.533247  0.653276  1.517854  \n",
       "16          0.392655  0.136713              0.082765  0.285781  1.504996  \n",
       "\n",
       "[10 rows x 25 columns]"
      ]
     },
     "execution_count": 72,
     "metadata": {},
     "output_type": "execute_result"
    }
   ],
   "source": [
    "pred_res[pred_res.pred_today_cls>0.5].sort_values(by='index4',ascending=False).head(10)"
   ]
  },
  {
   "attachments": {},
   "cell_type": "markdown",
   "metadata": {},
   "source": [
    "## Send email every morning"
   ]
  },
  {
   "cell_type": "code",
   "execution_count": 78,
   "metadata": {},
   "outputs": [
    {
     "name": "stdout",
     "output_type": "stream",
     "text": [
      "Email sent successfully!\n"
     ]
    }
   ],
   "source": [
    "#### send\n",
    "\n",
    "top10 = pred_res[pred_res.pred_today_cls>0.5].sort_values(by='index4',ascending=False).head(10)\n",
    "top10 = top10[['stock_id','stock_name','total_influencer_used','pred_today_cls','pred_today_reg','f1','precision','index4']].reset_index(drop=False)\n",
    "\n",
    "from utiles.send_email_utiles import send_email\n",
    "text = f'''\n",
    "    Top 10 today:\n",
    "    {top10}\n",
    "'''\n",
    "\n",
    "send_email(text)\n",
    "\n"
   ]
  }
 ],
 "metadata": {
  "kernelspec": {
   "display_name": "base",
   "language": "python",
   "name": "python3"
  },
  "language_info": {
   "codemirror_mode": {
    "name": "ipython",
    "version": 3
   },
   "file_extension": ".py",
   "mimetype": "text/x-python",
   "name": "python",
   "nbconvert_exporter": "python",
   "pygments_lexer": "ipython3",
   "version": "3.9.7"
  },
  "orig_nbformat": 4,
  "vscode": {
   "interpreter": {
    "hash": "1e9867b585c0f10e2eb480253e40cab44b53d9f15cdd7fb9c79b17a5cb2fa039"
   }
  }
 },
 "nbformat": 4,
 "nbformat_minor": 2
}
