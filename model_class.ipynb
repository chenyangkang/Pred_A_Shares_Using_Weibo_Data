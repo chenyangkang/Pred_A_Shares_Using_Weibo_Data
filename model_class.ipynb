{
 "cells": [
  {
   "cell_type": "code",
   "execution_count": 1,
   "metadata": {},
   "outputs": [],
   "source": [
    "import pickle\n",
    "import datetime\n",
    "import pandas as pd\n",
    "import numpy as np\n",
    "from warnings import filterwarnings\n",
    "filterwarnings('ignore')\n",
    "from tqdm import tqdm\n",
    "import matplotlib.pyplot as plt\n",
    "\n",
    "\n",
    "from weibo_scraper import get_weibo_profile\n",
    "import weibo_scraper\n",
    "from tqdm import tqdm\n",
    "import pickle\n",
    "from weibo_scraper import  get_formatted_weibo_tweets_by_name\n",
    "from sentence_transformers import SentenceTransformer\n",
    "import os\n",
    "from  Ashare.Ashare import *\n",
    "\n",
    "\n",
    "\n",
    "\n"
   ]
  },
  {
   "cell_type": "code",
   "execution_count": 13,
   "metadata": {},
   "outputs": [
    {
     "name": "stdout",
     "output_type": "stream",
     "text": [
      "The autoreload extension is already loaded. To reload it, use:\n",
      "  %reload_ext autoreload\n"
     ]
    }
   ],
   "source": [
    "%load_ext autoreload\n",
    "%autoreload 2"
   ]
  },
  {
   "cell_type": "code",
   "execution_count": 14,
   "metadata": {},
   "outputs": [],
   "source": [
    "from Weibo_scrapper_utiles import get_influencer_list,get_data_by_usr_name\n",
    "from Sentence_embedding_utiles import get_date\n",
    "from get_stock_codes_utiles import get_stock_codes"
   ]
  },
  {
   "cell_type": "code",
   "execution_count": 15,
   "metadata": {},
   "outputs": [],
   "source": [
    "from sklearn.ensemble import RandomForestClassifier,RandomForestRegressor\n",
    "from xgboost import XGBRFClassifier, XGBRFRegressor\n",
    "from sklearn.model_selection import train_test_split\n",
    "from sklearn.utils.class_weight import compute_sample_weight\n",
    "from sklearn.metrics import precision_score, recall_score, roc_auc_score, f1_score, r2_score, mean_squared_error\n",
    "from sklearn.model_selection import cross_validate\n",
    "from sklearn.metrics import make_scorer\n"
   ]
  },
  {
   "cell_type": "code",
   "execution_count": 29,
   "metadata": {},
   "outputs": [],
   "source": [
    "stock_codes_dict = get_stock_codes()"
   ]
  },
  {
   "cell_type": "code",
   "execution_count": 30,
   "metadata": {},
   "outputs": [],
   "source": [
    "from Agent_utiles import Wei_trade_model"
   ]
  },
  {
   "attachments": {},
   "cell_type": "markdown",
   "metadata": {},
   "source": [
    "## Initialization (Train on historical data & store model)\n",
    "### To include new influencer, reinitialize the models"
   ]
  },
  {
   "cell_type": "code",
   "execution_count": 31,
   "metadata": {},
   "outputs": [
    {
     "name": "stderr",
     "output_type": "stream",
     "text": [
      "  0%|          | 0/65 [00:00<?, ?it/s]No sentence-transformers model found with name /Users/chenyangkang/.cache/torch/sentence_transformers/uer_sbert-base-chinese-nli. Creating a new one with MEAN pooling.\n"
     ]
    },
    {
     "name": "stdout",
     "output_type": "stream",
     "text": [
      "Input data formatted\n",
      "Classifier stored in model.classifier; scores stored in model.cls_scores\n",
      "Regressor stored in model.regressor; scores stored in model.reg_scores\n",
      "--------------------------------------------------------\n",
      "sh000001 上证指数                     mean       std\n",
      "test_precision  0.588571  0.219652\n",
      "test_recall     0.511111  0.213919\n",
      "test_roc_auc    0.547295  0.145337\n",
      "test_f1_score   0.504188  0.151053                              mean       std\n",
      "test_r2_score           -0.137722  0.127252\n",
      "test_mean_squared_error  0.000074  0.000042\n",
      "test_spearmanr           0.008462  0.287403\n",
      "--------------------------------------------------------\n"
     ]
    },
    {
     "name": "stderr",
     "output_type": "stream",
     "text": [
      "  2%|▏         | 1/65 [00:31<33:37, 31.52s/it]No sentence-transformers model found with name /Users/chenyangkang/.cache/torch/sentence_transformers/uer_sbert-base-chinese-nli. Creating a new one with MEAN pooling.\n"
     ]
    },
    {
     "name": "stdout",
     "output_type": "stream",
     "text": [
      "Input data formatted\n",
      "Classifier stored in model.classifier; scores stored in model.cls_scores\n",
      "Regressor stored in model.regressor; scores stored in model.reg_scores\n",
      "--------------------------------------------------------\n",
      "sz399001 创业板指                     mean       std\n",
      "test_precision  0.359127  0.168791\n",
      "test_recall     0.311674  0.193431\n",
      "test_roc_auc    0.450996  0.071177\n",
      "test_f1_score   0.296869  0.137889                              mean       std\n",
      "test_r2_score           -0.158944  0.203546\n",
      "test_mean_squared_error  0.000124  0.000074\n",
      "test_spearmanr          -0.079451  0.292265\n",
      "--------------------------------------------------------\n"
     ]
    },
    {
     "name": "stderr",
     "output_type": "stream",
     "text": [
      "  3%|▎         | 2/65 [01:03<33:10, 31.60s/it]No sentence-transformers model found with name /Users/chenyangkang/.cache/torch/sentence_transformers/uer_sbert-base-chinese-nli. Creating a new one with MEAN pooling.\n"
     ]
    },
    {
     "name": "stdout",
     "output_type": "stream",
     "text": [
      "Input data formatted\n",
      "Classifier stored in model.classifier; scores stored in model.cls_scores\n",
      "Regressor stored in model.regressor; scores stored in model.reg_scores\n",
      "--------------------------------------------------------\n",
      "sh000300 沪深300                     mean       std\n",
      "test_precision  0.327500  0.202143\n",
      "test_recall     0.213929  0.168463\n",
      "test_roc_auc    0.438056  0.090415\n",
      "test_f1_score   0.248030  0.173647                              mean       std\n",
      "test_r2_score           -0.220967  0.126178\n",
      "test_mean_squared_error  0.000110  0.000067\n",
      "test_spearmanr          -0.210440  0.278331\n",
      "--------------------------------------------------------\n"
     ]
    },
    {
     "name": "stderr",
     "output_type": "stream",
     "text": [
      "  5%|▍         | 3/65 [01:34<32:33, 31.51s/it]No sentence-transformers model found with name /Users/chenyangkang/.cache/torch/sentence_transformers/uer_sbert-base-chinese-nli. Creating a new one with MEAN pooling.\n"
     ]
    },
    {
     "name": "stdout",
     "output_type": "stream",
     "text": [
      "Input data formatted\n",
      "Classifier stored in model.classifier; scores stored in model.cls_scores\n",
      "Regressor stored in model.regressor; scores stored in model.reg_scores\n"
     ]
    },
    {
     "name": "stderr",
     "output_type": "stream",
     "text": [
      "  6%|▌         | 4/65 [02:07<32:32, 32.01s/it]"
     ]
    },
    {
     "name": "stdout",
     "output_type": "stream",
     "text": [
      "--------------------------------------------------------\n",
      "sh000688 科创50                     mean       std\n",
      "test_precision  0.481667  0.222713\n",
      "test_recall     0.394419  0.167387\n",
      "test_roc_auc    0.475007  0.099100\n",
      "test_f1_score   0.403214  0.121541                              mean       std\n",
      "test_r2_score           -0.138232  0.240837\n",
      "test_mean_squared_error  0.000202  0.000121\n",
      "test_spearmanr           0.021209  0.286923\n",
      "--------------------------------------------------------\n"
     ]
    },
    {
     "name": "stderr",
     "output_type": "stream",
     "text": [
      "No sentence-transformers model found with name /Users/chenyangkang/.cache/torch/sentence_transformers/uer_sbert-base-chinese-nli. Creating a new one with MEAN pooling.\n"
     ]
    },
    {
     "name": "stdout",
     "output_type": "stream",
     "text": [
      "Input data formatted\n",
      "Classifier stored in model.classifier; scores stored in model.cls_scores\n",
      "Regressor stored in model.regressor; scores stored in model.reg_scores\n"
     ]
    },
    {
     "name": "stderr",
     "output_type": "stream",
     "text": [
      "  8%|▊         | 5/65 [02:36<31:01, 31.03s/it]"
     ]
    },
    {
     "name": "stdout",
     "output_type": "stream",
     "text": [
      "--------------------------------------------------------\n",
      "sh000016 上证50                     mean       std\n",
      "test_precision  0.375000  0.258870\n",
      "test_recall     0.241667  0.185945\n",
      "test_roc_auc    0.438690  0.111886\n",
      "test_f1_score   0.263911  0.159598                              mean       std\n",
      "test_r2_score           -0.406234  0.494958\n",
      "test_mean_squared_error  0.000127  0.000081\n",
      "test_spearmanr          -0.202637  0.226357\n",
      "--------------------------------------------------------\n"
     ]
    },
    {
     "name": "stderr",
     "output_type": "stream",
     "text": [
      "No sentence-transformers model found with name /Users/chenyangkang/.cache/torch/sentence_transformers/uer_sbert-base-chinese-nli. Creating a new one with MEAN pooling.\n"
     ]
    },
    {
     "name": "stdout",
     "output_type": "stream",
     "text": [
      "Input data formatted\n",
      "Classifier stored in model.classifier; scores stored in model.cls_scores\n",
      "Regressor stored in model.regressor; scores stored in model.reg_scores\n"
     ]
    },
    {
     "name": "stderr",
     "output_type": "stream",
     "text": [
      "  9%|▉         | 6/65 [03:08<30:51, 31.38s/it]"
     ]
    },
    {
     "name": "stdout",
     "output_type": "stream",
     "text": [
      "--------------------------------------------------------\n",
      "sh000905 中证500                     mean       std\n",
      "test_precision  0.465530  0.099147\n",
      "test_recall     0.510794  0.074166\n",
      "test_roc_auc    0.422302  0.057864\n",
      "test_f1_score   0.479464  0.066265                              mean       std\n",
      "test_r2_score           -0.186579  0.240168\n",
      "test_mean_squared_error  0.000107  0.000067\n",
      "test_spearmanr           0.018022  0.283009\n",
      "--------------------------------------------------------\n"
     ]
    },
    {
     "name": "stderr",
     "output_type": "stream",
     "text": [
      "No sentence-transformers model found with name /Users/chenyangkang/.cache/torch/sentence_transformers/uer_sbert-base-chinese-nli. Creating a new one with MEAN pooling.\n"
     ]
    },
    {
     "name": "stdout",
     "output_type": "stream",
     "text": [
      "Input data formatted\n",
      "Classifier stored in model.classifier; scores stored in model.cls_scores\n",
      "Regressor stored in model.regressor; scores stored in model.reg_scores\n"
     ]
    },
    {
     "name": "stderr",
     "output_type": "stream",
     "text": [
      " 11%|█         | 7/65 [03:40<30:30, 31.55s/it]"
     ]
    },
    {
     "name": "stdout",
     "output_type": "stream",
     "text": [
      "--------------------------------------------------------\n",
      "bj899050 北证50                     mean       std\n",
      "test_precision  0.536667  0.285365\n",
      "test_recall     0.347341  0.185801\n",
      "test_roc_auc    0.548075  0.122638\n",
      "test_f1_score   0.395339  0.202832                              mean       std\n",
      "test_r2_score           -0.466194  0.465431\n",
      "test_mean_squared_error  0.000148  0.000091\n",
      "test_spearmanr           0.045934  0.152356\n",
      "--------------------------------------------------------\n"
     ]
    },
    {
     "name": "stderr",
     "output_type": "stream",
     "text": [
      "No sentence-transformers model found with name /Users/chenyangkang/.cache/torch/sentence_transformers/uer_sbert-base-chinese-nli. Creating a new one with MEAN pooling.\n"
     ]
    },
    {
     "name": "stdout",
     "output_type": "stream",
     "text": [
      "Input data formatted\n",
      "Classifier stored in model.classifier; scores stored in model.cls_scores\n",
      "Regressor stored in model.regressor; scores stored in model.reg_scores\n",
      "--------------------------------------------------------\n",
      "sh512510 中证500指数ETF                     mean       std\n",
      "test_precision  0.456508  0.188367\n",
      "test_recall     0.463333  0.189870\n",
      "test_roc_auc    0.427063  0.136954\n",
      "test_f1_score   0.426802  0.121046                              mean       std\n",
      "test_r2_score           -0.264413  0.214059\n",
      "test_mean_squared_error  0.000103  0.000066\n",
      "test_spearmanr          -0.207513  0.279230\n",
      "--------------------------------------------------------\n"
     ]
    },
    {
     "name": "stderr",
     "output_type": "stream",
     "text": [
      " 12%|█▏        | 8/65 [04:12<30:12, 31.80s/it]No sentence-transformers model found with name /Users/chenyangkang/.cache/torch/sentence_transformers/uer_sbert-base-chinese-nli. Creating a new one with MEAN pooling.\n"
     ]
    },
    {
     "name": "stdout",
     "output_type": "stream",
     "text": [
      "Input data formatted\n",
      "Classifier stored in model.classifier; scores stored in model.cls_scores\n",
      "Regressor stored in model.regressor; scores stored in model.reg_scores\n",
      "--------------------------------------------------------\n",
      "sh510370 300指数ETF                     mean       std\n",
      "test_precision  0.506115  0.157797\n",
      "test_recall     0.593968  0.236712\n",
      "test_roc_auc    0.501687  0.183969\n",
      "test_f1_score   0.532776  0.172698                              mean       std\n",
      "test_r2_score           -0.357609  0.263957\n",
      "test_mean_squared_error  0.000215  0.000147\n",
      "test_spearmanr          -0.047198  0.288188\n",
      "--------------------------------------------------------\n"
     ]
    },
    {
     "name": "stderr",
     "output_type": "stream",
     "text": [
      " 14%|█▍        | 9/65 [04:42<29:09, 31.23s/it]No sentence-transformers model found with name /Users/chenyangkang/.cache/torch/sentence_transformers/uer_sbert-base-chinese-nli. Creating a new one with MEAN pooling.\n"
     ]
    },
    {
     "name": "stdout",
     "output_type": "stream",
     "text": [
      "Input data formatted\n",
      "Classifier stored in model.classifier; scores stored in model.cls_scores\n",
      "Regressor stored in model.regressor; scores stored in model.reg_scores\n",
      "--------------------------------------------------------\n",
      "sh562000 中证100ETF基金                     mean       std\n",
      "test_precision  0.400000  0.381517\n",
      "test_recall     0.162500  0.167798\n",
      "test_roc_auc    0.512321  0.074951\n",
      "test_f1_score   0.202698  0.179692                              mean       std\n",
      "test_r2_score           -0.526558  0.353881\n",
      "test_mean_squared_error  0.000134  0.000085\n",
      "test_spearmanr          -0.206743  0.288908\n",
      "--------------------------------------------------------\n"
     ]
    },
    {
     "name": "stderr",
     "output_type": "stream",
     "text": [
      " 15%|█▌        | 10/65 [05:10<27:36, 30.12s/it]No sentence-transformers model found with name /Users/chenyangkang/.cache/torch/sentence_transformers/uer_sbert-base-chinese-nli. Creating a new one with MEAN pooling.\n"
     ]
    },
    {
     "name": "stdout",
     "output_type": "stream",
     "text": [
      "Input data formatted\n",
      "Classifier stored in model.classifier; scores stored in model.cls_scores\n",
      "Regressor stored in model.regressor; scores stored in model.reg_scores\n",
      "--------------------------------------------------------\n",
      "sh510760 上证综指ETF                     mean       std\n",
      "test_precision  0.536310  0.234234\n",
      "test_recall     0.402262  0.136869\n",
      "test_roc_auc    0.525476  0.119310\n",
      "test_f1_score   0.443764  0.148504                              mean       std\n",
      "test_r2_score           -0.195110  0.133755\n",
      "test_mean_squared_error  0.000072  0.000036\n",
      "test_spearmanr          -0.064164  0.264296\n",
      "--------------------------------------------------------\n"
     ]
    },
    {
     "name": "stderr",
     "output_type": "stream",
     "text": [
      " 17%|█▋        | 11/65 [05:40<27:04, 30.08s/it]No sentence-transformers model found with name /Users/chenyangkang/.cache/torch/sentence_transformers/uer_sbert-base-chinese-nli. Creating a new one with MEAN pooling.\n"
     ]
    },
    {
     "name": "stdout",
     "output_type": "stream",
     "text": [
      "Input data formatted\n",
      "Classifier stored in model.classifier; scores stored in model.cls_scores\n",
      "Regressor stored in model.regressor; scores stored in model.reg_scores\n",
      "--------------------------------------------------------\n",
      "sh512290 生物医药ETF                     mean       std\n",
      "test_precision  0.230476  0.279708\n",
      "test_recall     0.163571  0.143443\n",
      "test_roc_auc    0.409542  0.088202\n",
      "test_f1_score   0.156919  0.115513                              mean       std\n",
      "test_r2_score           -0.315036  0.330274\n",
      "test_mean_squared_error  0.000349  0.000249\n",
      "test_spearmanr          -0.045604  0.258066\n",
      "--------------------------------------------------------\n"
     ]
    },
    {
     "name": "stderr",
     "output_type": "stream",
     "text": [
      " 18%|█▊        | 12/65 [06:11<26:41, 30.22s/it]No sentence-transformers model found with name /Users/chenyangkang/.cache/torch/sentence_transformers/uer_sbert-base-chinese-nli. Creating a new one with MEAN pooling.\n"
     ]
    },
    {
     "name": "stdout",
     "output_type": "stream",
     "text": [
      "Input data formatted\n",
      "Classifier stored in model.classifier; scores stored in model.cls_scores\n",
      "Regressor stored in model.regressor; scores stored in model.reg_scores\n",
      "--------------------------------------------------------\n",
      "sh562500 机器人ETF                     mean       std\n",
      "test_precision  0.416667  0.235702\n",
      "test_recall     0.272540  0.106659\n",
      "test_roc_auc    0.437341  0.145199\n",
      "test_f1_score   0.309809  0.115473                              mean       std\n",
      "test_r2_score           -0.216773  0.216987\n",
      "test_mean_squared_error  0.000259  0.000115\n",
      "test_spearmanr          -0.136345  0.300104\n",
      "--------------------------------------------------------\n"
     ]
    },
    {
     "name": "stderr",
     "output_type": "stream",
     "text": [
      " 20%|██        | 13/65 [06:41<26:17, 30.33s/it]No sentence-transformers model found with name /Users/chenyangkang/.cache/torch/sentence_transformers/uer_sbert-base-chinese-nli. Creating a new one with MEAN pooling.\n"
     ]
    },
    {
     "name": "stdout",
     "output_type": "stream",
     "text": [
      "Input data formatted\n",
      "Classifier stored in model.classifier; scores stored in model.cls_scores\n",
      "Regressor stored in model.regressor; scores stored in model.reg_scores\n",
      "--------------------------------------------------------\n",
      "sz159880 有色ETF基金                     mean       std\n",
      "test_precision  0.284167  0.240845\n",
      "test_recall     0.238333  0.238287\n",
      "test_roc_auc    0.438512  0.136001\n",
      "test_f1_score   0.248291  0.219752                              mean       std\n",
      "test_r2_score           -0.260302  0.118597\n",
      "test_mean_squared_error  0.000276  0.000160\n",
      "test_spearmanr          -0.070092  0.200041\n",
      "--------------------------------------------------------\n"
     ]
    },
    {
     "name": "stderr",
     "output_type": "stream",
     "text": [
      " 22%|██▏       | 14/65 [07:11<25:41, 30.23s/it]No sentence-transformers model found with name /Users/chenyangkang/.cache/torch/sentence_transformers/uer_sbert-base-chinese-nli. Creating a new one with MEAN pooling.\n"
     ]
    },
    {
     "name": "stdout",
     "output_type": "stream",
     "text": [
      "Input data formatted\n",
      "Classifier stored in model.classifier; scores stored in model.cls_scores\n",
      "Regressor stored in model.regressor; scores stored in model.reg_scores\n",
      "--------------------------------------------------------\n",
      "sh561300 矿业ETF                     mean       std\n",
      "test_precision  0.306667  0.379707\n",
      "test_recall     0.156667  0.181995\n",
      "test_roc_auc    0.494179  0.080300\n",
      "test_f1_score   0.170476  0.174286                              mean       std\n",
      "test_r2_score           -0.261656  0.219306\n",
      "test_mean_squared_error  0.000105  0.000057\n",
      "test_spearmanr          -0.236591  0.251102\n",
      "--------------------------------------------------------\n"
     ]
    },
    {
     "name": "stderr",
     "output_type": "stream",
     "text": [
      " 23%|██▎       | 15/65 [07:41<25:00, 30.02s/it]No sentence-transformers model found with name /Users/chenyangkang/.cache/torch/sentence_transformers/uer_sbert-base-chinese-nli. Creating a new one with MEAN pooling.\n"
     ]
    },
    {
     "name": "stdout",
     "output_type": "stream",
     "text": [
      "Input data formatted\n",
      "Classifier stored in model.classifier; scores stored in model.cls_scores\n",
      "Regressor stored in model.regressor; scores stored in model.reg_scores\n",
      "--------------------------------------------------------\n",
      "sz159650 国开ETF                     mean       std\n",
      "test_precision  0.550397  0.135921\n",
      "test_recall     0.742857  0.170806\n",
      "test_roc_auc    0.437262  0.114773\n",
      "test_f1_score   0.620000  0.117663                                  mean           std\n",
      "test_r2_score           -3.160116e-01  3.107961e-01\n",
      "test_mean_squared_error  3.334838e-07  2.808252e-07\n",
      "test_spearmanr          -5.166667e-02  3.952812e-01\n",
      "--------------------------------------------------------\n"
     ]
    },
    {
     "name": "stderr",
     "output_type": "stream",
     "text": [
      " 25%|██▍       | 16/65 [08:04<22:50, 27.97s/it]No sentence-transformers model found with name /Users/chenyangkang/.cache/torch/sentence_transformers/uer_sbert-base-chinese-nli. Creating a new one with MEAN pooling.\n"
     ]
    },
    {
     "name": "stdout",
     "output_type": "stream",
     "text": [
      "Input data formatted\n",
      "Classifier stored in model.classifier; scores stored in model.cls_scores\n",
      "Regressor stored in model.regressor; scores stored in model.reg_scores\n",
      "--------------------------------------------------------\n",
      "sh512970 大湾区ETF                     mean       std\n",
      "test_precision  0.556908  0.140076\n",
      "test_recall     0.739203  0.168229\n",
      "test_roc_auc    0.501268  0.148998\n",
      "test_f1_score   0.623260  0.137563                              mean       std\n",
      "test_r2_score           -0.197976  0.086811\n",
      "test_mean_squared_error  0.000247  0.000076\n",
      "test_spearmanr          -0.162607  0.211621\n",
      "--------------------------------------------------------\n"
     ]
    },
    {
     "name": "stderr",
     "output_type": "stream",
     "text": [
      " 26%|██▌       | 17/65 [08:36<23:15, 29.07s/it]No sentence-transformers model found with name /Users/chenyangkang/.cache/torch/sentence_transformers/uer_sbert-base-chinese-nli. Creating a new one with MEAN pooling.\n"
     ]
    },
    {
     "name": "stdout",
     "output_type": "stream",
     "text": [
      "Input data formatted\n",
      "Classifier stored in model.classifier; scores stored in model.cls_scores\n",
      "Regressor stored in model.regressor; scores stored in model.reg_scores\n",
      "--------------------------------------------------------\n",
      "sh588090 科创板ETF                     mean       std\n",
      "test_precision  0.527778  0.226798\n",
      "test_recall     0.425873  0.170852\n",
      "test_roc_auc    0.510804  0.134703\n",
      "test_f1_score   0.450433  0.148980                              mean       std\n",
      "test_r2_score           -0.138580  0.155819\n",
      "test_mean_squared_error  0.000187  0.000105\n",
      "test_spearmanr          -0.047975  0.184407\n",
      "--------------------------------------------------------\n"
     ]
    },
    {
     "name": "stderr",
     "output_type": "stream",
     "text": [
      " 28%|██▊       | 18/65 [09:05<22:46, 29.08s/it]No sentence-transformers model found with name /Users/chenyangkang/.cache/torch/sentence_transformers/uer_sbert-base-chinese-nli. Creating a new one with MEAN pooling.\n"
     ]
    },
    {
     "name": "stdout",
     "output_type": "stream",
     "text": [
      "Input data formatted\n",
      "Classifier stored in model.classifier; scores stored in model.cls_scores\n",
      "Regressor stored in model.regressor; scores stored in model.reg_scores\n",
      "--------------------------------------------------------\n",
      "sz159869 游戏ETF                     mean       std\n",
      "test_precision  0.474762  0.283076\n",
      "test_recall     0.389722  0.269428\n",
      "test_roc_auc    0.481290  0.143696\n",
      "test_f1_score   0.381163  0.208639                              mean       std\n",
      "test_r2_score           -0.191311  0.151269\n",
      "test_mean_squared_error  0.000317  0.000135\n",
      "test_spearmanr          -0.052308  0.191517\n",
      "--------------------------------------------------------\n"
     ]
    },
    {
     "name": "stderr",
     "output_type": "stream",
     "text": [
      " 29%|██▉       | 19/65 [09:33<22:05, 28.82s/it]No sentence-transformers model found with name /Users/chenyangkang/.cache/torch/sentence_transformers/uer_sbert-base-chinese-nli. Creating a new one with MEAN pooling.\n"
     ]
    },
    {
     "name": "stdout",
     "output_type": "stream",
     "text": [
      "Input data formatted\n",
      "Classifier stored in model.classifier; scores stored in model.cls_scores\n",
      "Regressor stored in model.regressor; scores stored in model.reg_scores\n",
      "--------------------------------------------------------\n",
      "sz159998 计算机ETF                     mean       std\n",
      "test_precision  0.548571  0.149766\n",
      "test_recall     0.501310  0.179905\n",
      "test_roc_auc    0.541131  0.131086\n",
      "test_f1_score   0.513060  0.150064                              mean       std\n",
      "test_r2_score           -0.307378  0.281401\n",
      "test_mean_squared_error  0.000336  0.000119\n",
      "test_spearmanr          -0.173077  0.288015\n",
      "--------------------------------------------------------\n"
     ]
    },
    {
     "name": "stderr",
     "output_type": "stream",
     "text": [
      " 31%|███       | 20/65 [10:02<21:42, 28.95s/it]No sentence-transformers model found with name /Users/chenyangkang/.cache/torch/sentence_transformers/uer_sbert-base-chinese-nli. Creating a new one with MEAN pooling.\n"
     ]
    },
    {
     "name": "stdout",
     "output_type": "stream",
     "text": [
      "Input data formatted\n",
      "Classifier stored in model.classifier; scores stored in model.cls_scores\n",
      "Regressor stored in model.regressor; scores stored in model.reg_scores\n",
      "--------------------------------------------------------\n",
      "sh516510 云计算ETF                     mean       std\n",
      "test_precision  0.433333  0.274469\n",
      "test_recall     0.299643  0.209937\n",
      "test_roc_auc    0.498155  0.162745\n",
      "test_f1_score   0.342619  0.230060                              mean       std\n",
      "test_r2_score           -0.244799  0.188951\n",
      "test_mean_squared_error  0.000407  0.000196\n",
      "test_spearmanr          -0.071709  0.279801\n",
      "--------------------------------------------------------\n"
     ]
    },
    {
     "name": "stderr",
     "output_type": "stream",
     "text": [
      " 32%|███▏      | 21/65 [10:31<21:17, 29.02s/it]No sentence-transformers model found with name /Users/chenyangkang/.cache/torch/sentence_transformers/uer_sbert-base-chinese-nli. Creating a new one with MEAN pooling.\n"
     ]
    },
    {
     "name": "stdout",
     "output_type": "stream",
     "text": [
      "Input data formatted\n",
      "Classifier stored in model.classifier; scores stored in model.cls_scores\n",
      "Regressor stored in model.regressor; scores stored in model.reg_scores\n",
      "--------------------------------------------------------\n",
      "sh512670 国防ETF                     mean       std\n",
      "test_precision  0.428254  0.272004\n",
      "test_recall     0.273810  0.195840\n",
      "test_roc_auc    0.460218  0.160236\n",
      "test_f1_score   0.305183  0.182662                              mean       std\n",
      "test_r2_score           -0.084321  0.174369\n",
      "test_mean_squared_error  0.000227  0.000126\n",
      "test_spearmanr           0.060330  0.282388\n",
      "--------------------------------------------------------\n"
     ]
    },
    {
     "name": "stderr",
     "output_type": "stream",
     "text": [
      " 34%|███▍      | 22/65 [11:00<20:50, 29.07s/it]No sentence-transformers model found with name /Users/chenyangkang/.cache/torch/sentence_transformers/uer_sbert-base-chinese-nli. Creating a new one with MEAN pooling.\n"
     ]
    },
    {
     "name": "stdout",
     "output_type": "stream",
     "text": [
      "Input data formatted\n",
      "Classifier stored in model.classifier; scores stored in model.cls_scores\n",
      "Regressor stored in model.regressor; scores stored in model.reg_scores\n",
      "--------------------------------------------------------\n",
      "sh515210 钢铁ETF                     mean       std\n",
      "test_precision  0.552551  0.157224\n",
      "test_recall     0.706767  0.205997\n",
      "test_roc_auc    0.510784  0.086347\n",
      "test_f1_score   0.582870  0.134350                              mean       std\n",
      "test_r2_score           -0.134484  0.186093\n",
      "test_mean_squared_error  0.000144  0.000073\n",
      "test_spearmanr          -0.013956  0.322465\n",
      "--------------------------------------------------------\n"
     ]
    },
    {
     "name": "stderr",
     "output_type": "stream",
     "text": [
      " 35%|███▌      | 23/65 [11:30<20:24, 29.16s/it]No sentence-transformers model found with name /Users/chenyangkang/.cache/torch/sentence_transformers/uer_sbert-base-chinese-nli. Creating a new one with MEAN pooling.\n"
     ]
    },
    {
     "name": "stdout",
     "output_type": "stream",
     "text": [
      "Input data formatted\n",
      "Classifier stored in model.classifier; scores stored in model.cls_scores\n",
      "Regressor stored in model.regressor; scores stored in model.reg_scores\n",
      "--------------------------------------------------------\n",
      "sz159825 农业ETF                     mean       std\n",
      "test_precision  0.546032  0.197452\n",
      "test_recall     0.502071  0.246705\n",
      "test_roc_auc    0.571789  0.171948\n",
      "test_f1_score   0.476817  0.175372                              mean       std\n",
      "test_r2_score           -0.059191  0.227740\n",
      "test_mean_squared_error  0.000111  0.000057\n",
      "test_spearmanr           0.244540  0.303950\n",
      "--------------------------------------------------------\n"
     ]
    },
    {
     "name": "stderr",
     "output_type": "stream",
     "text": [
      " 37%|███▋      | 24/65 [11:59<19:56, 29.18s/it]No sentence-transformers model found with name /Users/chenyangkang/.cache/torch/sentence_transformers/uer_sbert-base-chinese-nli. Creating a new one with MEAN pooling.\n"
     ]
    },
    {
     "name": "stdout",
     "output_type": "stream",
     "text": [
      "Input data formatted\n",
      "Classifier stored in model.classifier; scores stored in model.cls_scores\n",
      "Regressor stored in model.regressor; scores stored in model.reg_scores\n",
      "--------------------------------------------------------\n",
      "sz159996 家电ETF                     mean       std\n",
      "test_precision  0.183333  0.254951\n",
      "test_recall     0.089286  0.119196\n",
      "test_roc_auc    0.383056  0.136215\n",
      "test_f1_score   0.116154  0.155917                              mean       std\n",
      "test_r2_score           -0.375537  0.339705\n",
      "test_mean_squared_error  0.000202  0.000085\n",
      "test_spearmanr          -0.119704  0.299630\n",
      "--------------------------------------------------------\n"
     ]
    },
    {
     "name": "stderr",
     "output_type": "stream",
     "text": [
      " 38%|███▊      | 25/65 [12:30<19:47, 29.68s/it]No sentence-transformers model found with name /Users/chenyangkang/.cache/torch/sentence_transformers/uer_sbert-base-chinese-nli. Creating a new one with MEAN pooling.\n"
     ]
    },
    {
     "name": "stdout",
     "output_type": "stream",
     "text": [
      "Input data formatted\n",
      "Classifier stored in model.classifier; scores stored in model.cls_scores\n",
      "Regressor stored in model.regressor; scores stored in model.reg_scores\n",
      "--------------------------------------------------------\n",
      "sz159865 养殖ETF                     mean       std\n",
      "test_precision  0.468669  0.160761\n",
      "test_recall     0.531115  0.307383\n",
      "test_roc_auc    0.522502  0.137019\n",
      "test_f1_score   0.461799  0.219333                              mean       std\n",
      "test_r2_score           -0.112805  0.205443\n",
      "test_mean_squared_error  0.000180  0.000087\n",
      "test_spearmanr           0.116511  0.331407\n",
      "--------------------------------------------------------\n"
     ]
    },
    {
     "name": "stderr",
     "output_type": "stream",
     "text": [
      " 40%|████      | 26/65 [12:59<19:13, 29.59s/it]No sentence-transformers model found with name /Users/chenyangkang/.cache/torch/sentence_transformers/uer_sbert-base-chinese-nli. Creating a new one with MEAN pooling.\n"
     ]
    },
    {
     "name": "stdout",
     "output_type": "stream",
     "text": [
      "Input data formatted\n",
      "Classifier stored in model.classifier; scores stored in model.cls_scores\n",
      "Regressor stored in model.regressor; scores stored in model.reg_scores\n",
      "--------------------------------------------------------\n",
      "sh515230 软件ETF                     mean       std\n",
      "test_precision  0.555628  0.169259\n",
      "test_recall     0.741667  0.211246\n",
      "test_roc_auc    0.539444  0.108453\n",
      "test_f1_score   0.588205  0.097943                              mean       std\n",
      "test_r2_score           -0.230301  0.330541\n",
      "test_mean_squared_error  0.000365  0.000128\n",
      "test_spearmanr           0.123801  0.274022\n",
      "--------------------------------------------------------\n"
     ]
    },
    {
     "name": "stderr",
     "output_type": "stream",
     "text": [
      " 42%|████▏     | 27/65 [13:28<18:32, 29.29s/it]No sentence-transformers model found with name /Users/chenyangkang/.cache/torch/sentence_transformers/uer_sbert-base-chinese-nli. Creating a new one with MEAN pooling.\n"
     ]
    },
    {
     "name": "stdout",
     "output_type": "stream",
     "text": [
      "Input data formatted\n",
      "Classifier stored in model.classifier; scores stored in model.cls_scores\n",
      "Regressor stored in model.regressor; scores stored in model.reg_scores\n",
      "--------------------------------------------------------\n",
      "sh512980 传媒ETF                     mean       std\n",
      "test_precision  0.476234  0.165466\n",
      "test_recall     0.596905  0.224207\n",
      "test_roc_auc    0.462183  0.121084\n",
      "test_f1_score   0.525125  0.183280                              mean       std\n",
      "test_r2_score           -0.160800  0.152373\n",
      "test_mean_squared_error  0.000248  0.000102\n",
      "test_spearmanr          -0.041074  0.252261\n",
      "--------------------------------------------------------\n"
     ]
    },
    {
     "name": "stderr",
     "output_type": "stream",
     "text": [
      " 43%|████▎     | 28/65 [13:56<17:46, 28.82s/it]No sentence-transformers model found with name /Users/chenyangkang/.cache/torch/sentence_transformers/uer_sbert-base-chinese-nli. Creating a new one with MEAN pooling.\n"
     ]
    },
    {
     "name": "stdout",
     "output_type": "stream",
     "text": [
      "Input data formatted\n",
      "Classifier stored in model.classifier; scores stored in model.cls_scores\n",
      "Regressor stored in model.regressor; scores stored in model.reg_scores\n",
      "--------------------------------------------------------\n",
      "sh513360 教育ETF                     mean       std\n",
      "test_precision  0.050000  0.150000\n",
      "test_recall     0.020000  0.060000\n",
      "test_roc_auc    0.467083  0.065840\n",
      "test_f1_score   0.028571  0.085714                              mean       std\n",
      "test_r2_score           -0.130868  0.149478\n",
      "test_mean_squared_error  0.000347  0.000118\n",
      "test_spearmanr          -0.026523  0.270203\n",
      "--------------------------------------------------------\n"
     ]
    },
    {
     "name": "stderr",
     "output_type": "stream",
     "text": [
      " 45%|████▍     | 29/65 [14:24<17:14, 28.75s/it]No sentence-transformers model found with name /Users/chenyangkang/.cache/torch/sentence_transformers/uer_sbert-base-chinese-nli. Creating a new one with MEAN pooling.\n"
     ]
    },
    {
     "name": "stdout",
     "output_type": "stream",
     "text": [
      "Input data formatted\n",
      "Classifier stored in model.classifier; scores stored in model.cls_scores\n",
      "Regressor stored in model.regressor; scores stored in model.reg_scores\n",
      "--------------------------------------------------------\n",
      "sz159840 锂电池ETF                     mean       std\n",
      "test_precision  0.511190  0.167630\n",
      "test_recall     0.540397  0.189064\n",
      "test_roc_auc    0.512659  0.127023\n",
      "test_f1_score   0.519809  0.167706                              mean       std\n",
      "test_r2_score           -0.252913  0.165788\n",
      "test_mean_squared_error  0.000337  0.000223\n",
      "test_spearmanr          -0.200586  0.199193\n",
      "--------------------------------------------------------\n"
     ]
    },
    {
     "name": "stderr",
     "output_type": "stream",
     "text": [
      " 46%|████▌     | 30/65 [14:53<16:47, 28.79s/it]No sentence-transformers model found with name /Users/chenyangkang/.cache/torch/sentence_transformers/uer_sbert-base-chinese-nli. Creating a new one with MEAN pooling.\n"
     ]
    },
    {
     "name": "stdout",
     "output_type": "stream",
     "text": [
      "Input data formatted\n",
      "Classifier stored in model.classifier; scores stored in model.cls_scores\n",
      "Regressor stored in model.regressor; scores stored in model.reg_scores\n",
      "--------------------------------------------------------\n",
      "sh512200 房地产ETF                     mean       std\n",
      "test_precision  0.515754  0.162144\n",
      "test_recall     0.495357  0.118624\n",
      "test_roc_auc    0.501488  0.102608\n",
      "test_f1_score   0.490238  0.111638                              mean       std\n",
      "test_r2_score           -0.150923  0.159848\n",
      "test_mean_squared_error  0.000255  0.000127\n",
      "test_spearmanr           0.038352  0.181295\n",
      "--------------------------------------------------------\n"
     ]
    },
    {
     "name": "stderr",
     "output_type": "stream",
     "text": [
      " 48%|████▊     | 31/65 [15:22<16:17, 28.75s/it]No sentence-transformers model found with name /Users/chenyangkang/.cache/torch/sentence_transformers/uer_sbert-base-chinese-nli. Creating a new one with MEAN pooling.\n"
     ]
    },
    {
     "name": "stdout",
     "output_type": "stream",
     "text": [
      "Input data formatted\n",
      "Classifier stored in model.classifier; scores stored in model.cls_scores\n",
      "Regressor stored in model.regressor; scores stored in model.reg_scores\n",
      "--------------------------------------------------------\n",
      "sh516970 基建50ETF                     mean       std\n",
      "test_precision  0.461905  0.263028\n",
      "test_recall     0.340754  0.151019\n",
      "test_roc_auc    0.453552  0.173937\n",
      "test_f1_score   0.371322  0.167378                              mean       std\n",
      "test_r2_score           -0.160413  0.108539\n",
      "test_mean_squared_error  0.000191  0.000067\n",
      "test_spearmanr          -0.104520  0.171614\n",
      "--------------------------------------------------------\n"
     ]
    },
    {
     "name": "stderr",
     "output_type": "stream",
     "text": [
      " 49%|████▉     | 32/65 [15:51<15:53, 28.90s/it]No sentence-transformers model found with name /Users/chenyangkang/.cache/torch/sentence_transformers/uer_sbert-base-chinese-nli. Creating a new one with MEAN pooling.\n"
     ]
    },
    {
     "name": "stdout",
     "output_type": "stream",
     "text": [
      "Input data formatted\n",
      "Classifier stored in model.classifier; scores stored in model.cls_scores\n",
      "Regressor stored in model.regressor; scores stored in model.reg_scores\n",
      "--------------------------------------------------------\n",
      "sz159766 旅游ETF                     mean       std\n",
      "test_precision  0.479816  0.168937\n",
      "test_recall     0.537103  0.249234\n",
      "test_roc_auc    0.473115  0.108875\n",
      "test_f1_score   0.473619  0.176144                              mean       std\n",
      "test_r2_score           -0.259595  0.211487\n",
      "test_mean_squared_error  0.000525  0.000356\n",
      "test_spearmanr          -0.030769  0.221727\n",
      "--------------------------------------------------------\n"
     ]
    },
    {
     "name": "stderr",
     "output_type": "stream",
     "text": [
      " 51%|█████     | 33/65 [16:21<15:31, 29.10s/it]No sentence-transformers model found with name /Users/chenyangkang/.cache/torch/sentence_transformers/uer_sbert-base-chinese-nli. Creating a new one with MEAN pooling.\n"
     ]
    },
    {
     "name": "stdout",
     "output_type": "stream",
     "text": [
      "Input data formatted\n",
      "Classifier stored in model.classifier; scores stored in model.cls_scores\n",
      "Regressor stored in model.regressor; scores stored in model.reg_scores\n",
      "--------------------------------------------------------\n",
      "sz159934 黄金ETF                     mean       std\n",
      "test_precision  0.571905  0.215069\n",
      "test_recall     0.367183  0.236459\n",
      "test_roc_auc    0.565132  0.106820\n",
      "test_f1_score   0.386450  0.123992                              mean       std\n",
      "test_r2_score           -0.032250  0.157922\n",
      "test_mean_squared_error  0.000005  0.000002\n",
      "test_spearmanr           0.096117  0.243462\n",
      "--------------------------------------------------------\n"
     ]
    },
    {
     "name": "stderr",
     "output_type": "stream",
     "text": [
      " 52%|█████▏    | 34/65 [16:50<15:07, 29.28s/it]No sentence-transformers model found with name /Users/chenyangkang/.cache/torch/sentence_transformers/uer_sbert-base-chinese-nli. Creating a new one with MEAN pooling.\n"
     ]
    },
    {
     "name": "stdout",
     "output_type": "stream",
     "text": [
      "Input data formatted\n",
      "Classifier stored in model.classifier; scores stored in model.cls_scores\n",
      "Regressor stored in model.regressor; scores stored in model.reg_scores\n",
      "--------------------------------------------------------\n",
      "sh512400 有色金属ETF                     mean       std\n",
      "test_precision  0.473730  0.283627\n",
      "test_recall     0.403016  0.247757\n",
      "test_roc_auc    0.507817  0.131844\n",
      "test_f1_score   0.399256  0.197336                              mean       std\n",
      "test_r2_score           -0.181119  0.173754\n",
      "test_mean_squared_error  0.000249  0.000120\n",
      "test_spearmanr          -0.079692  0.296454\n",
      "--------------------------------------------------------\n"
     ]
    },
    {
     "name": "stderr",
     "output_type": "stream",
     "text": [
      " 54%|█████▍    | 35/65 [17:19<14:35, 29.19s/it]No sentence-transformers model found with name /Users/chenyangkang/.cache/torch/sentence_transformers/uer_sbert-base-chinese-nli. Creating a new one with MEAN pooling.\n"
     ]
    },
    {
     "name": "stdout",
     "output_type": "stream",
     "text": [
      "Input data formatted\n",
      "Classifier stored in model.classifier; scores stored in model.cls_scores\n",
      "Regressor stored in model.regressor; scores stored in model.reg_scores\n",
      "--------------------------------------------------------\n",
      "sh515880 通讯ETF                     mean       std\n",
      "test_precision  0.497381  0.099683\n",
      "test_recall     0.510516  0.174044\n",
      "test_roc_auc    0.487103  0.099403\n",
      "test_f1_score   0.479832  0.042367                              mean       std\n",
      "test_r2_score           -0.173740  0.136350\n",
      "test_mean_squared_error  0.000212  0.000081\n",
      "test_spearmanr          -0.008606  0.201761\n",
      "--------------------------------------------------------\n"
     ]
    },
    {
     "name": "stderr",
     "output_type": "stream",
     "text": [
      " 55%|█████▌    | 36/65 [17:48<14:06, 29.19s/it]No sentence-transformers model found with name /Users/chenyangkang/.cache/torch/sentence_transformers/uer_sbert-base-chinese-nli. Creating a new one with MEAN pooling.\n"
     ]
    },
    {
     "name": "stdout",
     "output_type": "stream",
     "text": [
      "Input data formatted\n",
      "Classifier stored in model.classifier; scores stored in model.cls_scores\n",
      "Regressor stored in model.regressor; scores stored in model.reg_scores\n",
      "--------------------------------------------------------\n",
      "sh516110 汽车ETF                     mean       std\n",
      "test_precision  0.448571  0.236648\n",
      "test_recall     0.313413  0.119016\n",
      "test_roc_auc    0.457044  0.100507\n",
      "test_f1_score   0.345315  0.116520                              mean       std\n",
      "test_r2_score           -0.332273  0.252208\n",
      "test_mean_squared_error  0.000294  0.000145\n",
      "test_spearmanr          -0.170549  0.225653\n",
      "--------------------------------------------------------\n"
     ]
    },
    {
     "name": "stderr",
     "output_type": "stream",
     "text": [
      " 57%|█████▋    | 37/65 [18:17<13:34, 29.10s/it]No sentence-transformers model found with name /Users/chenyangkang/.cache/torch/sentence_transformers/uer_sbert-base-chinese-nli. Creating a new one with MEAN pooling.\n"
     ]
    },
    {
     "name": "stdout",
     "output_type": "stream",
     "text": [
      "Input data formatted\n",
      "Classifier stored in model.classifier; scores stored in model.cls_scores\n",
      "Regressor stored in model.regressor; scores stored in model.reg_scores\n",
      "--------------------------------------------------------\n",
      "sz159992 创新药ETF                     mean       std\n",
      "test_precision  0.525079  0.211444\n",
      "test_recall     0.385833  0.157676\n",
      "test_roc_auc    0.525417  0.121856\n",
      "test_f1_score   0.402389  0.114132                              mean       std\n",
      "test_r2_score           -0.162048  0.232706\n",
      "test_mean_squared_error  0.000330  0.000215\n",
      "test_spearmanr           0.024341  0.253295\n",
      "--------------------------------------------------------\n"
     ]
    },
    {
     "name": "stderr",
     "output_type": "stream",
     "text": [
      " 58%|█████▊    | 38/65 [18:49<13:22, 29.74s/it]No sentence-transformers model found with name /Users/chenyangkang/.cache/torch/sentence_transformers/uer_sbert-base-chinese-nli. Creating a new one with MEAN pooling.\n"
     ]
    },
    {
     "name": "stdout",
     "output_type": "stream",
     "text": [
      "Input data formatted\n",
      "Classifier stored in model.classifier; scores stored in model.cls_scores\n",
      "Regressor stored in model.regressor; scores stored in model.reg_scores\n",
      "--------------------------------------------------------\n",
      "sz159607 中概互联网ETF                     mean       std\n",
      "test_precision  0.300000  0.339935\n",
      "test_recall     0.123571  0.155118\n",
      "test_roc_auc    0.496066  0.092553\n",
      "test_f1_score   0.161508  0.184616                              mean       std\n",
      "test_r2_score           -0.364155  0.315414\n",
      "test_mean_squared_error  0.000636  0.000406\n",
      "test_spearmanr          -0.279780  0.205486\n",
      "--------------------------------------------------------\n"
     ]
    },
    {
     "name": "stderr",
     "output_type": "stream",
     "text": [
      " 60%|██████    | 39/65 [19:19<12:55, 29.82s/it]No sentence-transformers model found with name /Users/chenyangkang/.cache/torch/sentence_transformers/uer_sbert-base-chinese-nli. Creating a new one with MEAN pooling.\n"
     ]
    },
    {
     "name": "stdout",
     "output_type": "stream",
     "text": [
      "Input data formatted\n",
      "Classifier stored in model.classifier; scores stored in model.cls_scores\n",
      "Regressor stored in model.regressor; scores stored in model.reg_scores\n",
      "--------------------------------------------------------\n",
      "sz159928 消费ETF                     mean       std\n",
      "test_precision  0.510000  0.306522\n",
      "test_recall     0.281032  0.125532\n",
      "test_roc_auc    0.534520  0.098032\n",
      "test_f1_score   0.342273  0.148661                              mean       std\n",
      "test_r2_score           -0.225543  0.329422\n",
      "test_mean_squared_error  0.000206  0.000114\n",
      "test_spearmanr           0.013407  0.329568\n",
      "--------------------------------------------------------\n"
     ]
    },
    {
     "name": "stderr",
     "output_type": "stream",
     "text": [
      " 62%|██████▏   | 40/65 [19:48<12:20, 29.62s/it]No sentence-transformers model found with name /Users/chenyangkang/.cache/torch/sentence_transformers/uer_sbert-base-chinese-nli. Creating a new one with MEAN pooling.\n"
     ]
    },
    {
     "name": "stdout",
     "output_type": "stream",
     "text": [
      "Input data formatted\n",
      "Classifier stored in model.classifier; scores stored in model.cls_scores\n",
      "Regressor stored in model.regressor; scores stored in model.reg_scores\n",
      "--------------------------------------------------------\n",
      "sh515220 煤炭ETF                     mean       std\n",
      "test_precision  0.614156  0.149888\n",
      "test_recall     0.762063  0.146379\n",
      "test_roc_auc    0.568178  0.114024\n",
      "test_f1_score   0.663963  0.112298                              mean       std\n",
      "test_r2_score           -0.187083  0.166749\n",
      "test_mean_squared_error  0.000254  0.000129\n",
      "test_spearmanr           0.114396  0.249928\n",
      "--------------------------------------------------------\n"
     ]
    },
    {
     "name": "stderr",
     "output_type": "stream",
     "text": [
      " 63%|██████▎   | 41/65 [20:18<11:54, 29.75s/it]No sentence-transformers model found with name /Users/chenyangkang/.cache/torch/sentence_transformers/uer_sbert-base-chinese-nli. Creating a new one with MEAN pooling.\n"
     ]
    },
    {
     "name": "stdout",
     "output_type": "stream",
     "text": [
      "Input data formatted\n",
      "Classifier stored in model.classifier; scores stored in model.cls_scores\n",
      "Regressor stored in model.regressor; scores stored in model.reg_scores\n",
      "--------------------------------------------------------\n",
      "sz159819 人工智能ETF                     mean       std\n",
      "test_precision  0.388333  0.209768\n",
      "test_recall     0.308658  0.125256\n",
      "test_roc_auc    0.416075  0.123594\n",
      "test_f1_score   0.328499  0.150098                              mean       std\n",
      "test_r2_score           -0.179461  0.199730\n",
      "test_mean_squared_error  0.000303  0.000113\n",
      "test_spearmanr           0.008530  0.231916\n",
      "--------------------------------------------------------\n"
     ]
    },
    {
     "name": "stderr",
     "output_type": "stream",
     "text": [
      " 65%|██████▍   | 42/65 [20:47<11:17, 29.48s/it]No sentence-transformers model found with name /Users/chenyangkang/.cache/torch/sentence_transformers/uer_sbert-base-chinese-nli. Creating a new one with MEAN pooling.\n"
     ]
    },
    {
     "name": "stdout",
     "output_type": "stream",
     "text": [
      "Input data formatted\n",
      "Classifier stored in model.classifier; scores stored in model.cls_scores\n",
      "Regressor stored in model.regressor; scores stored in model.reg_scores\n",
      "--------------------------------------------------------\n",
      "sh516160 新能源ETF                     mean       std\n",
      "test_precision  0.355238  0.257277\n",
      "test_recall     0.233571  0.138237\n",
      "test_roc_auc    0.463723  0.107817\n",
      "test_f1_score   0.256325  0.144079                              mean       std\n",
      "test_r2_score           -0.199001  0.193005\n",
      "test_mean_squared_error  0.000304  0.000161\n",
      "test_spearmanr          -0.154338  0.264436\n",
      "--------------------------------------------------------\n"
     ]
    },
    {
     "name": "stderr",
     "output_type": "stream",
     "text": [
      " 66%|██████▌   | 43/65 [21:16<10:47, 29.42s/it]No sentence-transformers model found with name /Users/chenyangkang/.cache/torch/sentence_transformers/uer_sbert-base-chinese-nli. Creating a new one with MEAN pooling.\n"
     ]
    },
    {
     "name": "stdout",
     "output_type": "stream",
     "text": [
      "Input data formatted\n",
      "Classifier stored in model.classifier; scores stored in model.cls_scores\n",
      "Regressor stored in model.regressor; scores stored in model.reg_scores\n",
      "--------------------------------------------------------\n",
      "sz159740 恒生科技ETF                     mean       std\n",
      "test_precision  0.093333  0.195959\n",
      "test_recall     0.066667  0.152753\n",
      "test_roc_auc    0.461580  0.071773\n",
      "test_f1_score   0.076768  0.169697                              mean       std\n",
      "test_r2_score           -0.405083  0.338902\n",
      "test_mean_squared_error  0.000562  0.000350\n",
      "test_spearmanr          -0.286637  0.197446\n",
      "--------------------------------------------------------\n"
     ]
    },
    {
     "name": "stderr",
     "output_type": "stream",
     "text": [
      " 68%|██████▊   | 44/65 [21:45<10:15, 29.31s/it]No sentence-transformers model found with name /Users/chenyangkang/.cache/torch/sentence_transformers/uer_sbert-base-chinese-nli. Creating a new one with MEAN pooling.\n"
     ]
    },
    {
     "name": "stdout",
     "output_type": "stream",
     "text": [
      "Input data formatted\n",
      "Classifier stored in model.classifier; scores stored in model.cls_scores\n",
      "Regressor stored in model.regressor; scores stored in model.reg_scores\n",
      "--------------------------------------------------------\n",
      "sh512800 银行ETF                     mean       std\n",
      "test_precision  0.470317  0.173824\n",
      "test_recall     0.444167  0.132183\n",
      "test_roc_auc    0.437348  0.127936\n",
      "test_f1_score   0.438297  0.111101                              mean       std\n",
      "test_r2_score           -0.269619  0.236300\n",
      "test_mean_squared_error  0.000098  0.000046\n",
      "test_spearmanr          -0.142227  0.210695\n",
      "--------------------------------------------------------\n"
     ]
    },
    {
     "name": "stderr",
     "output_type": "stream",
     "text": [
      " 69%|██████▉   | 45/65 [22:15<09:48, 29.43s/it]No sentence-transformers model found with name /Users/chenyangkang/.cache/torch/sentence_transformers/uer_sbert-base-chinese-nli. Creating a new one with MEAN pooling.\n"
     ]
    },
    {
     "name": "stdout",
     "output_type": "stream",
     "text": [
      "Input data formatted\n",
      "Classifier stored in model.classifier; scores stored in model.cls_scores\n",
      "Regressor stored in model.regressor; scores stored in model.reg_scores\n",
      "--------------------------------------------------------\n",
      "sh513060 恒生医疗ETF                     mean       std\n",
      "test_precision  0.525000  0.302880\n",
      "test_recall     0.257460  0.207288\n",
      "test_roc_auc    0.524159  0.127794\n",
      "test_f1_score   0.315289  0.184580                              mean       std\n",
      "test_r2_score           -0.105789  0.151601\n",
      "test_mean_squared_error  0.000438  0.000234\n",
      "test_spearmanr           0.024768  0.274570\n",
      "--------------------------------------------------------\n"
     ]
    },
    {
     "name": "stderr",
     "output_type": "stream",
     "text": [
      " 71%|███████   | 46/65 [22:44<09:16, 29.28s/it]No sentence-transformers model found with name /Users/chenyangkang/.cache/torch/sentence_transformers/uer_sbert-base-chinese-nli. Creating a new one with MEAN pooling.\n"
     ]
    },
    {
     "name": "stdout",
     "output_type": "stream",
     "text": [
      "Input data formatted\n",
      "Classifier stored in model.classifier; scores stored in model.cls_scores\n",
      "Regressor stored in model.regressor; scores stored in model.reg_scores\n",
      "--------------------------------------------------------\n",
      "sh515400 大数据ETF                     mean       std\n",
      "test_precision  0.516517  0.102497\n",
      "test_recall     0.541151  0.154568\n",
      "test_roc_auc    0.492307  0.060875\n",
      "test_f1_score   0.504844  0.094256                              mean       std\n",
      "test_r2_score           -0.291392  0.263023\n",
      "test_mean_squared_error  0.000403  0.000142\n",
      "test_spearmanr          -0.139011  0.252811\n",
      "--------------------------------------------------------\n"
     ]
    },
    {
     "name": "stderr",
     "output_type": "stream",
     "text": [
      " 72%|███████▏  | 47/65 [23:14<08:53, 29.66s/it]No sentence-transformers model found with name /Users/chenyangkang/.cache/torch/sentence_transformers/uer_sbert-base-chinese-nli. Creating a new one with MEAN pooling.\n"
     ]
    },
    {
     "name": "stdout",
     "output_type": "stream",
     "text": [
      "Input data formatted\n",
      "Classifier stored in model.classifier; scores stored in model.cls_scores\n",
      "Regressor stored in model.regressor; scores stored in model.reg_scores\n",
      "--------------------------------------------------------\n",
      "sz159755 电池ETF                     mean       std\n",
      "test_precision  0.271111  0.280397\n",
      "test_recall     0.160278  0.101365\n",
      "test_roc_auc    0.351052  0.126748\n",
      "test_f1_score   0.172879  0.109809                              mean       std\n",
      "test_r2_score           -0.188090  0.143592\n",
      "test_mean_squared_error  0.000327  0.000211\n",
      "test_spearmanr          -0.017363  0.190902\n",
      "--------------------------------------------------------\n"
     ]
    },
    {
     "name": "stderr",
     "output_type": "stream",
     "text": [
      " 74%|███████▍  | 48/65 [23:45<08:30, 30.05s/it]No sentence-transformers model found with name /Users/chenyangkang/.cache/torch/sentence_transformers/uer_sbert-base-chinese-nli. Creating a new one with MEAN pooling.\n"
     ]
    },
    {
     "name": "stdout",
     "output_type": "stream",
     "text": [
      "Input data formatted\n",
      "Classifier stored in model.classifier; scores stored in model.cls_scores\n",
      "Regressor stored in model.regressor; scores stored in model.reg_scores\n",
      "--------------------------------------------------------\n",
      "sz159813 半导体ETF                     mean       std\n",
      "test_precision  0.387143  0.202062\n",
      "test_recall     0.310368  0.168154\n",
      "test_roc_auc    0.481255  0.100992\n",
      "test_f1_score   0.336665  0.172374                              mean       std\n",
      "test_r2_score           -0.192473  0.211582\n",
      "test_mean_squared_error  0.000347  0.000159\n",
      "test_spearmanr          -0.146446  0.171638\n",
      "--------------------------------------------------------\n"
     ]
    },
    {
     "name": "stderr",
     "output_type": "stream",
     "text": [
      " 75%|███████▌  | 49/65 [24:14<07:56, 29.78s/it]No sentence-transformers model found with name /Users/chenyangkang/.cache/torch/sentence_transformers/uer_sbert-base-chinese-nli. Creating a new one with MEAN pooling.\n"
     ]
    },
    {
     "name": "stdout",
     "output_type": "stream",
     "text": [
      "Input data formatted\n",
      "Classifier stored in model.classifier; scores stored in model.cls_scores\n",
      "Regressor stored in model.regressor; scores stored in model.reg_scores\n",
      "--------------------------------------------------------\n",
      "sh512760 芯片ETF                     mean       std\n",
      "test_precision  0.406071  0.110547\n",
      "test_recall     0.362341  0.172628\n",
      "test_roc_auc    0.437570  0.078893\n",
      "test_f1_score   0.357080  0.096100                              mean       std\n",
      "test_r2_score           -0.243389  0.281239\n",
      "test_mean_squared_error  0.000420  0.000199\n",
      "test_spearmanr          -0.137033  0.253257\n",
      "--------------------------------------------------------\n"
     ]
    },
    {
     "name": "stderr",
     "output_type": "stream",
     "text": [
      " 77%|███████▋  | 50/65 [24:44<07:26, 29.79s/it]No sentence-transformers model found with name /Users/chenyangkang/.cache/torch/sentence_transformers/uer_sbert-base-chinese-nli. Creating a new one with MEAN pooling.\n"
     ]
    },
    {
     "name": "stdout",
     "output_type": "stream",
     "text": [
      "Input data formatted\n",
      "Classifier stored in model.classifier; scores stored in model.cls_scores\n",
      "Regressor stored in model.regressor; scores stored in model.reg_scores\n",
      "--------------------------------------------------------\n",
      "sh518880 黄金ETF                     mean       std\n",
      "test_precision  0.477381  0.253719\n",
      "test_recall     0.380159  0.110169\n",
      "test_roc_auc    0.437937  0.139887\n",
      "test_f1_score   0.397163  0.135164                              mean       std\n",
      "test_r2_score           -0.195775  0.334356\n",
      "test_mean_squared_error  0.000006  0.000003\n",
      "test_spearmanr           0.108330  0.271992\n",
      "--------------------------------------------------------\n"
     ]
    },
    {
     "name": "stderr",
     "output_type": "stream",
     "text": [
      " 78%|███████▊  | 51/65 [25:13<06:53, 29.57s/it]No sentence-transformers model found with name /Users/chenyangkang/.cache/torch/sentence_transformers/uer_sbert-base-chinese-nli. Creating a new one with MEAN pooling.\n"
     ]
    },
    {
     "name": "stdout",
     "output_type": "stream",
     "text": [
      "Input data formatted\n",
      "Classifier stored in model.classifier; scores stored in model.cls_scores\n",
      "Regressor stored in model.regressor; scores stored in model.reg_scores\n",
      "--------------------------------------------------------\n",
      "sh515790 光伏ETF                     mean       std\n",
      "test_precision  0.217619  0.179705\n",
      "test_recall     0.160238  0.121974\n",
      "test_roc_auc    0.410536  0.079358\n",
      "test_f1_score   0.171111  0.125997                              mean       std\n",
      "test_r2_score           -0.191058  0.150223\n",
      "test_mean_squared_error  0.000424  0.000230\n",
      "test_spearmanr          -0.067122  0.226100\n",
      "--------------------------------------------------------\n"
     ]
    },
    {
     "name": "stderr",
     "output_type": "stream",
     "text": [
      " 80%|████████  | 52/65 [25:42<06:21, 29.36s/it]No sentence-transformers model found with name /Users/chenyangkang/.cache/torch/sentence_transformers/uer_sbert-base-chinese-nli. Creating a new one with MEAN pooling.\n"
     ]
    },
    {
     "name": "stdout",
     "output_type": "stream",
     "text": [
      "Input data formatted\n",
      "Classifier stored in model.classifier; scores stored in model.cls_scores\n",
      "Regressor stored in model.regressor; scores stored in model.reg_scores\n",
      "--------------------------------------------------------\n",
      "sh512660 军工ETF                     mean       std\n",
      "test_precision  0.417143  0.124370\n",
      "test_recall     0.397143  0.110019\n",
      "test_roc_auc    0.415933  0.095083\n",
      "test_f1_score   0.398941  0.108539                              mean       std\n",
      "test_r2_score           -0.127692  0.152124\n",
      "test_mean_squared_error  0.000188  0.000082\n",
      "test_spearmanr          -0.089803  0.324400\n",
      "--------------------------------------------------------\n"
     ]
    },
    {
     "name": "stderr",
     "output_type": "stream",
     "text": [
      " 82%|████████▏ | 53/65 [26:10<05:49, 29.11s/it]No sentence-transformers model found with name /Users/chenyangkang/.cache/torch/sentence_transformers/uer_sbert-base-chinese-nli. Creating a new one with MEAN pooling.\n"
     ]
    },
    {
     "name": "stdout",
     "output_type": "stream",
     "text": [
      "Input data formatted\n",
      "Classifier stored in model.classifier; scores stored in model.cls_scores\n",
      "Regressor stored in model.regressor; scores stored in model.reg_scores\n",
      "--------------------------------------------------------\n",
      "sh515030 新能源车ETF                     mean       std\n",
      "test_precision  0.389264  0.236194\n",
      "test_recall     0.269960  0.192229\n",
      "test_roc_auc    0.427956  0.117045\n",
      "test_f1_score   0.299652  0.182265                              mean       std\n",
      "test_r2_score           -0.236117  0.076371\n",
      "test_mean_squared_error  0.000307  0.000183\n",
      "test_spearmanr          -0.183253  0.222009\n",
      "--------------------------------------------------------\n"
     ]
    },
    {
     "name": "stderr",
     "output_type": "stream",
     "text": [
      " 83%|████████▎ | 54/65 [26:40<05:20, 29.09s/it]No sentence-transformers model found with name /Users/chenyangkang/.cache/torch/sentence_transformers/uer_sbert-base-chinese-nli. Creating a new one with MEAN pooling.\n"
     ]
    },
    {
     "name": "stdout",
     "output_type": "stream",
     "text": [
      "Input data formatted\n",
      "Classifier stored in model.classifier; scores stored in model.cls_scores\n",
      "Regressor stored in model.regressor; scores stored in model.reg_scores\n",
      "--------------------------------------------------------\n",
      "sz159658 数字经济ETF                     mean       std\n",
      "test_precision  0.382857  0.202235\n",
      "test_recall     0.415000  0.286303\n",
      "test_roc_auc    0.472976  0.132312\n",
      "test_f1_score   0.361465  0.183419                              mean       std\n",
      "test_r2_score           -0.232460  0.286073\n",
      "test_mean_squared_error  0.000227  0.000074\n",
      "test_spearmanr          -0.035758  0.434731\n",
      "--------------------------------------------------------\n"
     ]
    },
    {
     "name": "stderr",
     "output_type": "stream",
     "text": [
      " 85%|████████▍ | 55/65 [27:03<04:34, 27.42s/it]No sentence-transformers model found with name /Users/chenyangkang/.cache/torch/sentence_transformers/uer_sbert-base-chinese-nli. Creating a new one with MEAN pooling.\n"
     ]
    },
    {
     "name": "stdout",
     "output_type": "stream",
     "text": [
      "Input data formatted\n",
      "Classifier stored in model.classifier; scores stored in model.cls_scores\n",
      "Regressor stored in model.regressor; scores stored in model.reg_scores\n",
      "--------------------------------------------------------\n",
      "sh512880 证券ETF                     mean       std\n",
      "test_precision  0.446190  0.242792\n",
      "test_recall     0.412348  0.270295\n",
      "test_roc_auc    0.486869  0.112932\n",
      "test_f1_score   0.372183  0.149175                              mean       std\n",
      "test_r2_score           -0.337575  0.279155\n",
      "test_mean_squared_error  0.000261  0.000140\n",
      "test_spearmanr          -0.192866  0.236123\n",
      "--------------------------------------------------------\n"
     ]
    },
    {
     "name": "stderr",
     "output_type": "stream",
     "text": [
      " 86%|████████▌ | 56/65 [27:33<04:14, 28.30s/it]No sentence-transformers model found with name /Users/chenyangkang/.cache/torch/sentence_transformers/uer_sbert-base-chinese-nli. Creating a new one with MEAN pooling.\n"
     ]
    },
    {
     "name": "stdout",
     "output_type": "stream",
     "text": [
      "Input data formatted\n",
      "Classifier stored in model.classifier; scores stored in model.cls_scores\n",
      "Regressor stored in model.regressor; scores stored in model.reg_scores\n",
      "--------------------------------------------------------\n",
      "sh512690 酒ETF                     mean       std\n",
      "test_precision  0.529264  0.381626\n",
      "test_recall     0.345833  0.320443\n",
      "test_roc_auc    0.550774  0.171799\n",
      "test_f1_score   0.364700  0.291160                              mean       std\n",
      "test_r2_score           -0.261169  0.234641\n",
      "test_mean_squared_error  0.000361  0.000190\n",
      "test_spearmanr           0.060179  0.232788\n",
      "--------------------------------------------------------\n"
     ]
    },
    {
     "name": "stderr",
     "output_type": "stream",
     "text": [
      " 88%|████████▊ | 57/65 [28:02<03:48, 28.52s/it]No sentence-transformers model found with name /Users/chenyangkang/.cache/torch/sentence_transformers/uer_sbert-base-chinese-nli. Creating a new one with MEAN pooling.\n"
     ]
    },
    {
     "name": "stdout",
     "output_type": "stream",
     "text": [
      "Input data formatted\n",
      "Classifier stored in model.classifier; scores stored in model.cls_scores\n",
      "Regressor stored in model.regressor; scores stored in model.reg_scores\n",
      "--------------------------------------------------------\n",
      "sz159995 芯片ETF                     mean       std\n",
      "test_precision  0.331667  0.238799\n",
      "test_recall     0.238333  0.165672\n",
      "test_roc_auc    0.433810  0.127341\n",
      "test_f1_score   0.259711  0.167892                              mean       std\n",
      "test_r2_score           -0.199337  0.225339\n",
      "test_mean_squared_error  0.000384  0.000196\n",
      "test_spearmanr          -0.134945  0.181914\n",
      "--------------------------------------------------------\n"
     ]
    },
    {
     "name": "stderr",
     "output_type": "stream",
     "text": [
      " 89%|████████▉ | 58/65 [28:32<03:22, 28.92s/it]No sentence-transformers model found with name /Users/chenyangkang/.cache/torch/sentence_transformers/uer_sbert-base-chinese-nli. Creating a new one with MEAN pooling.\n"
     ]
    },
    {
     "name": "stdout",
     "output_type": "stream",
     "text": [
      "Input data formatted\n",
      "Classifier stored in model.classifier; scores stored in model.cls_scores\n",
      "Regressor stored in model.regressor; scores stored in model.reg_scores\n",
      "--------------------------------------------------------\n",
      "sh510050 上证50ETF                     mean       std\n",
      "test_precision  0.478810  0.286814\n",
      "test_recall     0.361111  0.228197\n",
      "test_roc_auc    0.508002  0.127393\n",
      "test_f1_score   0.351022  0.104979                              mean       std\n",
      "test_r2_score           -0.429304  0.480208\n",
      "test_mean_squared_error  0.000131  0.000085\n",
      "test_spearmanr          -0.246484  0.251148\n",
      "--------------------------------------------------------\n"
     ]
    },
    {
     "name": "stderr",
     "output_type": "stream",
     "text": [
      " 91%|█████████ | 59/65 [29:03<02:56, 29.37s/it]No sentence-transformers model found with name /Users/chenyangkang/.cache/torch/sentence_transformers/uer_sbert-base-chinese-nli. Creating a new one with MEAN pooling.\n"
     ]
    },
    {
     "name": "stdout",
     "output_type": "stream",
     "text": [
      "Input data formatted\n",
      "Classifier stored in model.classifier; scores stored in model.cls_scores\n",
      "Regressor stored in model.regressor; scores stored in model.reg_scores\n",
      "--------------------------------------------------------\n",
      "sh512170 医疗ETF                     mean       std\n",
      "test_precision  0.422857  0.327962\n",
      "test_recall     0.314286  0.242530\n",
      "test_roc_auc    0.530476  0.123904\n",
      "test_f1_score   0.330173  0.243014                              mean       std\n",
      "test_r2_score           -0.221453  0.366486\n",
      "test_mean_squared_error  0.000278  0.000199\n",
      "test_spearmanr           0.024850  0.286654\n",
      "--------------------------------------------------------\n"
     ]
    },
    {
     "name": "stderr",
     "output_type": "stream",
     "text": [
      " 92%|█████████▏| 60/65 [29:33<02:28, 29.76s/it]No sentence-transformers model found with name /Users/chenyangkang/.cache/torch/sentence_transformers/uer_sbert-base-chinese-nli. Creating a new one with MEAN pooling.\n"
     ]
    },
    {
     "name": "stdout",
     "output_type": "stream",
     "text": [
      "Input data formatted\n",
      "Classifier stored in model.classifier; scores stored in model.cls_scores\n",
      "Regressor stored in model.regressor; scores stored in model.reg_scores\n",
      "--------------------------------------------------------\n",
      "sh510300 沪深300ETF                     mean       std\n",
      "test_precision  0.436667  0.260960\n",
      "test_recall     0.283175  0.141076\n",
      "test_roc_auc    0.488651  0.105349\n",
      "test_f1_score   0.327251  0.167980                              mean       std\n",
      "test_r2_score           -0.342447  0.195578\n",
      "test_mean_squared_error  0.000115  0.000072\n",
      "test_spearmanr          -0.281538  0.275560\n",
      "--------------------------------------------------------\n"
     ]
    },
    {
     "name": "stderr",
     "output_type": "stream",
     "text": [
      " 94%|█████████▍| 61/65 [30:06<02:01, 30.49s/it]No sentence-transformers model found with name /Users/chenyangkang/.cache/torch/sentence_transformers/uer_sbert-base-chinese-nli. Creating a new one with MEAN pooling.\n"
     ]
    },
    {
     "name": "stdout",
     "output_type": "stream",
     "text": [
      "Input data formatted\n",
      "Classifier stored in model.classifier; scores stored in model.cls_scores\n",
      "Regressor stored in model.regressor; scores stored in model.reg_scores\n",
      "--------------------------------------------------------\n",
      "sz159915 创业板ETF                     mean       std\n",
      "test_precision  0.324762  0.261183\n",
      "test_recall     0.243452  0.217053\n",
      "test_roc_auc    0.497956  0.103420\n",
      "test_f1_score   0.266465  0.223709                              mean       std\n",
      "test_r2_score           -0.270067  0.247704\n",
      "test_mean_squared_error  0.000201  0.000120\n",
      "test_spearmanr          -0.282747  0.338841\n",
      "--------------------------------------------------------\n"
     ]
    },
    {
     "name": "stderr",
     "output_type": "stream",
     "text": [
      " 95%|█████████▌| 62/65 [30:36<01:31, 30.61s/it]No sentence-transformers model found with name /Users/chenyangkang/.cache/torch/sentence_transformers/uer_sbert-base-chinese-nli. Creating a new one with MEAN pooling.\n"
     ]
    },
    {
     "name": "stdout",
     "output_type": "stream",
     "text": [
      "Input data formatted\n",
      "Classifier stored in model.classifier; scores stored in model.cls_scores\n",
      "Regressor stored in model.regressor; scores stored in model.reg_scores\n",
      "--------------------------------------------------------\n",
      "sh513050 中概互联网ETF                     mean       std\n",
      "test_precision  0.386667  0.420370\n",
      "test_recall     0.185000  0.175823\n",
      "test_roc_auc    0.544874  0.072828\n",
      "test_f1_score   0.209524  0.188321                              mean       std\n",
      "test_r2_score           -0.258234  0.254262\n",
      "test_mean_squared_error  0.000370  0.000167\n",
      "test_spearmanr          -0.150657  0.197783\n",
      "--------------------------------------------------------\n"
     ]
    },
    {
     "name": "stderr",
     "output_type": "stream",
     "text": [
      " 97%|█████████▋| 63/65 [31:05<01:00, 30.06s/it]No sentence-transformers model found with name /Users/chenyangkang/.cache/torch/sentence_transformers/uer_sbert-base-chinese-nli. Creating a new one with MEAN pooling.\n"
     ]
    },
    {
     "name": "stdout",
     "output_type": "stream",
     "text": [
      "Input data formatted\n",
      "Classifier stored in model.classifier; scores stored in model.cls_scores\n",
      "Regressor stored in model.regressor; scores stored in model.reg_scores\n",
      "--------------------------------------------------------\n",
      "sh512480 半导体ETF                     mean       std\n",
      "test_precision  0.429524  0.261005\n",
      "test_recall     0.377460  0.286241\n",
      "test_roc_auc    0.519286  0.134947\n",
      "test_f1_score   0.341832  0.185662                              mean       std\n",
      "test_r2_score           -0.220809  0.220223\n",
      "test_mean_squared_error  0.000407  0.000183\n",
      "test_spearmanr          -0.113846  0.247776\n",
      "--------------------------------------------------------\n"
     ]
    },
    {
     "name": "stderr",
     "output_type": "stream",
     "text": [
      " 98%|█████████▊| 64/65 [31:36<00:30, 30.12s/it]No sentence-transformers model found with name /Users/chenyangkang/.cache/torch/sentence_transformers/uer_sbert-base-chinese-nli. Creating a new one with MEAN pooling.\n"
     ]
    },
    {
     "name": "stdout",
     "output_type": "stream",
     "text": [
      "Input data formatted\n",
      "Classifier stored in model.classifier; scores stored in model.cls_scores\n",
      "Regressor stored in model.regressor; scores stored in model.reg_scores\n",
      "--------------------------------------------------------\n",
      "sh588000 科创50ETF                     mean       std\n",
      "test_precision  0.592222  0.210396\n",
      "test_recall     0.450685  0.191839\n",
      "test_roc_auc    0.601652  0.114326\n",
      "test_f1_score   0.476151  0.164643                              mean       std\n",
      "test_r2_score           -0.137445  0.202111\n",
      "test_mean_squared_error  0.000194  0.000103\n",
      "test_spearmanr           0.003899  0.284276\n",
      "--------------------------------------------------------\n"
     ]
    },
    {
     "name": "stderr",
     "output_type": "stream",
     "text": [
      "100%|██████████| 65/65 [32:05<00:00, 29.63s/it]\n"
     ]
    }
   ],
   "source": [
    "### initialize\n",
    "if not os.path.exists('./Trained_bot'):\n",
    "    os.mkdir('./Trained_bot')\n",
    "\n",
    "for stock in tqdm(stock_codes_dict.items()):\n",
    "    ### building bot\n",
    "    bot = Wei_trade_model(stock_id=stock[0],\n",
    "                        stock_name=stock[1])\n",
    "\n",
    "    ##### we don't need to re-download these historical tweets for a while (like a month)\n",
    "    ### get historical data\n",
    "    # bot.get_historical_tweets(force=False)\n",
    "\n",
    "    ### feature engineering historical tweets\n",
    "    try:\n",
    "        bot.all_mean_features = pd.read_csv('mean_features.csv')\n",
    "    except:\n",
    "        bot.merging_historical_tweets(force_embedding=False)\n",
    "\n",
    "    ### formatting input\n",
    "    bot.formatting_input_data()\n",
    "\n",
    "    ### training\n",
    "    bot.build_classifier()\n",
    "    bot.build_regressor()\n",
    "    print('--------------------------------------------------------')\n",
    "    print(bot.stock_id, bot.stock_name, bot.cls_scores, bot.reg_scores)\n",
    "    print('--------------------------------------------------------')\n",
    "\n",
    "    pickle.dump(bot, open(f'./Trained_bot/{stock[0]}.pkl', 'wb'))\n",
    "\n"
   ]
  },
  {
   "cell_type": "code",
   "execution_count": 36,
   "metadata": {},
   "outputs": [
    {
     "data": {
      "text/html": [
       "<div>\n",
       "<style scoped>\n",
       "    .dataframe tbody tr th:only-of-type {\n",
       "        vertical-align: middle;\n",
       "    }\n",
       "\n",
       "    .dataframe tbody tr th {\n",
       "        vertical-align: top;\n",
       "    }\n",
       "\n",
       "    .dataframe thead th {\n",
       "        text-align: right;\n",
       "    }\n",
       "</style>\n",
       "<table border=\"1\" class=\"dataframe\">\n",
       "  <thead>\n",
       "    <tr style=\"text-align: right;\">\n",
       "      <th></th>\n",
       "      <th>mean</th>\n",
       "      <th>std</th>\n",
       "    </tr>\n",
       "  </thead>\n",
       "  <tbody>\n",
       "    <tr>\n",
       "      <th>test_precision</th>\n",
       "      <td>0.506115</td>\n",
       "      <td>0.157797</td>\n",
       "    </tr>\n",
       "    <tr>\n",
       "      <th>test_recall</th>\n",
       "      <td>0.593968</td>\n",
       "      <td>0.236712</td>\n",
       "    </tr>\n",
       "    <tr>\n",
       "      <th>test_roc_auc</th>\n",
       "      <td>0.501687</td>\n",
       "      <td>0.183969</td>\n",
       "    </tr>\n",
       "    <tr>\n",
       "      <th>test_f1_score</th>\n",
       "      <td>0.532776</td>\n",
       "      <td>0.172698</td>\n",
       "    </tr>\n",
       "  </tbody>\n",
       "</table>\n",
       "</div>"
      ],
      "text/plain": [
       "                    mean       std\n",
       "test_precision  0.506115  0.157797\n",
       "test_recall     0.593968  0.236712\n",
       "test_roc_auc    0.501687  0.183969\n",
       "test_f1_score   0.532776  0.172698"
      ]
     },
     "execution_count": 36,
     "metadata": {},
     "output_type": "execute_result"
    }
   ],
   "source": [
    "bot.cls_scores"
   ]
  },
  {
   "cell_type": "code",
   "execution_count": 40,
   "metadata": {},
   "outputs": [
    {
     "data": {
      "text/html": [
       "<div>\n",
       "<style scoped>\n",
       "    .dataframe tbody tr th:only-of-type {\n",
       "        vertical-align: middle;\n",
       "    }\n",
       "\n",
       "    .dataframe tbody tr th {\n",
       "        vertical-align: top;\n",
       "    }\n",
       "\n",
       "    .dataframe thead th {\n",
       "        text-align: right;\n",
       "    }\n",
       "</style>\n",
       "<table border=\"1\" class=\"dataframe\">\n",
       "  <thead>\n",
       "    <tr style=\"text-align: right;\">\n",
       "      <th></th>\n",
       "      <th>mean</th>\n",
       "      <th>std</th>\n",
       "    </tr>\n",
       "  </thead>\n",
       "  <tbody>\n",
       "    <tr>\n",
       "      <th>test_r2_score</th>\n",
       "      <td>-0.158944</td>\n",
       "      <td>0.203546</td>\n",
       "    </tr>\n",
       "    <tr>\n",
       "      <th>test_mean_squared_error</th>\n",
       "      <td>0.000124</td>\n",
       "      <td>0.000074</td>\n",
       "    </tr>\n",
       "    <tr>\n",
       "      <th>test_spearmanr</th>\n",
       "      <td>-0.079451</td>\n",
       "      <td>0.292265</td>\n",
       "    </tr>\n",
       "  </tbody>\n",
       "</table>\n",
       "</div>"
      ],
      "text/plain": [
       "                             mean       std\n",
       "test_r2_score           -0.158944  0.203546\n",
       "test_mean_squared_error  0.000124  0.000074\n",
       "test_spearmanr          -0.079451  0.292265"
      ]
     },
     "execution_count": 40,
     "metadata": {},
     "output_type": "execute_result"
    }
   ],
   "source": [
    "bot.reg_scores\n"
   ]
  },
  {
   "attachments": {},
   "cell_type": "markdown",
   "metadata": {},
   "source": [
    "## Predict today (Run every trading day morning ~8:30)"
   ]
  },
  {
   "cell_type": "code",
   "execution_count": 47,
   "metadata": {},
   "outputs": [
    {
     "name": "stdout",
     "output_type": "stream",
     "text": [
      "Predicting ---- 1\n"
     ]
    },
    {
     "name": "stderr",
     "output_type": "stream",
     "text": [
      " 23%|██▎       | 24/106 [00:00<00:01, 49.99it/s]"
     ]
    },
    {
     "name": "stdout",
     "output_type": "stream",
     "text": [
      "list index out of range\n",
      "list index out of range\n"
     ]
    },
    {
     "name": "stderr",
     "output_type": "stream",
     "text": [
      " 82%|████████▏ | 87/106 [00:01<00:00, 90.91it/s] "
     ]
    },
    {
     "name": "stdout",
     "output_type": "stream",
     "text": [
      "list index out of range\n",
      "list index out of range\n"
     ]
    },
    {
     "name": "stderr",
     "output_type": "stream",
     "text": [
      "100%|██████████| 106/106 [00:01<00:00, 77.46it/s]"
     ]
    },
    {
     "name": "stdout",
     "output_type": "stream",
     "text": [
      "list index out of range\n"
     ]
    },
    {
     "name": "stderr",
     "output_type": "stream",
     "text": [
      "\n"
     ]
    },
    {
     "name": "stdout",
     "output_type": "stream",
     "text": [
      "Today input data formatted\n",
      "Today feature processing done\n",
      "Pred goes up:  0.47 \n",
      " Pred perc change:  0.0013925177627211857 \n",
      "\n",
      "Predicting ---- 2\n"
     ]
    },
    {
     "name": "stderr",
     "output_type": "stream",
     "text": [
      " 23%|██▎       | 24/106 [00:00<00:01, 66.50it/s]"
     ]
    },
    {
     "name": "stdout",
     "output_type": "stream",
     "text": [
      "list index out of range\n",
      "list index out of range\n"
     ]
    },
    {
     "name": "stderr",
     "output_type": "stream",
     "text": [
      " 80%|████████  | 85/106 [00:00<00:00, 123.60it/s]"
     ]
    },
    {
     "name": "stdout",
     "output_type": "stream",
     "text": [
      "list index out of range\n",
      "list index out of range\n"
     ]
    },
    {
     "name": "stderr",
     "output_type": "stream",
     "text": [
      "100%|██████████| 106/106 [00:01<00:00, 88.08it/s]"
     ]
    },
    {
     "name": "stdout",
     "output_type": "stream",
     "text": [
      "list index out of range\n"
     ]
    },
    {
     "name": "stderr",
     "output_type": "stream",
     "text": [
      "\n"
     ]
    },
    {
     "name": "stdout",
     "output_type": "stream",
     "text": [
      "Today input data formatted\n",
      "Today feature processing done\n",
      "Pred goes up:  0.45 \n",
      " Pred perc change:  0.006539031066083354 \n",
      "\n",
      "Predicting ---- 3\n"
     ]
    },
    {
     "name": "stderr",
     "output_type": "stream",
     "text": [
      " 23%|██▎       | 24/106 [00:00<00:01, 69.96it/s]"
     ]
    },
    {
     "name": "stdout",
     "output_type": "stream",
     "text": [
      "list index out of range\n",
      "list index out of range\n"
     ]
    },
    {
     "name": "stderr",
     "output_type": "stream",
     "text": [
      " 82%|████████▏ | 87/106 [00:00<00:00, 158.95it/s]"
     ]
    },
    {
     "name": "stdout",
     "output_type": "stream",
     "text": [
      "list index out of range\n",
      "list index out of range\n"
     ]
    },
    {
     "name": "stderr",
     "output_type": "stream",
     "text": [
      "100%|██████████| 106/106 [00:00<00:00, 109.33it/s]"
     ]
    },
    {
     "name": "stdout",
     "output_type": "stream",
     "text": [
      "list index out of range\n"
     ]
    },
    {
     "name": "stderr",
     "output_type": "stream",
     "text": [
      "\n"
     ]
    },
    {
     "name": "stdout",
     "output_type": "stream",
     "text": [
      "Today input data formatted\n",
      "Today feature processing done\n",
      "Pred goes up:  0.49 \n",
      " Pred perc change:  0.006156838500912528 \n",
      "\n",
      "Predicting ---- 4\n"
     ]
    },
    {
     "name": "stderr",
     "output_type": "stream",
     "text": [
      " 23%|██▎       | 24/106 [00:00<00:01, 64.34it/s]"
     ]
    },
    {
     "name": "stdout",
     "output_type": "stream",
     "text": [
      "list index out of range\n",
      "list index out of range\n"
     ]
    },
    {
     "name": "stderr",
     "output_type": "stream",
     "text": [
      " 78%|███████▊  | 83/106 [00:00<00:00, 168.30it/s]"
     ]
    },
    {
     "name": "stdout",
     "output_type": "stream",
     "text": [
      "list index out of range\n"
     ]
    },
    {
     "name": "stderr",
     "output_type": "stream",
     "text": [
      "100%|██████████| 106/106 [00:01<00:00, 85.05it/s]"
     ]
    },
    {
     "name": "stdout",
     "output_type": "stream",
     "text": [
      "list index out of range\n",
      "list index out of range\n"
     ]
    },
    {
     "name": "stderr",
     "output_type": "stream",
     "text": [
      "\n"
     ]
    },
    {
     "name": "stdout",
     "output_type": "stream",
     "text": [
      "Today input data formatted\n",
      "Today feature processing done\n",
      "Pred goes up:  0.49 \n",
      " Pred perc change:  -0.004310233792648277 \n",
      "\n",
      "Predicting ---- 5\n"
     ]
    },
    {
     "name": "stderr",
     "output_type": "stream",
     "text": [
      " 23%|██▎       | 24/106 [00:00<00:01, 54.02it/s]"
     ]
    },
    {
     "name": "stdout",
     "output_type": "stream",
     "text": [
      "list index out of range\n",
      "list index out of range\n"
     ]
    },
    {
     "name": "stderr",
     "output_type": "stream",
     "text": [
      " 82%|████████▏ | 87/106 [00:00<00:00, 120.07it/s]"
     ]
    },
    {
     "name": "stdout",
     "output_type": "stream",
     "text": [
      "list index out of range\n",
      "list index out of range\n"
     ]
    },
    {
     "name": "stderr",
     "output_type": "stream",
     "text": [
      "100%|██████████| 106/106 [00:01<00:00, 85.07it/s]"
     ]
    },
    {
     "name": "stdout",
     "output_type": "stream",
     "text": [
      "list index out of range\n"
     ]
    },
    {
     "name": "stderr",
     "output_type": "stream",
     "text": [
      "\n"
     ]
    },
    {
     "name": "stdout",
     "output_type": "stream",
     "text": [
      "Today input data formatted\n",
      "Today feature processing done\n",
      "Pred goes up:  0.41 \n",
      " Pred perc change:  0.007508696919335779 \n",
      "\n",
      "Predicting ---- 6\n"
     ]
    },
    {
     "name": "stderr",
     "output_type": "stream",
     "text": [
      " 23%|██▎       | 24/106 [00:00<00:01, 71.27it/s]"
     ]
    },
    {
     "name": "stdout",
     "output_type": "stream",
     "text": [
      "list index out of range\n",
      "list index out of range\n"
     ]
    },
    {
     "name": "stderr",
     "output_type": "stream",
     "text": [
      " 82%|████████▏ | 87/106 [00:00<00:00, 119.43it/s]"
     ]
    },
    {
     "name": "stdout",
     "output_type": "stream",
     "text": [
      "list index out of range\n",
      "list index out of range\n"
     ]
    },
    {
     "name": "stderr",
     "output_type": "stream",
     "text": [
      "100%|██████████| 106/106 [00:01<00:00, 91.66it/s]"
     ]
    },
    {
     "name": "stdout",
     "output_type": "stream",
     "text": [
      "list index out of range\n"
     ]
    },
    {
     "name": "stderr",
     "output_type": "stream",
     "text": [
      "\n"
     ]
    },
    {
     "name": "stdout",
     "output_type": "stream",
     "text": [
      "Today input data formatted\n",
      "Today feature processing done\n",
      "Pred goes up:  0.47 \n",
      " Pred perc change:  -0.004842460563494446 \n",
      "\n",
      "Predicting ---- 7\n"
     ]
    },
    {
     "name": "stderr",
     "output_type": "stream",
     "text": [
      " 23%|██▎       | 24/106 [00:00<00:01, 71.85it/s]"
     ]
    },
    {
     "name": "stdout",
     "output_type": "stream",
     "text": [
      "list index out of range\n",
      "list index out of range\n"
     ]
    },
    {
     "name": "stderr",
     "output_type": "stream",
     "text": [
      " 74%|███████▎  | 78/106 [00:00<00:00, 136.28it/s]"
     ]
    },
    {
     "name": "stdout",
     "output_type": "stream",
     "text": [
      "list index out of range\n",
      "list index out of range\n"
     ]
    },
    {
     "name": "stderr",
     "output_type": "stream",
     "text": [
      "100%|██████████| 106/106 [00:01<00:00, 93.50it/s]"
     ]
    },
    {
     "name": "stdout",
     "output_type": "stream",
     "text": [
      "list index out of range\n"
     ]
    },
    {
     "name": "stderr",
     "output_type": "stream",
     "text": [
      "\n"
     ]
    },
    {
     "name": "stdout",
     "output_type": "stream",
     "text": [
      "Today input data formatted\n",
      "Today feature processing done\n",
      "Pred goes up:  0.43 \n",
      " Pred perc change:  -0.006593212251294437 \n",
      "\n",
      "Predicting ---- 8\n"
     ]
    },
    {
     "name": "stderr",
     "output_type": "stream",
     "text": [
      " 23%|██▎       | 24/106 [00:00<00:01, 62.87it/s]"
     ]
    },
    {
     "name": "stdout",
     "output_type": "stream",
     "text": [
      "list index out of range\n",
      "list index out of range\n"
     ]
    },
    {
     "name": "stderr",
     "output_type": "stream",
     "text": [
      " 82%|████████▏ | 87/106 [00:00<00:00, 148.19it/s]"
     ]
    },
    {
     "name": "stdout",
     "output_type": "stream",
     "text": [
      "list index out of range\n",
      "list index out of range\n"
     ]
    },
    {
     "name": "stderr",
     "output_type": "stream",
     "text": [
      " 98%|█████████▊| 104/106 [00:01<00:00, 91.45it/s]"
     ]
    },
    {
     "name": "stdout",
     "output_type": "stream",
     "text": [
      "list index out of range\n"
     ]
    },
    {
     "name": "stderr",
     "output_type": "stream",
     "text": [
      "100%|██████████| 106/106 [00:01<00:00, 87.68it/s]\n"
     ]
    },
    {
     "name": "stdout",
     "output_type": "stream",
     "text": [
      "Today input data formatted\n",
      "Today feature processing done\n",
      "Pred goes up:  0.54 \n",
      " Pred perc change:  0.005156166894855236 \n",
      "\n",
      "Predicting ---- 9\n"
     ]
    },
    {
     "name": "stderr",
     "output_type": "stream",
     "text": [
      " 23%|██▎       | 24/106 [00:00<00:01, 55.47it/s]"
     ]
    },
    {
     "name": "stdout",
     "output_type": "stream",
     "text": [
      "list index out of range\n",
      "list index out of range\n"
     ]
    },
    {
     "name": "stderr",
     "output_type": "stream",
     "text": [
      " 79%|███████▉  | 84/106 [00:00<00:00, 134.28it/s]"
     ]
    },
    {
     "name": "stdout",
     "output_type": "stream",
     "text": [
      "list index out of range\n",
      "list index out of range\n"
     ]
    },
    {
     "name": "stderr",
     "output_type": "stream",
     "text": [
      "100%|██████████| 106/106 [00:01<00:00, 84.51it/s]"
     ]
    },
    {
     "name": "stdout",
     "output_type": "stream",
     "text": [
      "list index out of range\n"
     ]
    },
    {
     "name": "stderr",
     "output_type": "stream",
     "text": [
      "\n"
     ]
    },
    {
     "name": "stdout",
     "output_type": "stream",
     "text": [
      "Today input data formatted\n",
      "Today feature processing done\n",
      "Pred goes up:  0.53 \n",
      " Pred perc change:  0.008374110567232664 \n",
      "\n",
      "Predicting ---- 10\n"
     ]
    },
    {
     "name": "stderr",
     "output_type": "stream",
     "text": [
      " 23%|██▎       | 24/106 [00:00<00:01, 58.31it/s]"
     ]
    },
    {
     "name": "stdout",
     "output_type": "stream",
     "text": [
      "list index out of range\n",
      "list index out of range\n"
     ]
    },
    {
     "name": "stderr",
     "output_type": "stream",
     "text": [
      " 82%|████████▏ | 87/106 [00:00<00:00, 147.14it/s]"
     ]
    },
    {
     "name": "stdout",
     "output_type": "stream",
     "text": [
      "list index out of range\n",
      "list index out of range\n"
     ]
    },
    {
     "name": "stderr",
     "output_type": "stream",
     "text": [
      "100%|██████████| 106/106 [00:01<00:00, 99.74it/s]"
     ]
    },
    {
     "name": "stdout",
     "output_type": "stream",
     "text": [
      "list index out of range\n"
     ]
    },
    {
     "name": "stderr",
     "output_type": "stream",
     "text": [
      "\n"
     ]
    },
    {
     "name": "stdout",
     "output_type": "stream",
     "text": [
      "Today input data formatted\n",
      "Today feature processing done\n",
      "Pred goes up:  0.47 \n",
      " Pred perc change:  0.004950889002678044 \n",
      "\n",
      "Predicting ---- 11\n"
     ]
    },
    {
     "name": "stderr",
     "output_type": "stream",
     "text": [
      " 23%|██▎       | 24/106 [00:00<00:01, 55.31it/s]"
     ]
    },
    {
     "name": "stdout",
     "output_type": "stream",
     "text": [
      "list index out of range\n",
      "list index out of range\n"
     ]
    },
    {
     "name": "stderr",
     "output_type": "stream",
     "text": [
      " 72%|███████▏  | 76/106 [00:00<00:00, 147.44it/s]"
     ]
    },
    {
     "name": "stdout",
     "output_type": "stream",
     "text": [
      "list index out of range\n",
      "list index out of range\n"
     ]
    },
    {
     "name": "stderr",
     "output_type": "stream",
     "text": [
      "100%|██████████| 106/106 [00:01<00:00, 82.70it/s]"
     ]
    },
    {
     "name": "stdout",
     "output_type": "stream",
     "text": [
      "list index out of range\n"
     ]
    },
    {
     "name": "stderr",
     "output_type": "stream",
     "text": [
      "\n"
     ]
    },
    {
     "name": "stdout",
     "output_type": "stream",
     "text": [
      "Today input data formatted\n",
      "Today feature processing done\n",
      "Pred goes up:  0.49 \n",
      " Pred perc change:  -0.0010743729430758048 \n",
      "\n",
      "Predicting ---- 12\n"
     ]
    },
    {
     "name": "stderr",
     "output_type": "stream",
     "text": [
      " 23%|██▎       | 24/106 [00:00<00:01, 57.56it/s]"
     ]
    },
    {
     "name": "stdout",
     "output_type": "stream",
     "text": [
      "list index out of range\n",
      "list index out of range\n"
     ]
    },
    {
     "name": "stderr",
     "output_type": "stream",
     "text": [
      " 67%|██████▋   | 71/106 [00:00<00:00, 131.96it/s]"
     ]
    },
    {
     "name": "stdout",
     "output_type": "stream",
     "text": [
      "list index out of range\n",
      "list index out of range\n"
     ]
    },
    {
     "name": "stderr",
     "output_type": "stream",
     "text": [
      "100%|██████████| 106/106 [00:01<00:00, 83.27it/s]"
     ]
    },
    {
     "name": "stdout",
     "output_type": "stream",
     "text": [
      "list index out of range\n"
     ]
    },
    {
     "name": "stderr",
     "output_type": "stream",
     "text": [
      "\n"
     ]
    },
    {
     "name": "stdout",
     "output_type": "stream",
     "text": [
      "Today input data formatted\n",
      "Today feature processing done\n",
      "Pred goes up:  0.46 \n",
      " Pred perc change:  0.03790547716786611 \n",
      "\n",
      "Predicting ---- 13\n"
     ]
    },
    {
     "name": "stderr",
     "output_type": "stream",
     "text": [
      " 23%|██▎       | 24/106 [00:00<00:01, 65.62it/s]"
     ]
    },
    {
     "name": "stdout",
     "output_type": "stream",
     "text": [
      "list index out of range\n",
      "list index out of range\n"
     ]
    },
    {
     "name": "stderr",
     "output_type": "stream",
     "text": [
      " 80%|████████  | 85/106 [00:00<00:00, 166.39it/s]"
     ]
    },
    {
     "name": "stdout",
     "output_type": "stream",
     "text": [
      "list index out of range\n",
      "list index out of range\n"
     ]
    },
    {
     "name": "stderr",
     "output_type": "stream",
     "text": [
      "100%|██████████| 106/106 [00:01<00:00, 88.86it/s]"
     ]
    },
    {
     "name": "stdout",
     "output_type": "stream",
     "text": [
      "list index out of range\n"
     ]
    },
    {
     "name": "stderr",
     "output_type": "stream",
     "text": [
      "\n"
     ]
    },
    {
     "name": "stdout",
     "output_type": "stream",
     "text": [
      "Today input data formatted\n",
      "Today feature processing done\n",
      "Pred goes up:  0.31 \n",
      " Pred perc change:  -0.008620620850569687 \n",
      "\n",
      "Predicting ---- 14\n"
     ]
    },
    {
     "name": "stderr",
     "output_type": "stream",
     "text": [
      " 23%|██▎       | 24/106 [00:00<00:01, 58.76it/s]"
     ]
    },
    {
     "name": "stdout",
     "output_type": "stream",
     "text": [
      "list index out of range\n",
      "list index out of range\n"
     ]
    },
    {
     "name": "stderr",
     "output_type": "stream",
     "text": [
      " 82%|████████▏ | 87/106 [00:00<00:00, 102.99it/s]"
     ]
    },
    {
     "name": "stdout",
     "output_type": "stream",
     "text": [
      "list index out of range\n",
      "list index out of range\n"
     ]
    },
    {
     "name": "stderr",
     "output_type": "stream",
     "text": [
      "100%|██████████| 106/106 [00:01<00:00, 85.99it/s]"
     ]
    },
    {
     "name": "stdout",
     "output_type": "stream",
     "text": [
      "list index out of range\n"
     ]
    },
    {
     "name": "stderr",
     "output_type": "stream",
     "text": [
      "\n"
     ]
    },
    {
     "name": "stdout",
     "output_type": "stream",
     "text": [
      "Today input data formatted\n",
      "Today feature processing done\n",
      "Pred goes up:  0.33 \n",
      " Pred perc change:  -0.009231135531327067 \n",
      "\n",
      "Predicting ---- 15\n"
     ]
    },
    {
     "name": "stderr",
     "output_type": "stream",
     "text": [
      " 23%|██▎       | 24/106 [00:00<00:01, 52.96it/s]"
     ]
    },
    {
     "name": "stdout",
     "output_type": "stream",
     "text": [
      "list index out of range\n",
      "list index out of range\n"
     ]
    },
    {
     "name": "stderr",
     "output_type": "stream",
     "text": [
      " 82%|████████▏ | 87/106 [00:00<00:00, 102.61it/s]"
     ]
    },
    {
     "name": "stdout",
     "output_type": "stream",
     "text": [
      "list index out of range\n",
      "list index out of range\n"
     ]
    },
    {
     "name": "stderr",
     "output_type": "stream",
     "text": [
      "100%|██████████| 106/106 [00:01<00:00, 81.18it/s]"
     ]
    },
    {
     "name": "stdout",
     "output_type": "stream",
     "text": [
      "list index out of range\n"
     ]
    },
    {
     "name": "stderr",
     "output_type": "stream",
     "text": [
      "\n"
     ]
    },
    {
     "name": "stdout",
     "output_type": "stream",
     "text": [
      "Today input data formatted\n",
      "Today feature processing done\n",
      "Pred goes up:  0.44 \n",
      " Pred perc change:  0.002218484979820007 \n",
      "\n",
      "Predicting ---- 16\n"
     ]
    },
    {
     "name": "stderr",
     "output_type": "stream",
     "text": [
      " 23%|██▎       | 24/106 [00:00<00:01, 65.34it/s]"
     ]
    },
    {
     "name": "stdout",
     "output_type": "stream",
     "text": [
      "list index out of range\n",
      "list index out of range\n"
     ]
    },
    {
     "name": "stderr",
     "output_type": "stream",
     "text": [
      " 82%|████████▏ | 87/106 [00:00<00:00, 149.58it/s]"
     ]
    },
    {
     "name": "stdout",
     "output_type": "stream",
     "text": [
      "list index out of range\n",
      "list index out of range\n"
     ]
    },
    {
     "name": "stderr",
     "output_type": "stream",
     "text": [
      "100%|██████████| 106/106 [00:00<00:00, 106.91it/s]"
     ]
    },
    {
     "name": "stdout",
     "output_type": "stream",
     "text": [
      "list index out of range\n"
     ]
    },
    {
     "name": "stderr",
     "output_type": "stream",
     "text": [
      "\n"
     ]
    },
    {
     "name": "stdout",
     "output_type": "stream",
     "text": [
      "Today input data formatted\n",
      "Today feature processing done\n",
      "Pred goes up:  0.59 \n",
      " Pred perc change:  0.0012076881983257642 \n",
      "\n",
      "Predicting ---- 17\n"
     ]
    },
    {
     "name": "stderr",
     "output_type": "stream",
     "text": [
      " 27%|██▋       | 29/106 [00:00<00:01, 51.51it/s]"
     ]
    },
    {
     "name": "stdout",
     "output_type": "stream",
     "text": [
      "list index out of range\n",
      "list index out of range\n"
     ]
    },
    {
     "name": "stderr",
     "output_type": "stream",
     "text": [
      " 82%|████████▏ | 87/106 [00:00<00:00, 135.66it/s]"
     ]
    },
    {
     "name": "stdout",
     "output_type": "stream",
     "text": [
      "list index out of range\n",
      "list index out of range\n",
      "list index out of range\n"
     ]
    },
    {
     "name": "stderr",
     "output_type": "stream",
     "text": [
      "100%|██████████| 106/106 [00:01<00:00, 82.16it/s]\n"
     ]
    },
    {
     "name": "stdout",
     "output_type": "stream",
     "text": [
      "Today input data formatted\n",
      "Today feature processing done\n",
      "Pred goes up:  0.58 \n",
      " Pred perc change:  0.007817729638776433 \n",
      "\n",
      "Predicting ---- 18\n"
     ]
    },
    {
     "name": "stderr",
     "output_type": "stream",
     "text": [
      " 23%|██▎       | 24/106 [00:00<00:01, 56.12it/s]"
     ]
    },
    {
     "name": "stdout",
     "output_type": "stream",
     "text": [
      "list index out of range\n",
      "list index out of range\n"
     ]
    },
    {
     "name": "stderr",
     "output_type": "stream",
     "text": [
      " 82%|████████▏ | 87/106 [00:00<00:00, 138.84it/s]"
     ]
    },
    {
     "name": "stdout",
     "output_type": "stream",
     "text": [
      "list index out of range\n",
      "list index out of range\n"
     ]
    },
    {
     "name": "stderr",
     "output_type": "stream",
     "text": [
      "100%|██████████| 106/106 [00:01<00:00, 100.46it/s]"
     ]
    },
    {
     "name": "stdout",
     "output_type": "stream",
     "text": [
      "list index out of range\n"
     ]
    },
    {
     "name": "stderr",
     "output_type": "stream",
     "text": [
      "\n"
     ]
    },
    {
     "name": "stdout",
     "output_type": "stream",
     "text": [
      "Today input data formatted\n",
      "Today feature processing done\n",
      "Pred goes up:  0.44 \n",
      " Pred perc change:  -0.00556330296496644 \n",
      "\n",
      "Predicting ---- 19\n"
     ]
    },
    {
     "name": "stderr",
     "output_type": "stream",
     "text": [
      " 23%|██▎       | 24/106 [00:00<00:01, 66.79it/s]"
     ]
    },
    {
     "name": "stdout",
     "output_type": "stream",
     "text": [
      "list index out of range\n",
      "list index out of range\n"
     ]
    },
    {
     "name": "stderr",
     "output_type": "stream",
     "text": [
      " 71%|███████   | 75/106 [00:00<00:00, 122.79it/s]"
     ]
    },
    {
     "name": "stdout",
     "output_type": "stream",
     "text": [
      "list index out of range\n",
      "list index out of range\n"
     ]
    },
    {
     "name": "stderr",
     "output_type": "stream",
     "text": [
      "100%|██████████| 106/106 [00:01<00:00, 93.95it/s]"
     ]
    },
    {
     "name": "stdout",
     "output_type": "stream",
     "text": [
      "list index out of range\n"
     ]
    },
    {
     "name": "stderr",
     "output_type": "stream",
     "text": [
      "\n"
     ]
    },
    {
     "name": "stdout",
     "output_type": "stream",
     "text": [
      "Today input data formatted\n",
      "Today feature processing done\n",
      "Pred goes up:  0.36 \n",
      " Pred perc change:  0.00026456370937985607 \n",
      "\n",
      "Predicting ---- 20\n"
     ]
    },
    {
     "name": "stderr",
     "output_type": "stream",
     "text": [
      " 23%|██▎       | 24/106 [00:00<00:01, 68.57it/s]"
     ]
    },
    {
     "name": "stdout",
     "output_type": "stream",
     "text": [
      "list index out of range\n",
      "list index out of range\n"
     ]
    },
    {
     "name": "stderr",
     "output_type": "stream",
     "text": [
      " 82%|████████▏ | 87/106 [00:00<00:00, 146.49it/s]"
     ]
    },
    {
     "name": "stdout",
     "output_type": "stream",
     "text": [
      "list index out of range\n",
      "list index out of range\n"
     ]
    },
    {
     "name": "stderr",
     "output_type": "stream",
     "text": [
      "100%|██████████| 106/106 [00:01<00:00, 96.32it/s]"
     ]
    },
    {
     "name": "stdout",
     "output_type": "stream",
     "text": [
      "list index out of range\n"
     ]
    },
    {
     "name": "stderr",
     "output_type": "stream",
     "text": [
      "\n"
     ]
    },
    {
     "name": "stdout",
     "output_type": "stream",
     "text": [
      "Today input data formatted\n",
      "Today feature processing done\n",
      "Pred goes up:  0.47 \n",
      " Pred perc change:  0.008712351798360902 \n",
      "\n",
      "Predicting ---- 21\n"
     ]
    },
    {
     "name": "stderr",
     "output_type": "stream",
     "text": [
      " 23%|██▎       | 24/106 [00:00<00:01, 65.03it/s]"
     ]
    },
    {
     "name": "stdout",
     "output_type": "stream",
     "text": [
      "list index out of range\n",
      "list index out of range\n"
     ]
    },
    {
     "name": "stderr",
     "output_type": "stream",
     "text": [
      " 82%|████████▏ | 87/106 [00:00<00:00, 151.28it/s]"
     ]
    },
    {
     "name": "stdout",
     "output_type": "stream",
     "text": [
      "list index out of range\n",
      "list index out of range\n"
     ]
    },
    {
     "name": "stderr",
     "output_type": "stream",
     "text": [
      "100%|██████████| 106/106 [00:00<00:00, 108.95it/s]"
     ]
    },
    {
     "name": "stdout",
     "output_type": "stream",
     "text": [
      "list index out of range\n"
     ]
    },
    {
     "name": "stderr",
     "output_type": "stream",
     "text": [
      "\n"
     ]
    },
    {
     "name": "stdout",
     "output_type": "stream",
     "text": [
      "Today input data formatted\n",
      "Today feature processing done\n",
      "Pred goes up:  0.45 \n",
      " Pred perc change:  0.007629896718147483 \n",
      "\n",
      "Predicting ---- 22\n"
     ]
    },
    {
     "name": "stderr",
     "output_type": "stream",
     "text": [
      " 23%|██▎       | 24/106 [00:00<00:01, 67.83it/s]"
     ]
    },
    {
     "name": "stdout",
     "output_type": "stream",
     "text": [
      "list index out of range\n",
      "list index out of range\n"
     ]
    },
    {
     "name": "stderr",
     "output_type": "stream",
     "text": [
      " 71%|███████   | 75/106 [00:00<00:00, 129.06it/s]"
     ]
    },
    {
     "name": "stdout",
     "output_type": "stream",
     "text": [
      "list index out of range\n",
      "list index out of range\n"
     ]
    },
    {
     "name": "stderr",
     "output_type": "stream",
     "text": [
      "100%|██████████| 106/106 [00:01<00:00, 91.36it/s]"
     ]
    },
    {
     "name": "stdout",
     "output_type": "stream",
     "text": [
      "list index out of range\n"
     ]
    },
    {
     "name": "stderr",
     "output_type": "stream",
     "text": [
      "\n"
     ]
    },
    {
     "name": "stdout",
     "output_type": "stream",
     "text": [
      "Today input data formatted\n",
      "Today feature processing done\n",
      "Pred goes up:  0.4 \n",
      " Pred perc change:  0.0034354995959920897 \n",
      "\n",
      "Predicting ---- 23\n"
     ]
    },
    {
     "name": "stderr",
     "output_type": "stream",
     "text": [
      " 23%|██▎       | 24/106 [00:00<00:01, 68.53it/s]"
     ]
    },
    {
     "name": "stdout",
     "output_type": "stream",
     "text": [
      "list index out of range\n",
      "list index out of range\n"
     ]
    },
    {
     "name": "stderr",
     "output_type": "stream",
     "text": [
      " 78%|███████▊  | 83/106 [00:00<00:00, 139.34it/s]"
     ]
    },
    {
     "name": "stdout",
     "output_type": "stream",
     "text": [
      "list index out of range\n",
      "list index out of range\n"
     ]
    },
    {
     "name": "stderr",
     "output_type": "stream",
     "text": [
      "100%|██████████| 106/106 [00:01<00:00, 91.03it/s]"
     ]
    },
    {
     "name": "stdout",
     "output_type": "stream",
     "text": [
      "list index out of range\n"
     ]
    },
    {
     "name": "stderr",
     "output_type": "stream",
     "text": [
      "\n"
     ]
    },
    {
     "name": "stdout",
     "output_type": "stream",
     "text": [
      "Today input data formatted\n",
      "Today feature processing done\n",
      "Pred goes up:  0.51 \n",
      " Pred perc change:  -0.021521328374634316 \n",
      "\n",
      "Predicting ---- 24\n"
     ]
    },
    {
     "name": "stderr",
     "output_type": "stream",
     "text": [
      " 23%|██▎       | 24/106 [00:00<00:01, 62.87it/s]"
     ]
    },
    {
     "name": "stdout",
     "output_type": "stream",
     "text": [
      "list index out of range\n",
      "list index out of range\n"
     ]
    },
    {
     "name": "stderr",
     "output_type": "stream",
     "text": [
      " 82%|████████▏ | 87/106 [00:00<00:00, 143.62it/s]"
     ]
    },
    {
     "name": "stdout",
     "output_type": "stream",
     "text": [
      "list index out of range\n",
      "list index out of range\n"
     ]
    },
    {
     "name": "stderr",
     "output_type": "stream",
     "text": [
      "100%|██████████| 106/106 [00:00<00:00, 108.33it/s]"
     ]
    },
    {
     "name": "stdout",
     "output_type": "stream",
     "text": [
      "list index out of range\n"
     ]
    },
    {
     "name": "stderr",
     "output_type": "stream",
     "text": [
      "\n"
     ]
    },
    {
     "name": "stdout",
     "output_type": "stream",
     "text": [
      "Today input data formatted\n",
      "Today feature processing done\n",
      "Pred goes up:  0.5 \n",
      " Pred perc change:  -0.011643223906844705 \n",
      "\n",
      "Predicting ---- 25\n"
     ]
    },
    {
     "name": "stderr",
     "output_type": "stream",
     "text": [
      " 23%|██▎       | 24/106 [00:00<00:01, 50.74it/s]"
     ]
    },
    {
     "name": "stdout",
     "output_type": "stream",
     "text": [
      "list index out of range\n",
      "list index out of range\n"
     ]
    },
    {
     "name": "stderr",
     "output_type": "stream",
     "text": [
      " 82%|████████▏ | 87/106 [00:00<00:00, 134.68it/s]"
     ]
    },
    {
     "name": "stdout",
     "output_type": "stream",
     "text": [
      "list index out of range\n",
      "list index out of range\n"
     ]
    },
    {
     "name": "stderr",
     "output_type": "stream",
     "text": [
      " 97%|█████████▋| 103/106 [00:01<00:00, 80.20it/s]"
     ]
    },
    {
     "name": "stdout",
     "output_type": "stream",
     "text": [
      "list index out of range\n"
     ]
    },
    {
     "name": "stderr",
     "output_type": "stream",
     "text": [
      "100%|██████████| 106/106 [00:01<00:00, 88.66it/s]\n"
     ]
    },
    {
     "name": "stdout",
     "output_type": "stream",
     "text": [
      "Today input data formatted\n",
      "Today feature processing done\n",
      "Pred goes up:  0.47 \n",
      " Pred perc change:  0.010103302185765934 \n",
      "\n",
      "Predicting ---- 26\n"
     ]
    },
    {
     "name": "stderr",
     "output_type": "stream",
     "text": [
      " 23%|██▎       | 24/106 [00:00<00:01, 66.85it/s]"
     ]
    },
    {
     "name": "stdout",
     "output_type": "stream",
     "text": [
      "list index out of range\n",
      "list index out of range\n"
     ]
    },
    {
     "name": "stderr",
     "output_type": "stream",
     "text": [
      " 82%|████████▏ | 87/106 [00:00<00:00, 138.03it/s]"
     ]
    },
    {
     "name": "stdout",
     "output_type": "stream",
     "text": [
      "list index out of range\n",
      "list index out of range\n"
     ]
    },
    {
     "name": "stderr",
     "output_type": "stream",
     "text": [
      "100%|██████████| 106/106 [00:01<00:00, 103.70it/s]"
     ]
    },
    {
     "name": "stdout",
     "output_type": "stream",
     "text": [
      "list index out of range\n"
     ]
    },
    {
     "name": "stderr",
     "output_type": "stream",
     "text": [
      "\n"
     ]
    },
    {
     "name": "stdout",
     "output_type": "stream",
     "text": [
      "Today input data formatted\n",
      "Today feature processing done\n",
      "Pred goes up:  0.41 \n",
      " Pred perc change:  -0.00798039910040187 \n",
      "\n",
      "Predicting ---- 27\n"
     ]
    },
    {
     "name": "stderr",
     "output_type": "stream",
     "text": [
      " 23%|██▎       | 24/106 [00:00<00:01, 69.24it/s]"
     ]
    },
    {
     "name": "stdout",
     "output_type": "stream",
     "text": [
      "list index out of range\n",
      "list index out of range\n"
     ]
    },
    {
     "name": "stderr",
     "output_type": "stream",
     "text": [
      " 75%|███████▍  | 79/106 [00:00<00:00, 136.51it/s]"
     ]
    },
    {
     "name": "stdout",
     "output_type": "stream",
     "text": [
      "list index out of range\n",
      "list index out of range\n"
     ]
    },
    {
     "name": "stderr",
     "output_type": "stream",
     "text": [
      "100%|██████████| 106/106 [00:01<00:00, 86.61it/s]"
     ]
    },
    {
     "name": "stdout",
     "output_type": "stream",
     "text": [
      "list index out of range\n"
     ]
    },
    {
     "name": "stderr",
     "output_type": "stream",
     "text": [
      "\n"
     ]
    },
    {
     "name": "stdout",
     "output_type": "stream",
     "text": [
      "Today input data formatted\n",
      "Today feature processing done\n",
      "Pred goes up:  0.41 \n",
      " Pred perc change:  0.0061732883882832015 \n",
      "\n",
      "Predicting ---- 28\n"
     ]
    },
    {
     "name": "stderr",
     "output_type": "stream",
     "text": [
      " 23%|██▎       | 24/106 [00:00<00:01, 68.10it/s]"
     ]
    },
    {
     "name": "stdout",
     "output_type": "stream",
     "text": [
      "list index out of range\n",
      "list index out of range\n"
     ]
    },
    {
     "name": "stderr",
     "output_type": "stream",
     "text": [
      " 82%|████████▏ | 87/106 [00:00<00:00, 155.27it/s]"
     ]
    },
    {
     "name": "stdout",
     "output_type": "stream",
     "text": [
      "list index out of range\n",
      "list index out of range\n",
      "list index out of range\n"
     ]
    },
    {
     "name": "stderr",
     "output_type": "stream",
     "text": [
      "100%|██████████| 106/106 [00:01<00:00, 89.06it/s]\n"
     ]
    },
    {
     "name": "stdout",
     "output_type": "stream",
     "text": [
      "Today input data formatted\n",
      "Today feature processing done\n",
      "Pred goes up:  0.43 \n",
      " Pred perc change:  -0.001811021775106389 \n",
      "\n",
      "Predicting ---- 29\n"
     ]
    },
    {
     "name": "stderr",
     "output_type": "stream",
     "text": [
      " 23%|██▎       | 24/106 [00:00<00:01, 59.25it/s]"
     ]
    },
    {
     "name": "stdout",
     "output_type": "stream",
     "text": [
      "list index out of range\n",
      "list index out of range\n"
     ]
    },
    {
     "name": "stderr",
     "output_type": "stream",
     "text": [
      " 82%|████████▏ | 87/106 [00:00<00:00, 144.44it/s]"
     ]
    },
    {
     "name": "stdout",
     "output_type": "stream",
     "text": [
      "list index out of range\n",
      "list index out of range\n"
     ]
    },
    {
     "name": "stderr",
     "output_type": "stream",
     "text": [
      "100%|██████████| 106/106 [00:01<00:00, 103.66it/s]"
     ]
    },
    {
     "name": "stdout",
     "output_type": "stream",
     "text": [
      "list index out of range\n"
     ]
    },
    {
     "name": "stderr",
     "output_type": "stream",
     "text": [
      "\n"
     ]
    },
    {
     "name": "stdout",
     "output_type": "stream",
     "text": [
      "Today input data formatted\n",
      "Today feature processing done\n",
      "Pred goes up:  0.42 \n",
      " Pred perc change:  -0.0026807106461074533 \n",
      "\n",
      "Predicting ---- 30\n"
     ]
    },
    {
     "name": "stderr",
     "output_type": "stream",
     "text": [
      " 23%|██▎       | 24/106 [00:00<00:01, 64.58it/s]"
     ]
    },
    {
     "name": "stdout",
     "output_type": "stream",
     "text": [
      "list index out of range\n",
      "list index out of range\n"
     ]
    },
    {
     "name": "stderr",
     "output_type": "stream",
     "text": [
      " 82%|████████▏ | 87/106 [00:00<00:00, 122.73it/s]"
     ]
    },
    {
     "name": "stdout",
     "output_type": "stream",
     "text": [
      "list index out of range\n",
      "list index out of range\n"
     ]
    },
    {
     "name": "stderr",
     "output_type": "stream",
     "text": [
      "100%|██████████| 106/106 [00:01<00:00, 94.51it/s]"
     ]
    },
    {
     "name": "stdout",
     "output_type": "stream",
     "text": [
      "list index out of range\n"
     ]
    },
    {
     "name": "stderr",
     "output_type": "stream",
     "text": [
      "\n"
     ]
    },
    {
     "name": "stdout",
     "output_type": "stream",
     "text": [
      "Today input data formatted\n",
      "Today feature processing done\n",
      "Pred goes up:  0.44 \n",
      " Pred perc change:  -0.002573678372672289 \n",
      "\n",
      "Predicting ---- 31\n"
     ]
    },
    {
     "name": "stderr",
     "output_type": "stream",
     "text": [
      " 23%|██▎       | 24/106 [00:00<00:01, 64.94it/s]"
     ]
    },
    {
     "name": "stdout",
     "output_type": "stream",
     "text": [
      "list index out of range\n",
      "list index out of range\n"
     ]
    },
    {
     "name": "stderr",
     "output_type": "stream",
     "text": [
      " 70%|██████▉   | 74/106 [00:00<00:00, 121.74it/s]"
     ]
    },
    {
     "name": "stdout",
     "output_type": "stream",
     "text": [
      "list index out of range\n",
      "list index out of range\n"
     ]
    },
    {
     "name": "stderr",
     "output_type": "stream",
     "text": [
      "100%|██████████| 106/106 [00:01<00:00, 94.68it/s]"
     ]
    },
    {
     "name": "stdout",
     "output_type": "stream",
     "text": [
      "list index out of range\n"
     ]
    },
    {
     "name": "stderr",
     "output_type": "stream",
     "text": [
      "\n"
     ]
    },
    {
     "name": "stdout",
     "output_type": "stream",
     "text": [
      "Today input data formatted\n",
      "Today feature processing done\n",
      "Pred goes up:  0.46 \n",
      " Pred perc change:  0.015923246502956578 \n",
      "\n",
      "Predicting ---- 32\n"
     ]
    },
    {
     "name": "stderr",
     "output_type": "stream",
     "text": [
      " 23%|██▎       | 24/106 [00:00<00:01, 71.28it/s]"
     ]
    },
    {
     "name": "stdout",
     "output_type": "stream",
     "text": [
      "list index out of range\n",
      "list index out of range\n"
     ]
    },
    {
     "name": "stderr",
     "output_type": "stream",
     "text": [
      " 78%|███████▊  | 83/106 [00:00<00:00, 141.81it/s]"
     ]
    },
    {
     "name": "stdout",
     "output_type": "stream",
     "text": [
      "list index out of range\n",
      "list index out of range\n"
     ]
    },
    {
     "name": "stderr",
     "output_type": "stream",
     "text": [
      "100%|██████████| 106/106 [00:01<00:00, 98.84it/s]"
     ]
    },
    {
     "name": "stdout",
     "output_type": "stream",
     "text": [
      "list index out of range\n"
     ]
    },
    {
     "name": "stderr",
     "output_type": "stream",
     "text": [
      "\n"
     ]
    },
    {
     "name": "stdout",
     "output_type": "stream",
     "text": [
      "Today input data formatted\n",
      "Today feature processing done\n",
      "Pred goes up:  0.43 \n",
      " Pred perc change:  -0.0022226757652722483 \n",
      "\n",
      "Predicting ---- 33\n"
     ]
    },
    {
     "name": "stderr",
     "output_type": "stream",
     "text": [
      " 23%|██▎       | 24/106 [00:00<00:01, 69.83it/s]"
     ]
    },
    {
     "name": "stdout",
     "output_type": "stream",
     "text": [
      "list index out of range\n",
      "list index out of range\n"
     ]
    },
    {
     "name": "stderr",
     "output_type": "stream",
     "text": [
      " 82%|████████▏ | 87/106 [00:00<00:00, 155.87it/s]"
     ]
    },
    {
     "name": "stdout",
     "output_type": "stream",
     "text": [
      "list index out of range\n",
      "list index out of range\n"
     ]
    },
    {
     "name": "stderr",
     "output_type": "stream",
     "text": [
      "100%|██████████| 106/106 [00:00<00:00, 116.65it/s]"
     ]
    },
    {
     "name": "stdout",
     "output_type": "stream",
     "text": [
      "list index out of range\n"
     ]
    },
    {
     "name": "stderr",
     "output_type": "stream",
     "text": [
      "\n"
     ]
    },
    {
     "name": "stdout",
     "output_type": "stream",
     "text": [
      "Today input data formatted\n",
      "Today feature processing done\n",
      "Pred goes up:  0.59 \n",
      " Pred perc change:  0.013322118545799858 \n",
      "\n",
      "Predicting ---- 34\n"
     ]
    },
    {
     "name": "stderr",
     "output_type": "stream",
     "text": [
      " 22%|██▏       | 23/106 [00:00<00:01, 66.03it/s]"
     ]
    },
    {
     "name": "stdout",
     "output_type": "stream",
     "text": [
      "list index out of range\n"
     ]
    },
    {
     "name": "stderr",
     "output_type": "stream",
     "text": [
      " 65%|██████▌   | 69/106 [00:00<00:00, 163.18it/s]"
     ]
    },
    {
     "name": "stdout",
     "output_type": "stream",
     "text": [
      "list index out of range\n",
      "list index out of range\n",
      "list index out of range\n"
     ]
    },
    {
     "name": "stderr",
     "output_type": "stream",
     "text": [
      "100%|██████████| 106/106 [00:01<00:00, 98.36it/s]"
     ]
    },
    {
     "name": "stdout",
     "output_type": "stream",
     "text": [
      "list index out of range\n"
     ]
    },
    {
     "name": "stderr",
     "output_type": "stream",
     "text": [
      "\n"
     ]
    },
    {
     "name": "stdout",
     "output_type": "stream",
     "text": [
      "Today input data formatted\n",
      "Today feature processing done\n",
      "Pred goes up:  0.49 \n",
      " Pred perc change:  -0.0017608022651924866 \n",
      "\n",
      "Predicting ---- 35\n"
     ]
    },
    {
     "name": "stderr",
     "output_type": "stream",
     "text": [
      " 27%|██▋       | 29/106 [00:00<00:01, 54.77it/s]"
     ]
    },
    {
     "name": "stdout",
     "output_type": "stream",
     "text": [
      "list index out of range\n",
      "list index out of range\n"
     ]
    },
    {
     "name": "stderr",
     "output_type": "stream",
     "text": [
      " 82%|████████▏ | 87/106 [00:00<00:00, 123.51it/s]"
     ]
    },
    {
     "name": "stdout",
     "output_type": "stream",
     "text": [
      "list index out of range\n",
      "list index out of range\n",
      "list index out of range\n"
     ]
    },
    {
     "name": "stderr",
     "output_type": "stream",
     "text": [
      "100%|██████████| 106/106 [00:01<00:00, 81.65it/s]\n"
     ]
    },
    {
     "name": "stdout",
     "output_type": "stream",
     "text": [
      "Today input data formatted\n",
      "Today feature processing done\n",
      "Pred goes up:  0.44 \n",
      " Pred perc change:  -0.001961906534292526 \n",
      "\n",
      "Predicting ---- 36\n"
     ]
    },
    {
     "name": "stderr",
     "output_type": "stream",
     "text": [
      " 23%|██▎       | 24/106 [00:00<00:01, 66.12it/s]"
     ]
    },
    {
     "name": "stdout",
     "output_type": "stream",
     "text": [
      "list index out of range\n",
      "list index out of range\n"
     ]
    },
    {
     "name": "stderr",
     "output_type": "stream",
     "text": [
      " 82%|████████▏ | 87/106 [00:00<00:00, 146.15it/s]"
     ]
    },
    {
     "name": "stdout",
     "output_type": "stream",
     "text": [
      "list index out of range\n",
      "list index out of range\n"
     ]
    },
    {
     "name": "stderr",
     "output_type": "stream",
     "text": [
      "100%|██████████| 106/106 [00:00<00:00, 107.15it/s]"
     ]
    },
    {
     "name": "stdout",
     "output_type": "stream",
     "text": [
      "list index out of range\n"
     ]
    },
    {
     "name": "stderr",
     "output_type": "stream",
     "text": [
      "\n"
     ]
    },
    {
     "name": "stdout",
     "output_type": "stream",
     "text": [
      "Today input data formatted\n",
      "Today feature processing done\n",
      "Pred goes up:  0.5 \n",
      " Pred perc change:  -0.00474588529975138 \n",
      "\n",
      "Predicting ---- 37\n"
     ]
    },
    {
     "name": "stderr",
     "output_type": "stream",
     "text": [
      " 23%|██▎       | 24/106 [00:00<00:01, 61.41it/s]"
     ]
    },
    {
     "name": "stdout",
     "output_type": "stream",
     "text": [
      "list index out of range\n",
      "list index out of range\n"
     ]
    },
    {
     "name": "stderr",
     "output_type": "stream",
     "text": [
      " 70%|██████▉   | 74/106 [00:00<00:00, 116.43it/s]"
     ]
    },
    {
     "name": "stdout",
     "output_type": "stream",
     "text": [
      "list index out of range\n",
      "list index out of range\n"
     ]
    },
    {
     "name": "stderr",
     "output_type": "stream",
     "text": [
      "100%|██████████| 106/106 [00:01<00:00, 86.17it/s]"
     ]
    },
    {
     "name": "stdout",
     "output_type": "stream",
     "text": [
      "list index out of range\n"
     ]
    },
    {
     "name": "stderr",
     "output_type": "stream",
     "text": [
      "\n"
     ]
    },
    {
     "name": "stdout",
     "output_type": "stream",
     "text": [
      "Today input data formatted\n",
      "Today feature processing done\n",
      "Pred goes up:  0.38 \n",
      " Pred perc change:  -0.0006782277853879168 \n",
      "\n",
      "Predicting ---- 38\n"
     ]
    },
    {
     "name": "stderr",
     "output_type": "stream",
     "text": [
      " 23%|██▎       | 24/106 [00:00<00:01, 65.82it/s]"
     ]
    },
    {
     "name": "stdout",
     "output_type": "stream",
     "text": [
      "list index out of range\n",
      "list index out of range\n"
     ]
    },
    {
     "name": "stderr",
     "output_type": "stream",
     "text": [
      " 76%|███████▋  | 81/106 [00:00<00:00, 134.96it/s]"
     ]
    },
    {
     "name": "stdout",
     "output_type": "stream",
     "text": [
      "list index out of range\n",
      "list index out of range\n"
     ]
    },
    {
     "name": "stderr",
     "output_type": "stream",
     "text": [
      "100%|██████████| 106/106 [00:01<00:00, 90.90it/s]"
     ]
    },
    {
     "name": "stdout",
     "output_type": "stream",
     "text": [
      "list index out of range\n"
     ]
    },
    {
     "name": "stderr",
     "output_type": "stream",
     "text": [
      "\n"
     ]
    },
    {
     "name": "stdout",
     "output_type": "stream",
     "text": [
      "Today input data formatted\n",
      "Today feature processing done\n",
      "Pred goes up:  0.46 \n",
      " Pred perc change:  0.028132799854138604 \n",
      "\n",
      "Predicting ---- 39\n"
     ]
    },
    {
     "name": "stderr",
     "output_type": "stream",
     "text": [
      " 23%|██▎       | 24/106 [00:00<00:01, 64.21it/s]"
     ]
    },
    {
     "name": "stdout",
     "output_type": "stream",
     "text": [
      "list index out of range\n",
      "list index out of range\n"
     ]
    },
    {
     "name": "stderr",
     "output_type": "stream",
     "text": [
      " 82%|████████▏ | 87/106 [00:00<00:00, 143.68it/s]"
     ]
    },
    {
     "name": "stdout",
     "output_type": "stream",
     "text": [
      "list index out of range\n",
      "list index out of range\n"
     ]
    },
    {
     "name": "stderr",
     "output_type": "stream",
     "text": [
      "100%|██████████| 106/106 [00:01<00:00, 101.89it/s]"
     ]
    },
    {
     "name": "stdout",
     "output_type": "stream",
     "text": [
      "list index out of range\n"
     ]
    },
    {
     "name": "stderr",
     "output_type": "stream",
     "text": [
      "\n"
     ]
    },
    {
     "name": "stdout",
     "output_type": "stream",
     "text": [
      "Today input data formatted\n",
      "Today feature processing done\n",
      "Pred goes up:  0.31 \n",
      " Pred perc change:  0.010877084568948783 \n",
      "\n",
      "Predicting ---- 40\n"
     ]
    },
    {
     "name": "stderr",
     "output_type": "stream",
     "text": [
      " 23%|██▎       | 24/106 [00:00<00:01, 66.27it/s]"
     ]
    },
    {
     "name": "stdout",
     "output_type": "stream",
     "text": [
      "list index out of range\n",
      "list index out of range\n"
     ]
    },
    {
     "name": "stderr",
     "output_type": "stream",
     "text": [
      " 83%|████████▎ | 88/106 [00:00<00:00, 94.98it/s] "
     ]
    },
    {
     "name": "stdout",
     "output_type": "stream",
     "text": [
      "list index out of range\n",
      "list index out of range\n"
     ]
    },
    {
     "name": "stderr",
     "output_type": "stream",
     "text": [
      "100%|██████████| 106/106 [00:01<00:00, 90.73it/s]"
     ]
    },
    {
     "name": "stdout",
     "output_type": "stream",
     "text": [
      "list index out of range\n"
     ]
    },
    {
     "name": "stderr",
     "output_type": "stream",
     "text": [
      "\n"
     ]
    },
    {
     "name": "stdout",
     "output_type": "stream",
     "text": [
      "Today input data formatted\n",
      "Today feature processing done\n",
      "Pred goes up:  0.35 \n",
      " Pred perc change:  0.009501114708128226 \n",
      "\n",
      "Predicting ---- 41\n"
     ]
    },
    {
     "name": "stderr",
     "output_type": "stream",
     "text": [
      " 20%|█▉        | 21/106 [00:00<00:01, 45.89it/s]"
     ]
    },
    {
     "name": "stdout",
     "output_type": "stream",
     "text": [
      "list index out of range\n"
     ]
    },
    {
     "name": "stderr",
     "output_type": "stream",
     "text": [
      " 60%|██████    | 64/106 [00:00<00:00, 135.40it/s]"
     ]
    },
    {
     "name": "stdout",
     "output_type": "stream",
     "text": [
      "list index out of range\n"
     ]
    },
    {
     "name": "stderr",
     "output_type": "stream",
     "text": [
      " 82%|████████▏ | 87/106 [00:00<00:00, 132.09it/s]"
     ]
    },
    {
     "name": "stdout",
     "output_type": "stream",
     "text": [
      "list index out of range\n",
      "list index out of range\n"
     ]
    },
    {
     "name": "stderr",
     "output_type": "stream",
     "text": [
      " 97%|█████████▋| 103/106 [00:01<00:00, 84.82it/s]"
     ]
    },
    {
     "name": "stdout",
     "output_type": "stream",
     "text": [
      "list index out of range\n"
     ]
    },
    {
     "name": "stderr",
     "output_type": "stream",
     "text": [
      "100%|██████████| 106/106 [00:01<00:00, 76.71it/s]\n"
     ]
    },
    {
     "name": "stdout",
     "output_type": "stream",
     "text": [
      "Today input data formatted\n",
      "Today feature processing done\n",
      "Pred goes up:  0.47 \n",
      " Pred perc change:  -0.008004347548922413 \n",
      "\n",
      "Predicting ---- 42\n"
     ]
    },
    {
     "name": "stderr",
     "output_type": "stream",
     "text": [
      " 23%|██▎       | 24/106 [00:00<00:01, 44.08it/s]"
     ]
    },
    {
     "name": "stdout",
     "output_type": "stream",
     "text": [
      "list index out of range\n",
      "list index out of range\n"
     ]
    },
    {
     "name": "stderr",
     "output_type": "stream",
     "text": [
      " 82%|████████▏ | 87/106 [00:00<00:00, 131.38it/s]"
     ]
    },
    {
     "name": "stdout",
     "output_type": "stream",
     "text": [
      "list index out of range\n",
      "list index out of range\n"
     ]
    },
    {
     "name": "stderr",
     "output_type": "stream",
     "text": [
      " 96%|█████████▌| 102/106 [00:01<00:00, 70.42it/s]"
     ]
    },
    {
     "name": "stdout",
     "output_type": "stream",
     "text": [
      "list index out of range\n"
     ]
    },
    {
     "name": "stderr",
     "output_type": "stream",
     "text": [
      "100%|██████████| 106/106 [00:01<00:00, 77.73it/s]\n"
     ]
    },
    {
     "name": "stdout",
     "output_type": "stream",
     "text": [
      "Today input data formatted\n",
      "Today feature processing done\n",
      "Pred goes up:  0.43 \n",
      " Pred perc change:  -0.008733867168472811 \n",
      "\n",
      "Predicting ---- 43\n"
     ]
    },
    {
     "name": "stderr",
     "output_type": "stream",
     "text": [
      " 23%|██▎       | 24/106 [00:00<00:01, 64.54it/s]"
     ]
    },
    {
     "name": "stdout",
     "output_type": "stream",
     "text": [
      "list index out of range\n",
      "list index out of range\n"
     ]
    },
    {
     "name": "stderr",
     "output_type": "stream",
     "text": [
      " 82%|████████▏ | 87/106 [00:00<00:00, 144.33it/s]"
     ]
    },
    {
     "name": "stdout",
     "output_type": "stream",
     "text": [
      "list index out of range\n",
      "list index out of range\n"
     ]
    },
    {
     "name": "stderr",
     "output_type": "stream",
     "text": [
      "100%|██████████| 106/106 [00:01<00:00, 99.30it/s]"
     ]
    },
    {
     "name": "stdout",
     "output_type": "stream",
     "text": [
      "list index out of range\n"
     ]
    },
    {
     "name": "stderr",
     "output_type": "stream",
     "text": [
      "\n"
     ]
    },
    {
     "name": "stdout",
     "output_type": "stream",
     "text": [
      "Today input data formatted\n",
      "Today feature processing done\n",
      "Pred goes up:  0.43 \n",
      " Pred perc change:  -0.007390268835668695 \n",
      "\n",
      "Predicting ---- 44\n"
     ]
    },
    {
     "name": "stderr",
     "output_type": "stream",
     "text": [
      " 23%|██▎       | 24/106 [00:00<00:01, 61.58it/s]"
     ]
    },
    {
     "name": "stdout",
     "output_type": "stream",
     "text": [
      "list index out of range\n",
      "list index out of range\n"
     ]
    },
    {
     "name": "stderr",
     "output_type": "stream",
     "text": [
      " 73%|███████▎  | 77/106 [00:00<00:00, 143.73it/s]"
     ]
    },
    {
     "name": "stdout",
     "output_type": "stream",
     "text": [
      "list index out of range\n"
     ]
    },
    {
     "name": "stderr",
     "output_type": "stream",
     "text": [
      " 91%|█████████ | 96/106 [00:01<00:00, 66.92it/s] "
     ]
    },
    {
     "name": "stdout",
     "output_type": "stream",
     "text": [
      "list index out of range\n",
      "list index out of range\n"
     ]
    },
    {
     "name": "stderr",
     "output_type": "stream",
     "text": [
      "100%|██████████| 106/106 [00:01<00:00, 79.48it/s]\n"
     ]
    },
    {
     "name": "stdout",
     "output_type": "stream",
     "text": [
      "Today input data formatted\n",
      "Today feature processing done\n",
      "Pred goes up:  0.28 \n",
      " Pred perc change:  0.01528451553529121 \n",
      "\n",
      "Predicting ---- 45\n"
     ]
    },
    {
     "name": "stderr",
     "output_type": "stream",
     "text": [
      " 23%|██▎       | 24/106 [00:00<00:01, 70.01it/s]"
     ]
    },
    {
     "name": "stdout",
     "output_type": "stream",
     "text": [
      "list index out of range\n",
      "list index out of range\n"
     ]
    },
    {
     "name": "stderr",
     "output_type": "stream",
     "text": [
      " 82%|████████▏ | 87/106 [00:00<00:00, 122.42it/s]"
     ]
    },
    {
     "name": "stdout",
     "output_type": "stream",
     "text": [
      "list index out of range\n",
      "list index out of range\n"
     ]
    },
    {
     "name": "stderr",
     "output_type": "stream",
     "text": [
      "100%|██████████| 106/106 [00:01<00:00, 91.80it/s]"
     ]
    },
    {
     "name": "stdout",
     "output_type": "stream",
     "text": [
      "list index out of range\n"
     ]
    },
    {
     "name": "stderr",
     "output_type": "stream",
     "text": [
      "\n"
     ]
    },
    {
     "name": "stdout",
     "output_type": "stream",
     "text": [
      "Today input data formatted\n",
      "Today feature processing done\n",
      "Pred goes up:  0.54 \n",
      " Pred perc change:  0.008427043744871503 \n",
      "\n",
      "Predicting ---- 46\n"
     ]
    },
    {
     "name": "stderr",
     "output_type": "stream",
     "text": [
      " 23%|██▎       | 24/106 [00:00<00:01, 70.48it/s]"
     ]
    },
    {
     "name": "stdout",
     "output_type": "stream",
     "text": [
      "list index out of range\n",
      "list index out of range\n"
     ]
    },
    {
     "name": "stderr",
     "output_type": "stream",
     "text": [
      " 71%|███████   | 75/106 [00:00<00:00, 129.77it/s]"
     ]
    },
    {
     "name": "stdout",
     "output_type": "stream",
     "text": [
      "list index out of range\n",
      "list index out of range\n"
     ]
    },
    {
     "name": "stderr",
     "output_type": "stream",
     "text": [
      "100%|██████████| 106/106 [00:01<00:00, 83.44it/s]"
     ]
    },
    {
     "name": "stdout",
     "output_type": "stream",
     "text": [
      "list index out of range\n"
     ]
    },
    {
     "name": "stderr",
     "output_type": "stream",
     "text": [
      "\n"
     ]
    },
    {
     "name": "stdout",
     "output_type": "stream",
     "text": [
      "Today input data formatted\n",
      "Today feature processing done\n",
      "Pred goes up:  0.38 \n",
      " Pred perc change:  -0.00290136760471885 \n",
      "\n",
      "Predicting ---- 47\n"
     ]
    },
    {
     "name": "stderr",
     "output_type": "stream",
     "text": [
      " 23%|██▎       | 24/106 [00:00<00:01, 63.02it/s]"
     ]
    },
    {
     "name": "stdout",
     "output_type": "stream",
     "text": [
      "list index out of range\n",
      "list index out of range\n"
     ]
    },
    {
     "name": "stderr",
     "output_type": "stream",
     "text": [
      " 82%|████████▏ | 87/106 [00:00<00:00, 135.02it/s]"
     ]
    },
    {
     "name": "stdout",
     "output_type": "stream",
     "text": [
      "list index out of range\n",
      "list index out of range\n",
      "list index out of range\n"
     ]
    },
    {
     "name": "stderr",
     "output_type": "stream",
     "text": [
      "100%|██████████| 106/106 [00:01<00:00, 86.96it/s]\n"
     ]
    },
    {
     "name": "stdout",
     "output_type": "stream",
     "text": [
      "Today input data formatted\n",
      "Today feature processing done\n",
      "Pred goes up:  0.52 \n",
      " Pred perc change:  0.0060258655498069144 \n",
      "\n",
      "Predicting ---- 48\n"
     ]
    },
    {
     "name": "stderr",
     "output_type": "stream",
     "text": [
      " 23%|██▎       | 24/106 [00:00<00:01, 43.40it/s]"
     ]
    },
    {
     "name": "stdout",
     "output_type": "stream",
     "text": [
      "list index out of range\n",
      "list index out of range\n"
     ]
    },
    {
     "name": "stderr",
     "output_type": "stream",
     "text": [
      " 76%|███████▋  | 81/106 [00:00<00:00, 115.96it/s]"
     ]
    },
    {
     "name": "stdout",
     "output_type": "stream",
     "text": [
      "list index out of range\n",
      "list index out of range\n"
     ]
    },
    {
     "name": "stderr",
     "output_type": "stream",
     "text": [
      "100%|██████████| 106/106 [00:01<00:00, 72.84it/s]"
     ]
    },
    {
     "name": "stdout",
     "output_type": "stream",
     "text": [
      "list index out of range\n"
     ]
    },
    {
     "name": "stderr",
     "output_type": "stream",
     "text": [
      "\n"
     ]
    },
    {
     "name": "stdout",
     "output_type": "stream",
     "text": [
      "Today input data formatted\n",
      "Today feature processing done\n",
      "Pred goes up:  0.46 \n",
      " Pred perc change:  -0.009330456061840733 \n",
      "\n",
      "Predicting ---- 49\n"
     ]
    },
    {
     "name": "stderr",
     "output_type": "stream",
     "text": [
      " 23%|██▎       | 24/106 [00:00<00:01, 63.77it/s]"
     ]
    },
    {
     "name": "stdout",
     "output_type": "stream",
     "text": [
      "list index out of range\n",
      "list index out of range\n"
     ]
    },
    {
     "name": "stderr",
     "output_type": "stream",
     "text": [
      " 82%|████████▏ | 87/106 [00:00<00:00, 150.76it/s]"
     ]
    },
    {
     "name": "stdout",
     "output_type": "stream",
     "text": [
      "list index out of range\n",
      "list index out of range\n"
     ]
    },
    {
     "name": "stderr",
     "output_type": "stream",
     "text": [
      "100%|██████████| 106/106 [00:01<00:00, 105.02it/s]"
     ]
    },
    {
     "name": "stdout",
     "output_type": "stream",
     "text": [
      "list index out of range\n"
     ]
    },
    {
     "name": "stderr",
     "output_type": "stream",
     "text": [
      "\n"
     ]
    },
    {
     "name": "stdout",
     "output_type": "stream",
     "text": [
      "Today input data formatted\n",
      "Today feature processing done\n",
      "Pred goes up:  0.36 \n",
      " Pred perc change:  -0.00021663311347576496 \n",
      "\n",
      "Predicting ---- 50\n"
     ]
    },
    {
     "name": "stderr",
     "output_type": "stream",
     "text": [
      " 23%|██▎       | 24/106 [00:00<00:01, 61.92it/s]"
     ]
    },
    {
     "name": "stdout",
     "output_type": "stream",
     "text": [
      "list index out of range\n",
      "list index out of range\n"
     ]
    },
    {
     "name": "stderr",
     "output_type": "stream",
     "text": [
      " 82%|████████▏ | 87/106 [00:00<00:00, 105.28it/s]"
     ]
    },
    {
     "name": "stdout",
     "output_type": "stream",
     "text": [
      "list index out of range\n",
      "list index out of range\n"
     ]
    },
    {
     "name": "stderr",
     "output_type": "stream",
     "text": [
      "100%|██████████| 106/106 [00:01<00:00, 87.05it/s]"
     ]
    },
    {
     "name": "stdout",
     "output_type": "stream",
     "text": [
      "list index out of range\n"
     ]
    },
    {
     "name": "stderr",
     "output_type": "stream",
     "text": [
      "\n"
     ]
    },
    {
     "name": "stdout",
     "output_type": "stream",
     "text": [
      "Today input data formatted\n",
      "Today feature processing done\n",
      "Pred goes up:  0.5 \n",
      " Pred perc change:  -0.004403869043682418 \n",
      "\n",
      "Predicting ---- 51\n"
     ]
    },
    {
     "name": "stderr",
     "output_type": "stream",
     "text": [
      " 22%|██▏       | 23/106 [00:00<00:01, 59.74it/s]"
     ]
    },
    {
     "name": "stdout",
     "output_type": "stream",
     "text": [
      "list index out of range\n"
     ]
    },
    {
     "name": "stderr",
     "output_type": "stream",
     "text": [
      " 64%|██████▍   | 68/106 [00:00<00:00, 160.85it/s]"
     ]
    },
    {
     "name": "stdout",
     "output_type": "stream",
     "text": [
      "list index out of range\n"
     ]
    },
    {
     "name": "stderr",
     "output_type": "stream",
     "text": [
      " 82%|████████▏ | 87/106 [00:00<00:00, 130.94it/s]"
     ]
    },
    {
     "name": "stdout",
     "output_type": "stream",
     "text": [
      "list index out of range\n",
      "list index out of range\n"
     ]
    },
    {
     "name": "stderr",
     "output_type": "stream",
     "text": [
      " 97%|█████████▋| 103/106 [00:01<00:00, 96.24it/s]"
     ]
    },
    {
     "name": "stdout",
     "output_type": "stream",
     "text": [
      "list index out of range\n"
     ]
    },
    {
     "name": "stderr",
     "output_type": "stream",
     "text": [
      "100%|██████████| 106/106 [00:01<00:00, 87.04it/s]\n"
     ]
    },
    {
     "name": "stdout",
     "output_type": "stream",
     "text": [
      "Today input data formatted\n",
      "Today feature processing done\n",
      "Pred goes up:  0.42 \n",
      " Pred perc change:  -0.001755810696881288 \n",
      "\n",
      "Predicting ---- 52\n"
     ]
    },
    {
     "name": "stderr",
     "output_type": "stream",
     "text": [
      " 23%|██▎       | 24/106 [00:00<00:01, 52.85it/s]"
     ]
    },
    {
     "name": "stdout",
     "output_type": "stream",
     "text": [
      "list index out of range\n",
      "list index out of range\n"
     ]
    },
    {
     "name": "stderr",
     "output_type": "stream",
     "text": [
      " 81%|████████  | 86/106 [00:00<00:00, 126.85it/s]"
     ]
    },
    {
     "name": "stdout",
     "output_type": "stream",
     "text": [
      "list index out of range\n",
      "list index out of range\n"
     ]
    },
    {
     "name": "stderr",
     "output_type": "stream",
     "text": [
      "100%|██████████| 106/106 [00:01<00:00, 80.53it/s]"
     ]
    },
    {
     "name": "stdout",
     "output_type": "stream",
     "text": [
      "list index out of range\n"
     ]
    },
    {
     "name": "stderr",
     "output_type": "stream",
     "text": [
      "\n"
     ]
    },
    {
     "name": "stdout",
     "output_type": "stream",
     "text": [
      "Today input data formatted\n",
      "Today feature processing done\n",
      "Pred goes up:  0.39 \n",
      " Pred perc change:  -0.0037994157367432775 \n",
      "\n",
      "Predicting ---- 53\n"
     ]
    },
    {
     "name": "stderr",
     "output_type": "stream",
     "text": [
      " 23%|██▎       | 24/106 [00:00<00:01, 73.30it/s]"
     ]
    },
    {
     "name": "stdout",
     "output_type": "stream",
     "text": [
      "list index out of range\n",
      "list index out of range\n"
     ]
    },
    {
     "name": "stderr",
     "output_type": "stream",
     "text": [
      " 82%|████████▏ | 87/106 [00:00<00:00, 147.39it/s]"
     ]
    },
    {
     "name": "stdout",
     "output_type": "stream",
     "text": [
      "list index out of range\n",
      "list index out of range\n"
     ]
    },
    {
     "name": "stderr",
     "output_type": "stream",
     "text": [
      "100%|██████████| 106/106 [00:00<00:00, 112.32it/s]"
     ]
    },
    {
     "name": "stdout",
     "output_type": "stream",
     "text": [
      "list index out of range\n"
     ]
    },
    {
     "name": "stderr",
     "output_type": "stream",
     "text": [
      "\n"
     ]
    },
    {
     "name": "stdout",
     "output_type": "stream",
     "text": [
      "Today input data formatted\n",
      "Today feature processing done\n",
      "Pred goes up:  0.52 \n",
      " Pred perc change:  -0.00701632883733885 \n",
      "\n",
      "Predicting ---- 54\n"
     ]
    },
    {
     "name": "stderr",
     "output_type": "stream",
     "text": [
      " 23%|██▎       | 24/106 [00:00<00:01, 73.81it/s]"
     ]
    },
    {
     "name": "stdout",
     "output_type": "stream",
     "text": [
      "list index out of range\n",
      "list index out of range\n"
     ]
    },
    {
     "name": "stderr",
     "output_type": "stream",
     "text": [
      " 72%|███████▏  | 76/106 [00:00<00:00, 161.18it/s]"
     ]
    },
    {
     "name": "stdout",
     "output_type": "stream",
     "text": [
      "list index out of range\n"
     ]
    },
    {
     "name": "stderr",
     "output_type": "stream",
     "text": [
      "100%|██████████| 106/106 [00:01<00:00, 76.57it/s]"
     ]
    },
    {
     "name": "stdout",
     "output_type": "stream",
     "text": [
      "list index out of range\n",
      "list index out of range\n"
     ]
    },
    {
     "name": "stderr",
     "output_type": "stream",
     "text": [
      "\n"
     ]
    },
    {
     "name": "stdout",
     "output_type": "stream",
     "text": [
      "Today input data formatted\n",
      "Today feature processing done\n",
      "Pred goes up:  0.45 \n",
      " Pred perc change:  -0.012214588381138581 \n",
      "\n",
      "Predicting ---- 55\n"
     ]
    },
    {
     "name": "stderr",
     "output_type": "stream",
     "text": [
      " 23%|██▎       | 24/106 [00:00<00:01, 66.30it/s]"
     ]
    },
    {
     "name": "stdout",
     "output_type": "stream",
     "text": [
      "list index out of range\n",
      "list index out of range\n"
     ]
    },
    {
     "name": "stderr",
     "output_type": "stream",
     "text": [
      " 80%|████████  | 85/106 [00:00<00:00, 170.85it/s]"
     ]
    },
    {
     "name": "stdout",
     "output_type": "stream",
     "text": [
      "list index out of range\n",
      "list index out of range\n"
     ]
    },
    {
     "name": "stderr",
     "output_type": "stream",
     "text": [
      "100%|██████████| 106/106 [00:01<00:00, 95.25it/s]"
     ]
    },
    {
     "name": "stdout",
     "output_type": "stream",
     "text": [
      "list index out of range\n"
     ]
    },
    {
     "name": "stderr",
     "output_type": "stream",
     "text": [
      "\n"
     ]
    },
    {
     "name": "stdout",
     "output_type": "stream",
     "text": [
      "Today input data formatted\n",
      "Today feature processing done\n",
      "Pred goes up:  0.47 \n",
      " Pred perc change:  0.006504547991934616 \n",
      "\n",
      "Predicting ---- 56\n"
     ]
    },
    {
     "name": "stderr",
     "output_type": "stream",
     "text": [
      " 23%|██▎       | 24/106 [00:00<00:01, 58.56it/s]"
     ]
    },
    {
     "name": "stdout",
     "output_type": "stream",
     "text": [
      "list index out of range\n",
      "list index out of range\n"
     ]
    },
    {
     "name": "stderr",
     "output_type": "stream",
     "text": [
      " 70%|██████▉   | 74/106 [00:00<00:00, 121.14it/s]"
     ]
    },
    {
     "name": "stdout",
     "output_type": "stream",
     "text": [
      "list index out of range\n"
     ]
    },
    {
     "name": "stderr",
     "output_type": "stream",
     "text": [
      "100%|██████████| 106/106 [00:01<00:00, 83.46it/s]"
     ]
    },
    {
     "name": "stdout",
     "output_type": "stream",
     "text": [
      "list index out of range\n",
      "list index out of range\n"
     ]
    },
    {
     "name": "stderr",
     "output_type": "stream",
     "text": [
      "\n"
     ]
    },
    {
     "name": "stdout",
     "output_type": "stream",
     "text": [
      "Today input data formatted\n",
      "Today feature processing done\n",
      "Pred goes up:  0.44 \n",
      " Pred perc change:  0.0021234303088917615 \n",
      "\n",
      "Predicting ---- 57\n"
     ]
    },
    {
     "name": "stderr",
     "output_type": "stream",
     "text": [
      " 23%|██▎       | 24/106 [00:00<00:01, 65.19it/s]"
     ]
    },
    {
     "name": "stdout",
     "output_type": "stream",
     "text": [
      "list index out of range\n",
      "list index out of range\n"
     ]
    },
    {
     "name": "stderr",
     "output_type": "stream",
     "text": [
      " 75%|███████▌  | 80/106 [00:00<00:00, 132.33it/s]"
     ]
    },
    {
     "name": "stdout",
     "output_type": "stream",
     "text": [
      "list index out of range\n",
      "list index out of range\n"
     ]
    },
    {
     "name": "stderr",
     "output_type": "stream",
     "text": [
      "100%|██████████| 106/106 [00:01<00:00, 95.18it/s]"
     ]
    },
    {
     "name": "stdout",
     "output_type": "stream",
     "text": [
      "list index out of range\n"
     ]
    },
    {
     "name": "stderr",
     "output_type": "stream",
     "text": [
      "\n"
     ]
    },
    {
     "name": "stdout",
     "output_type": "stream",
     "text": [
      "Today input data formatted\n",
      "Today feature processing done\n",
      "Pred goes up:  0.49 \n",
      " Pred perc change:  0.006554050739493612 \n",
      "\n",
      "Predicting ---- 58\n"
     ]
    },
    {
     "name": "stderr",
     "output_type": "stream",
     "text": [
      " 23%|██▎       | 24/106 [00:00<00:01, 60.69it/s]"
     ]
    },
    {
     "name": "stdout",
     "output_type": "stream",
     "text": [
      "list index out of range\n",
      "list index out of range\n"
     ]
    },
    {
     "name": "stderr",
     "output_type": "stream",
     "text": [
      " 82%|████████▏ | 87/106 [00:00<00:00, 126.41it/s]"
     ]
    },
    {
     "name": "stdout",
     "output_type": "stream",
     "text": [
      "list index out of range\n",
      "list index out of range\n"
     ]
    },
    {
     "name": "stderr",
     "output_type": "stream",
     "text": [
      "100%|██████████| 106/106 [00:01<00:00, 95.99it/s]"
     ]
    },
    {
     "name": "stdout",
     "output_type": "stream",
     "text": [
      "list index out of range\n"
     ]
    },
    {
     "name": "stderr",
     "output_type": "stream",
     "text": [
      "\n"
     ]
    },
    {
     "name": "stdout",
     "output_type": "stream",
     "text": [
      "Today input data formatted\n",
      "Today feature processing done\n",
      "Pred goes up:  0.42 \n",
      " Pred perc change:  -0.0017985032185726668 \n",
      "\n",
      "Predicting ---- 59\n"
     ]
    },
    {
     "name": "stderr",
     "output_type": "stream",
     "text": [
      " 23%|██▎       | 24/106 [00:00<00:01, 64.79it/s]"
     ]
    },
    {
     "name": "stdout",
     "output_type": "stream",
     "text": [
      "list index out of range\n",
      "list index out of range\n"
     ]
    },
    {
     "name": "stderr",
     "output_type": "stream",
     "text": [
      " 67%|██████▋   | 71/106 [00:00<00:00, 153.38it/s]"
     ]
    },
    {
     "name": "stdout",
     "output_type": "stream",
     "text": [
      "list index out of range\n",
      "list index out of range\n"
     ]
    },
    {
     "name": "stderr",
     "output_type": "stream",
     "text": [
      "100%|██████████| 106/106 [00:01<00:00, 93.33it/s]"
     ]
    },
    {
     "name": "stdout",
     "output_type": "stream",
     "text": [
      "list index out of range\n"
     ]
    },
    {
     "name": "stderr",
     "output_type": "stream",
     "text": [
      "\n"
     ]
    },
    {
     "name": "stdout",
     "output_type": "stream",
     "text": [
      "Today input data formatted\n",
      "Today feature processing done\n",
      "Pred goes up:  0.44 \n",
      " Pred perc change:  0.012565139047988108 \n",
      "\n",
      "Predicting ---- 60\n"
     ]
    },
    {
     "name": "stderr",
     "output_type": "stream",
     "text": [
      " 25%|██▍       | 26/106 [00:00<00:01, 55.04it/s]"
     ]
    },
    {
     "name": "stdout",
     "output_type": "stream",
     "text": [
      "list index out of range\n",
      "list index out of range\n"
     ]
    },
    {
     "name": "stderr",
     "output_type": "stream",
     "text": [
      " 82%|████████▏ | 87/106 [00:00<00:00, 140.09it/s]"
     ]
    },
    {
     "name": "stdout",
     "output_type": "stream",
     "text": [
      "list index out of range\n",
      "list index out of range\n",
      "list index out of range\n"
     ]
    },
    {
     "name": "stderr",
     "output_type": "stream",
     "text": [
      "100%|██████████| 106/106 [00:01<00:00, 86.60it/s]\n"
     ]
    },
    {
     "name": "stdout",
     "output_type": "stream",
     "text": [
      "Today input data formatted\n",
      "Today feature processing done\n",
      "Pred goes up:  0.35 \n",
      " Pred perc change:  0.027993340391449566 \n",
      "\n",
      "Predicting ---- 61\n"
     ]
    },
    {
     "name": "stderr",
     "output_type": "stream",
     "text": [
      " 23%|██▎       | 24/106 [00:00<00:01, 55.67it/s]"
     ]
    },
    {
     "name": "stdout",
     "output_type": "stream",
     "text": [
      "list index out of range\n",
      "list index out of range\n"
     ]
    },
    {
     "name": "stderr",
     "output_type": "stream",
     "text": [
      " 82%|████████▏ | 87/106 [00:00<00:00, 133.89it/s]"
     ]
    },
    {
     "name": "stdout",
     "output_type": "stream",
     "text": [
      "list index out of range\n",
      "list index out of range\n"
     ]
    },
    {
     "name": "stderr",
     "output_type": "stream",
     "text": [
      "100%|██████████| 106/106 [00:01<00:00, 100.86it/s]"
     ]
    },
    {
     "name": "stdout",
     "output_type": "stream",
     "text": [
      "list index out of range\n"
     ]
    },
    {
     "name": "stderr",
     "output_type": "stream",
     "text": [
      "\n"
     ]
    },
    {
     "name": "stdout",
     "output_type": "stream",
     "text": [
      "Today input data formatted\n",
      "Today feature processing done\n",
      "Pred goes up:  0.43 \n",
      " Pred perc change:  0.009521355666644811 \n",
      "\n",
      "Predicting ---- 62\n"
     ]
    },
    {
     "name": "stderr",
     "output_type": "stream",
     "text": [
      " 23%|██▎       | 24/106 [00:00<00:01, 44.63it/s]"
     ]
    },
    {
     "name": "stdout",
     "output_type": "stream",
     "text": [
      "list index out of range\n",
      "list index out of range\n"
     ]
    },
    {
     "name": "stderr",
     "output_type": "stream",
     "text": [
      " 71%|███████   | 75/106 [00:00<00:00, 100.81it/s]"
     ]
    },
    {
     "name": "stdout",
     "output_type": "stream",
     "text": [
      "list index out of range\n",
      "list index out of range\n"
     ]
    },
    {
     "name": "stderr",
     "output_type": "stream",
     "text": [
      "100%|██████████| 106/106 [00:01<00:00, 74.52it/s]"
     ]
    },
    {
     "name": "stdout",
     "output_type": "stream",
     "text": [
      "list index out of range\n"
     ]
    },
    {
     "name": "stderr",
     "output_type": "stream",
     "text": [
      "\n"
     ]
    },
    {
     "name": "stdout",
     "output_type": "stream",
     "text": [
      "Today input data formatted\n",
      "Today feature processing done\n",
      "Pred goes up:  0.46 \n",
      " Pred perc change:  0.002541706230928896 \n",
      "\n",
      "Predicting ---- 63\n"
     ]
    },
    {
     "name": "stderr",
     "output_type": "stream",
     "text": [
      " 23%|██▎       | 24/106 [00:00<00:01, 69.66it/s]"
     ]
    },
    {
     "name": "stdout",
     "output_type": "stream",
     "text": [
      "list index out of range\n",
      "list index out of range\n"
     ]
    },
    {
     "name": "stderr",
     "output_type": "stream",
     "text": [
      " 79%|███████▉  | 84/106 [00:00<00:00, 139.04it/s]"
     ]
    },
    {
     "name": "stdout",
     "output_type": "stream",
     "text": [
      "list index out of range\n",
      "list index out of range\n"
     ]
    },
    {
     "name": "stderr",
     "output_type": "stream",
     "text": [
      "100%|██████████| 106/106 [00:01<00:00, 95.43it/s]"
     ]
    },
    {
     "name": "stdout",
     "output_type": "stream",
     "text": [
      "list index out of range\n"
     ]
    },
    {
     "name": "stderr",
     "output_type": "stream",
     "text": [
      "\n"
     ]
    },
    {
     "name": "stdout",
     "output_type": "stream",
     "text": [
      "Today input data formatted\n",
      "Today feature processing done\n",
      "Pred goes up:  0.33 \n",
      " Pred perc change:  0.010923304645325753 \n",
      "\n",
      "Predicting ---- 64\n"
     ]
    },
    {
     "name": "stderr",
     "output_type": "stream",
     "text": [
      " 23%|██▎       | 24/106 [00:00<00:01, 54.83it/s]"
     ]
    },
    {
     "name": "stdout",
     "output_type": "stream",
     "text": [
      "list index out of range\n",
      "list index out of range\n"
     ]
    },
    {
     "name": "stderr",
     "output_type": "stream",
     "text": [
      " 82%|████████▏ | 87/106 [00:00<00:00, 143.51it/s]"
     ]
    },
    {
     "name": "stdout",
     "output_type": "stream",
     "text": [
      "list index out of range\n",
      "list index out of range\n"
     ]
    },
    {
     "name": "stderr",
     "output_type": "stream",
     "text": [
      " 99%|█████████▉| 105/106 [00:01<00:00, 102.33it/s]"
     ]
    },
    {
     "name": "stdout",
     "output_type": "stream",
     "text": [
      "list index out of range\n"
     ]
    },
    {
     "name": "stderr",
     "output_type": "stream",
     "text": [
      "100%|██████████| 106/106 [00:01<00:00, 88.88it/s] \n"
     ]
    },
    {
     "name": "stdout",
     "output_type": "stream",
     "text": [
      "Today input data formatted\n",
      "Today feature processing done\n",
      "Pred goes up:  0.45 \n",
      " Pred perc change:  0.0032469546341144695 \n",
      "\n",
      "Predicting ---- 65\n"
     ]
    },
    {
     "name": "stderr",
     "output_type": "stream",
     "text": [
      " 23%|██▎       | 24/106 [00:00<00:01, 48.99it/s]"
     ]
    },
    {
     "name": "stdout",
     "output_type": "stream",
     "text": [
      "list index out of range\n",
      "list index out of range\n"
     ]
    },
    {
     "name": "stderr",
     "output_type": "stream",
     "text": [
      " 82%|████████▏ | 87/106 [00:00<00:00, 122.83it/s]"
     ]
    },
    {
     "name": "stdout",
     "output_type": "stream",
     "text": [
      "list index out of range\n",
      "list index out of range\n",
      "list index out of range\n"
     ]
    },
    {
     "name": "stderr",
     "output_type": "stream",
     "text": [
      "100%|██████████| 106/106 [00:01<00:00, 78.22it/s]\n"
     ]
    },
    {
     "name": "stdout",
     "output_type": "stream",
     "text": [
      "Today input data formatted\n",
      "Today feature processing done\n",
      "Pred goes up:  0.55 \n",
      " Pred perc change:  -0.0065508058208358045 \n",
      "\n"
     ]
    }
   ],
   "source": [
    "######### pred today\n",
    "pred_res = []\n",
    "for count,stock in enumerate(stock_codes_dict.items()):\n",
    "    print(f'Predicting ---- {count+1}')\n",
    "    ### building bot\n",
    "    bot = pickle.load(open(f'./Trained_bot/{stock[0]}.pkl', 'rb'))\n",
    "\n",
    "    ### pred today one model (one stock)\n",
    "    bot.predict_today(force=False)\n",
    "    pred_res.append({\n",
    "        'stock_id':bot.stock_id, \n",
    "        'stock_name':bot.stock_name,\n",
    "        'total_influencer_used':bot.today_influencer_count,\n",
    "        'pred_today_cls':bot.pred_today_cls,\n",
    "        'pred_today_reg':bot.pred_today_reg,\n",
    "        'f1':round(bot.cls_scores.loc['test_f1_score','mean'], 3),\n",
    "        'f1_std':round(bot.cls_scores.loc['test_f1_score','std'], 3),\n",
    "        'precision':round(bot.cls_scores.loc['test_precision','mean'], 3),\n",
    "        'precision_std':round(bot.cls_scores.loc['test_precision','std'], 3),\n",
    "        'recall':round(bot.cls_scores.loc['test_recall','mean'], 3),\n",
    "        'recall_std':round(bot.cls_scores.loc['test_recall','std'], 3),\n",
    "        'roc_auc':round(bot.cls_scores.loc['test_roc_auc','mean'], 3),\n",
    "        'roc_auc_std':round(bot.cls_scores.loc['test_roc_auc','std'], 3),\n",
    "        'r2_score':round(bot.reg_scores.loc['test_r2_score','mean'], 3),\n",
    "        'r2_score_std':round(bot.reg_scores.loc['test_r2_score','std'], 3),\n",
    "        'spearmanr':round(bot.reg_scores.loc['test_spearmanr','mean'], 3),\n",
    "        'spearmanr_std':round(bot.reg_scores.loc['test_spearmanr','std'], 3)\n",
    "    })\n",
    "\n",
    "    # print(bot.stock_id, bot.stock_name, bot.pred_today_cls, bot.pred_today_reg)\n",
    "pred_res = pd.DataFrame(pred_res).sort_values(by=['f1','pred_today_cls','pred_today_reg'],ascending=[False,False,False])\n",
    "\n",
    "    "
   ]
  },
  {
   "cell_type": "code",
   "execution_count": 51,
   "metadata": {},
   "outputs": [
    {
     "data": {
      "text/html": [
       "<div>\n",
       "<style scoped>\n",
       "    .dataframe tbody tr th:only-of-type {\n",
       "        vertical-align: middle;\n",
       "    }\n",
       "\n",
       "    .dataframe tbody tr th {\n",
       "        vertical-align: top;\n",
       "    }\n",
       "\n",
       "    .dataframe thead th {\n",
       "        text-align: right;\n",
       "    }\n",
       "</style>\n",
       "<table border=\"1\" class=\"dataframe\">\n",
       "  <thead>\n",
       "    <tr style=\"text-align: right;\">\n",
       "      <th></th>\n",
       "      <th>stock_id</th>\n",
       "      <th>stock_name</th>\n",
       "      <th>pred_today_cls</th>\n",
       "      <th>pred_today_reg</th>\n",
       "      <th>f1</th>\n",
       "      <th>f1_std</th>\n",
       "      <th>precision</th>\n",
       "      <th>precision_std</th>\n",
       "      <th>recall</th>\n",
       "      <th>recall_std</th>\n",
       "      <th>roc_auc</th>\n",
       "      <th>roc_auc_std</th>\n",
       "      <th>r2_score</th>\n",
       "      <th>r2_score_std</th>\n",
       "      <th>spearmanr</th>\n",
       "      <th>spearmanr_std</th>\n",
       "    </tr>\n",
       "  </thead>\n",
       "  <tbody>\n",
       "    <tr>\n",
       "      <th>16</th>\n",
       "      <td>sh512970</td>\n",
       "      <td>大湾区ETF</td>\n",
       "      <td>0.58</td>\n",
       "      <td>0.007818</td>\n",
       "      <td>0.623</td>\n",
       "      <td>0.138</td>\n",
       "      <td>0.557</td>\n",
       "      <td>0.140</td>\n",
       "      <td>0.739</td>\n",
       "      <td>0.168</td>\n",
       "      <td>0.501</td>\n",
       "      <td>0.149</td>\n",
       "      <td>-0.198</td>\n",
       "      <td>0.087</td>\n",
       "      <td>-0.163</td>\n",
       "      <td>0.212</td>\n",
       "    </tr>\n",
       "    <tr>\n",
       "      <th>15</th>\n",
       "      <td>sz159650</td>\n",
       "      <td>国开ETF</td>\n",
       "      <td>0.59</td>\n",
       "      <td>0.001208</td>\n",
       "      <td>0.620</td>\n",
       "      <td>0.118</td>\n",
       "      <td>0.550</td>\n",
       "      <td>0.136</td>\n",
       "      <td>0.743</td>\n",
       "      <td>0.171</td>\n",
       "      <td>0.437</td>\n",
       "      <td>0.115</td>\n",
       "      <td>-0.316</td>\n",
       "      <td>0.311</td>\n",
       "      <td>-0.052</td>\n",
       "      <td>0.395</td>\n",
       "    </tr>\n",
       "    <tr>\n",
       "      <th>22</th>\n",
       "      <td>sh515210</td>\n",
       "      <td>钢铁ETF</td>\n",
       "      <td>0.51</td>\n",
       "      <td>-0.021521</td>\n",
       "      <td>0.583</td>\n",
       "      <td>0.134</td>\n",
       "      <td>0.553</td>\n",
       "      <td>0.157</td>\n",
       "      <td>0.707</td>\n",
       "      <td>0.206</td>\n",
       "      <td>0.511</td>\n",
       "      <td>0.086</td>\n",
       "      <td>-0.134</td>\n",
       "      <td>0.186</td>\n",
       "      <td>-0.014</td>\n",
       "      <td>0.322</td>\n",
       "    </tr>\n",
       "    <tr>\n",
       "      <th>8</th>\n",
       "      <td>sh510370</td>\n",
       "      <td>300指数ETF</td>\n",
       "      <td>0.53</td>\n",
       "      <td>0.008374</td>\n",
       "      <td>0.533</td>\n",
       "      <td>0.173</td>\n",
       "      <td>0.506</td>\n",
       "      <td>0.158</td>\n",
       "      <td>0.594</td>\n",
       "      <td>0.237</td>\n",
       "      <td>0.502</td>\n",
       "      <td>0.184</td>\n",
       "      <td>-0.358</td>\n",
       "      <td>0.264</td>\n",
       "      <td>-0.047</td>\n",
       "      <td>0.288</td>\n",
       "    </tr>\n",
       "    <tr>\n",
       "      <th>46</th>\n",
       "      <td>sh515400</td>\n",
       "      <td>大数据ETF</td>\n",
       "      <td>0.52</td>\n",
       "      <td>0.006026</td>\n",
       "      <td>0.505</td>\n",
       "      <td>0.094</td>\n",
       "      <td>0.517</td>\n",
       "      <td>0.102</td>\n",
       "      <td>0.541</td>\n",
       "      <td>0.155</td>\n",
       "      <td>0.492</td>\n",
       "      <td>0.061</td>\n",
       "      <td>-0.291</td>\n",
       "      <td>0.263</td>\n",
       "      <td>-0.139</td>\n",
       "      <td>0.253</td>\n",
       "    </tr>\n",
       "  </tbody>\n",
       "</table>\n",
       "</div>"
      ],
      "text/plain": [
       "    stock_id stock_name  pred_today_cls  pred_today_reg     f1  f1_std  \\\n",
       "16  sh512970     大湾区ETF            0.58        0.007818  0.623   0.138   \n",
       "15  sz159650      国开ETF            0.59        0.001208  0.620   0.118   \n",
       "22  sh515210      钢铁ETF            0.51       -0.021521  0.583   0.134   \n",
       "8   sh510370   300指数ETF            0.53        0.008374  0.533   0.173   \n",
       "46  sh515400     大数据ETF            0.52        0.006026  0.505   0.094   \n",
       "\n",
       "    precision  precision_std  recall  recall_std  roc_auc  roc_auc_std  \\\n",
       "16      0.557          0.140   0.739       0.168    0.501        0.149   \n",
       "15      0.550          0.136   0.743       0.171    0.437        0.115   \n",
       "22      0.553          0.157   0.707       0.206    0.511        0.086   \n",
       "8       0.506          0.158   0.594       0.237    0.502        0.184   \n",
       "46      0.517          0.102   0.541       0.155    0.492        0.061   \n",
       "\n",
       "    r2_score  r2_score_std  spearmanr  spearmanr_std  \n",
       "16    -0.198         0.087     -0.163          0.212  \n",
       "15    -0.316         0.311     -0.052          0.395  \n",
       "22    -0.134         0.186     -0.014          0.322  \n",
       "8     -0.358         0.264     -0.047          0.288  \n",
       "46    -0.291         0.263     -0.139          0.253  "
      ]
     },
     "execution_count": 51,
     "metadata": {},
     "output_type": "execute_result"
    }
   ],
   "source": [
    "### select top 5 to by\n",
    "pred_res[(pred_res.pred_today_cls>0.5) & (pred_res.f1>0.5) & (pred_res.precision>0.5)]"
   ]
  },
  {
   "cell_type": "code",
   "execution_count": 49,
   "metadata": {},
   "outputs": [
    {
     "data": {
      "text/html": [
       "<div>\n",
       "<style scoped>\n",
       "    .dataframe tbody tr th:only-of-type {\n",
       "        vertical-align: middle;\n",
       "    }\n",
       "\n",
       "    .dataframe tbody tr th {\n",
       "        vertical-align: top;\n",
       "    }\n",
       "\n",
       "    .dataframe thead th {\n",
       "        text-align: right;\n",
       "    }\n",
       "</style>\n",
       "<table border=\"1\" class=\"dataframe\">\n",
       "  <thead>\n",
       "    <tr style=\"text-align: right;\">\n",
       "      <th></th>\n",
       "      <th>stock_id</th>\n",
       "      <th>stock_name</th>\n",
       "      <th>pred_today_cls</th>\n",
       "      <th>pred_today_reg</th>\n",
       "      <th>f1</th>\n",
       "      <th>f1_std</th>\n",
       "      <th>precision</th>\n",
       "      <th>precision_std</th>\n",
       "      <th>recall</th>\n",
       "      <th>recall_std</th>\n",
       "      <th>roc_auc</th>\n",
       "      <th>roc_auc_std</th>\n",
       "      <th>r2_score</th>\n",
       "      <th>r2_score_std</th>\n",
       "      <th>spearmanr</th>\n",
       "      <th>spearmanr_std</th>\n",
       "    </tr>\n",
       "  </thead>\n",
       "  <tbody>\n",
       "    <tr>\n",
       "      <th>40</th>\n",
       "      <td>sh515220</td>\n",
       "      <td>煤炭ETF</td>\n",
       "      <td>0.47</td>\n",
       "      <td>-0.008004</td>\n",
       "      <td>0.664</td>\n",
       "      <td>0.112</td>\n",
       "      <td>0.614</td>\n",
       "      <td>0.150</td>\n",
       "      <td>0.762</td>\n",
       "      <td>0.146</td>\n",
       "      <td>0.568</td>\n",
       "      <td>0.114</td>\n",
       "      <td>-0.187</td>\n",
       "      <td>0.167</td>\n",
       "      <td>0.114</td>\n",
       "      <td>0.250</td>\n",
       "    </tr>\n",
       "    <tr>\n",
       "      <th>16</th>\n",
       "      <td>sh512970</td>\n",
       "      <td>大湾区ETF</td>\n",
       "      <td>0.58</td>\n",
       "      <td>0.007818</td>\n",
       "      <td>0.623</td>\n",
       "      <td>0.138</td>\n",
       "      <td>0.557</td>\n",
       "      <td>0.140</td>\n",
       "      <td>0.739</td>\n",
       "      <td>0.168</td>\n",
       "      <td>0.501</td>\n",
       "      <td>0.149</td>\n",
       "      <td>-0.198</td>\n",
       "      <td>0.087</td>\n",
       "      <td>-0.163</td>\n",
       "      <td>0.212</td>\n",
       "    </tr>\n",
       "    <tr>\n",
       "      <th>15</th>\n",
       "      <td>sz159650</td>\n",
       "      <td>国开ETF</td>\n",
       "      <td>0.59</td>\n",
       "      <td>0.001208</td>\n",
       "      <td>0.620</td>\n",
       "      <td>0.118</td>\n",
       "      <td>0.550</td>\n",
       "      <td>0.136</td>\n",
       "      <td>0.743</td>\n",
       "      <td>0.171</td>\n",
       "      <td>0.437</td>\n",
       "      <td>0.115</td>\n",
       "      <td>-0.316</td>\n",
       "      <td>0.311</td>\n",
       "      <td>-0.052</td>\n",
       "      <td>0.395</td>\n",
       "    </tr>\n",
       "    <tr>\n",
       "      <th>26</th>\n",
       "      <td>sh515230</td>\n",
       "      <td>软件ETF</td>\n",
       "      <td>0.41</td>\n",
       "      <td>0.006173</td>\n",
       "      <td>0.588</td>\n",
       "      <td>0.098</td>\n",
       "      <td>0.556</td>\n",
       "      <td>0.169</td>\n",
       "      <td>0.742</td>\n",
       "      <td>0.211</td>\n",
       "      <td>0.539</td>\n",
       "      <td>0.108</td>\n",
       "      <td>-0.230</td>\n",
       "      <td>0.331</td>\n",
       "      <td>0.124</td>\n",
       "      <td>0.274</td>\n",
       "    </tr>\n",
       "    <tr>\n",
       "      <th>22</th>\n",
       "      <td>sh515210</td>\n",
       "      <td>钢铁ETF</td>\n",
       "      <td>0.51</td>\n",
       "      <td>-0.021521</td>\n",
       "      <td>0.583</td>\n",
       "      <td>0.134</td>\n",
       "      <td>0.553</td>\n",
       "      <td>0.157</td>\n",
       "      <td>0.707</td>\n",
       "      <td>0.206</td>\n",
       "      <td>0.511</td>\n",
       "      <td>0.086</td>\n",
       "      <td>-0.134</td>\n",
       "      <td>0.186</td>\n",
       "      <td>-0.014</td>\n",
       "      <td>0.322</td>\n",
       "    </tr>\n",
       "    <tr>\n",
       "      <th>8</th>\n",
       "      <td>sh510370</td>\n",
       "      <td>300指数ETF</td>\n",
       "      <td>0.53</td>\n",
       "      <td>0.008374</td>\n",
       "      <td>0.533</td>\n",
       "      <td>0.173</td>\n",
       "      <td>0.506</td>\n",
       "      <td>0.158</td>\n",
       "      <td>0.594</td>\n",
       "      <td>0.237</td>\n",
       "      <td>0.502</td>\n",
       "      <td>0.184</td>\n",
       "      <td>-0.358</td>\n",
       "      <td>0.264</td>\n",
       "      <td>-0.047</td>\n",
       "      <td>0.288</td>\n",
       "    </tr>\n",
       "    <tr>\n",
       "      <th>27</th>\n",
       "      <td>sh512980</td>\n",
       "      <td>传媒ETF</td>\n",
       "      <td>0.43</td>\n",
       "      <td>-0.001811</td>\n",
       "      <td>0.525</td>\n",
       "      <td>0.183</td>\n",
       "      <td>0.476</td>\n",
       "      <td>0.165</td>\n",
       "      <td>0.597</td>\n",
       "      <td>0.224</td>\n",
       "      <td>0.462</td>\n",
       "      <td>0.121</td>\n",
       "      <td>-0.161</td>\n",
       "      <td>0.152</td>\n",
       "      <td>-0.041</td>\n",
       "      <td>0.252</td>\n",
       "    </tr>\n",
       "    <tr>\n",
       "      <th>29</th>\n",
       "      <td>sz159840</td>\n",
       "      <td>锂电池ETF</td>\n",
       "      <td>0.44</td>\n",
       "      <td>-0.002574</td>\n",
       "      <td>0.520</td>\n",
       "      <td>0.168</td>\n",
       "      <td>0.511</td>\n",
       "      <td>0.168</td>\n",
       "      <td>0.540</td>\n",
       "      <td>0.189</td>\n",
       "      <td>0.513</td>\n",
       "      <td>0.127</td>\n",
       "      <td>-0.253</td>\n",
       "      <td>0.166</td>\n",
       "      <td>-0.201</td>\n",
       "      <td>0.199</td>\n",
       "    </tr>\n",
       "    <tr>\n",
       "      <th>19</th>\n",
       "      <td>sz159998</td>\n",
       "      <td>计算机ETF</td>\n",
       "      <td>0.47</td>\n",
       "      <td>0.008712</td>\n",
       "      <td>0.513</td>\n",
       "      <td>0.150</td>\n",
       "      <td>0.549</td>\n",
       "      <td>0.150</td>\n",
       "      <td>0.501</td>\n",
       "      <td>0.180</td>\n",
       "      <td>0.541</td>\n",
       "      <td>0.131</td>\n",
       "      <td>-0.307</td>\n",
       "      <td>0.281</td>\n",
       "      <td>-0.173</td>\n",
       "      <td>0.288</td>\n",
       "    </tr>\n",
       "    <tr>\n",
       "      <th>46</th>\n",
       "      <td>sh515400</td>\n",
       "      <td>大数据ETF</td>\n",
       "      <td>0.52</td>\n",
       "      <td>0.006026</td>\n",
       "      <td>0.505</td>\n",
       "      <td>0.094</td>\n",
       "      <td>0.517</td>\n",
       "      <td>0.102</td>\n",
       "      <td>0.541</td>\n",
       "      <td>0.155</td>\n",
       "      <td>0.492</td>\n",
       "      <td>0.061</td>\n",
       "      <td>-0.291</td>\n",
       "      <td>0.263</td>\n",
       "      <td>-0.139</td>\n",
       "      <td>0.253</td>\n",
       "    </tr>\n",
       "    <tr>\n",
       "      <th>0</th>\n",
       "      <td>sh000001</td>\n",
       "      <td>上证指数</td>\n",
       "      <td>0.47</td>\n",
       "      <td>0.001393</td>\n",
       "      <td>0.504</td>\n",
       "      <td>0.151</td>\n",
       "      <td>0.589</td>\n",
       "      <td>0.220</td>\n",
       "      <td>0.511</td>\n",
       "      <td>0.214</td>\n",
       "      <td>0.547</td>\n",
       "      <td>0.145</td>\n",
       "      <td>-0.138</td>\n",
       "      <td>0.127</td>\n",
       "      <td>0.008</td>\n",
       "      <td>0.287</td>\n",
       "    </tr>\n",
       "    <tr>\n",
       "      <th>30</th>\n",
       "      <td>sh512200</td>\n",
       "      <td>房地产ETF</td>\n",
       "      <td>0.46</td>\n",
       "      <td>0.015923</td>\n",
       "      <td>0.490</td>\n",
       "      <td>0.112</td>\n",
       "      <td>0.516</td>\n",
       "      <td>0.162</td>\n",
       "      <td>0.495</td>\n",
       "      <td>0.119</td>\n",
       "      <td>0.501</td>\n",
       "      <td>0.103</td>\n",
       "      <td>-0.151</td>\n",
       "      <td>0.160</td>\n",
       "      <td>0.038</td>\n",
       "      <td>0.181</td>\n",
       "    </tr>\n",
       "    <tr>\n",
       "      <th>35</th>\n",
       "      <td>sh515880</td>\n",
       "      <td>通讯ETF</td>\n",
       "      <td>0.50</td>\n",
       "      <td>-0.004746</td>\n",
       "      <td>0.480</td>\n",
       "      <td>0.042</td>\n",
       "      <td>0.497</td>\n",
       "      <td>0.100</td>\n",
       "      <td>0.511</td>\n",
       "      <td>0.174</td>\n",
       "      <td>0.487</td>\n",
       "      <td>0.099</td>\n",
       "      <td>-0.174</td>\n",
       "      <td>0.136</td>\n",
       "      <td>-0.009</td>\n",
       "      <td>0.202</td>\n",
       "    </tr>\n",
       "    <tr>\n",
       "      <th>5</th>\n",
       "      <td>sh000905</td>\n",
       "      <td>中证500</td>\n",
       "      <td>0.47</td>\n",
       "      <td>-0.004842</td>\n",
       "      <td>0.479</td>\n",
       "      <td>0.066</td>\n",
       "      <td>0.466</td>\n",
       "      <td>0.099</td>\n",
       "      <td>0.511</td>\n",
       "      <td>0.074</td>\n",
       "      <td>0.422</td>\n",
       "      <td>0.058</td>\n",
       "      <td>-0.187</td>\n",
       "      <td>0.240</td>\n",
       "      <td>0.018</td>\n",
       "      <td>0.283</td>\n",
       "    </tr>\n",
       "    <tr>\n",
       "      <th>23</th>\n",
       "      <td>sz159825</td>\n",
       "      <td>农业ETF</td>\n",
       "      <td>0.50</td>\n",
       "      <td>-0.011643</td>\n",
       "      <td>0.477</td>\n",
       "      <td>0.175</td>\n",
       "      <td>0.546</td>\n",
       "      <td>0.197</td>\n",
       "      <td>0.502</td>\n",
       "      <td>0.247</td>\n",
       "      <td>0.572</td>\n",
       "      <td>0.172</td>\n",
       "      <td>-0.059</td>\n",
       "      <td>0.228</td>\n",
       "      <td>0.245</td>\n",
       "      <td>0.304</td>\n",
       "    </tr>\n",
       "    <tr>\n",
       "      <th>64</th>\n",
       "      <td>sh588000</td>\n",
       "      <td>科创50ETF</td>\n",
       "      <td>0.55</td>\n",
       "      <td>-0.006551</td>\n",
       "      <td>0.476</td>\n",
       "      <td>0.165</td>\n",
       "      <td>0.592</td>\n",
       "      <td>0.210</td>\n",
       "      <td>0.451</td>\n",
       "      <td>0.192</td>\n",
       "      <td>0.602</td>\n",
       "      <td>0.114</td>\n",
       "      <td>-0.137</td>\n",
       "      <td>0.202</td>\n",
       "      <td>0.004</td>\n",
       "      <td>0.284</td>\n",
       "    </tr>\n",
       "    <tr>\n",
       "      <th>32</th>\n",
       "      <td>sz159766</td>\n",
       "      <td>旅游ETF</td>\n",
       "      <td>0.59</td>\n",
       "      <td>0.013322</td>\n",
       "      <td>0.474</td>\n",
       "      <td>0.176</td>\n",
       "      <td>0.480</td>\n",
       "      <td>0.169</td>\n",
       "      <td>0.537</td>\n",
       "      <td>0.249</td>\n",
       "      <td>0.473</td>\n",
       "      <td>0.109</td>\n",
       "      <td>-0.260</td>\n",
       "      <td>0.211</td>\n",
       "      <td>-0.031</td>\n",
       "      <td>0.222</td>\n",
       "    </tr>\n",
       "    <tr>\n",
       "      <th>25</th>\n",
       "      <td>sz159865</td>\n",
       "      <td>养殖ETF</td>\n",
       "      <td>0.41</td>\n",
       "      <td>-0.007980</td>\n",
       "      <td>0.462</td>\n",
       "      <td>0.219</td>\n",
       "      <td>0.469</td>\n",
       "      <td>0.161</td>\n",
       "      <td>0.531</td>\n",
       "      <td>0.307</td>\n",
       "      <td>0.523</td>\n",
       "      <td>0.137</td>\n",
       "      <td>-0.113</td>\n",
       "      <td>0.205</td>\n",
       "      <td>0.117</td>\n",
       "      <td>0.331</td>\n",
       "    </tr>\n",
       "    <tr>\n",
       "      <th>17</th>\n",
       "      <td>sh588090</td>\n",
       "      <td>科创板ETF</td>\n",
       "      <td>0.44</td>\n",
       "      <td>-0.005563</td>\n",
       "      <td>0.450</td>\n",
       "      <td>0.149</td>\n",
       "      <td>0.528</td>\n",
       "      <td>0.227</td>\n",
       "      <td>0.426</td>\n",
       "      <td>0.171</td>\n",
       "      <td>0.511</td>\n",
       "      <td>0.135</td>\n",
       "      <td>-0.139</td>\n",
       "      <td>0.156</td>\n",
       "      <td>-0.048</td>\n",
       "      <td>0.184</td>\n",
       "    </tr>\n",
       "    <tr>\n",
       "      <th>10</th>\n",
       "      <td>sh510760</td>\n",
       "      <td>上证综指ETF</td>\n",
       "      <td>0.49</td>\n",
       "      <td>-0.001074</td>\n",
       "      <td>0.444</td>\n",
       "      <td>0.149</td>\n",
       "      <td>0.536</td>\n",
       "      <td>0.234</td>\n",
       "      <td>0.402</td>\n",
       "      <td>0.137</td>\n",
       "      <td>0.525</td>\n",
       "      <td>0.119</td>\n",
       "      <td>-0.195</td>\n",
       "      <td>0.134</td>\n",
       "      <td>-0.064</td>\n",
       "      <td>0.264</td>\n",
       "    </tr>\n",
       "    <tr>\n",
       "      <th>44</th>\n",
       "      <td>sh512800</td>\n",
       "      <td>银行ETF</td>\n",
       "      <td>0.54</td>\n",
       "      <td>0.008427</td>\n",
       "      <td>0.438</td>\n",
       "      <td>0.111</td>\n",
       "      <td>0.470</td>\n",
       "      <td>0.174</td>\n",
       "      <td>0.444</td>\n",
       "      <td>0.132</td>\n",
       "      <td>0.437</td>\n",
       "      <td>0.128</td>\n",
       "      <td>-0.270</td>\n",
       "      <td>0.236</td>\n",
       "      <td>-0.142</td>\n",
       "      <td>0.211</td>\n",
       "    </tr>\n",
       "    <tr>\n",
       "      <th>7</th>\n",
       "      <td>sh512510</td>\n",
       "      <td>中证500指数ETF</td>\n",
       "      <td>0.54</td>\n",
       "      <td>0.005156</td>\n",
       "      <td>0.427</td>\n",
       "      <td>0.121</td>\n",
       "      <td>0.457</td>\n",
       "      <td>0.188</td>\n",
       "      <td>0.463</td>\n",
       "      <td>0.190</td>\n",
       "      <td>0.427</td>\n",
       "      <td>0.137</td>\n",
       "      <td>-0.264</td>\n",
       "      <td>0.214</td>\n",
       "      <td>-0.208</td>\n",
       "      <td>0.279</td>\n",
       "    </tr>\n",
       "    <tr>\n",
       "      <th>3</th>\n",
       "      <td>sh000688</td>\n",
       "      <td>科创50</td>\n",
       "      <td>0.49</td>\n",
       "      <td>-0.004310</td>\n",
       "      <td>0.403</td>\n",
       "      <td>0.122</td>\n",
       "      <td>0.482</td>\n",
       "      <td>0.223</td>\n",
       "      <td>0.394</td>\n",
       "      <td>0.167</td>\n",
       "      <td>0.475</td>\n",
       "      <td>0.099</td>\n",
       "      <td>-0.138</td>\n",
       "      <td>0.241</td>\n",
       "      <td>0.021</td>\n",
       "      <td>0.287</td>\n",
       "    </tr>\n",
       "    <tr>\n",
       "      <th>37</th>\n",
       "      <td>sz159992</td>\n",
       "      <td>创新药ETF</td>\n",
       "      <td>0.46</td>\n",
       "      <td>0.028133</td>\n",
       "      <td>0.402</td>\n",
       "      <td>0.114</td>\n",
       "      <td>0.525</td>\n",
       "      <td>0.211</td>\n",
       "      <td>0.386</td>\n",
       "      <td>0.158</td>\n",
       "      <td>0.525</td>\n",
       "      <td>0.122</td>\n",
       "      <td>-0.162</td>\n",
       "      <td>0.233</td>\n",
       "      <td>0.024</td>\n",
       "      <td>0.253</td>\n",
       "    </tr>\n",
       "    <tr>\n",
       "      <th>52</th>\n",
       "      <td>sh512660</td>\n",
       "      <td>军工ETF</td>\n",
       "      <td>0.52</td>\n",
       "      <td>-0.007016</td>\n",
       "      <td>0.399</td>\n",
       "      <td>0.109</td>\n",
       "      <td>0.417</td>\n",
       "      <td>0.124</td>\n",
       "      <td>0.397</td>\n",
       "      <td>0.110</td>\n",
       "      <td>0.416</td>\n",
       "      <td>0.095</td>\n",
       "      <td>-0.128</td>\n",
       "      <td>0.152</td>\n",
       "      <td>-0.090</td>\n",
       "      <td>0.324</td>\n",
       "    </tr>\n",
       "    <tr>\n",
       "      <th>34</th>\n",
       "      <td>sh512400</td>\n",
       "      <td>有色金属ETF</td>\n",
       "      <td>0.44</td>\n",
       "      <td>-0.001962</td>\n",
       "      <td>0.399</td>\n",
       "      <td>0.197</td>\n",
       "      <td>0.474</td>\n",
       "      <td>0.284</td>\n",
       "      <td>0.403</td>\n",
       "      <td>0.248</td>\n",
       "      <td>0.508</td>\n",
       "      <td>0.132</td>\n",
       "      <td>-0.181</td>\n",
       "      <td>0.174</td>\n",
       "      <td>-0.080</td>\n",
       "      <td>0.296</td>\n",
       "    </tr>\n",
       "    <tr>\n",
       "      <th>50</th>\n",
       "      <td>sh518880</td>\n",
       "      <td>黄金ETF</td>\n",
       "      <td>0.42</td>\n",
       "      <td>-0.001756</td>\n",
       "      <td>0.397</td>\n",
       "      <td>0.135</td>\n",
       "      <td>0.477</td>\n",
       "      <td>0.254</td>\n",
       "      <td>0.380</td>\n",
       "      <td>0.110</td>\n",
       "      <td>0.438</td>\n",
       "      <td>0.140</td>\n",
       "      <td>-0.196</td>\n",
       "      <td>0.334</td>\n",
       "      <td>0.108</td>\n",
       "      <td>0.272</td>\n",
       "    </tr>\n",
       "    <tr>\n",
       "      <th>6</th>\n",
       "      <td>bj899050</td>\n",
       "      <td>北证50</td>\n",
       "      <td>0.43</td>\n",
       "      <td>-0.006593</td>\n",
       "      <td>0.395</td>\n",
       "      <td>0.203</td>\n",
       "      <td>0.537</td>\n",
       "      <td>0.285</td>\n",
       "      <td>0.347</td>\n",
       "      <td>0.186</td>\n",
       "      <td>0.548</td>\n",
       "      <td>0.123</td>\n",
       "      <td>-0.466</td>\n",
       "      <td>0.465</td>\n",
       "      <td>0.046</td>\n",
       "      <td>0.152</td>\n",
       "    </tr>\n",
       "    <tr>\n",
       "      <th>33</th>\n",
       "      <td>sz159934</td>\n",
       "      <td>黄金ETF</td>\n",
       "      <td>0.49</td>\n",
       "      <td>-0.001761</td>\n",
       "      <td>0.386</td>\n",
       "      <td>0.124</td>\n",
       "      <td>0.572</td>\n",
       "      <td>0.215</td>\n",
       "      <td>0.367</td>\n",
       "      <td>0.236</td>\n",
       "      <td>0.565</td>\n",
       "      <td>0.107</td>\n",
       "      <td>-0.032</td>\n",
       "      <td>0.158</td>\n",
       "      <td>0.096</td>\n",
       "      <td>0.243</td>\n",
       "    </tr>\n",
       "    <tr>\n",
       "      <th>18</th>\n",
       "      <td>sz159869</td>\n",
       "      <td>游戏ETF</td>\n",
       "      <td>0.36</td>\n",
       "      <td>0.000265</td>\n",
       "      <td>0.381</td>\n",
       "      <td>0.209</td>\n",
       "      <td>0.475</td>\n",
       "      <td>0.283</td>\n",
       "      <td>0.390</td>\n",
       "      <td>0.269</td>\n",
       "      <td>0.481</td>\n",
       "      <td>0.144</td>\n",
       "      <td>-0.191</td>\n",
       "      <td>0.151</td>\n",
       "      <td>-0.052</td>\n",
       "      <td>0.192</td>\n",
       "    </tr>\n",
       "    <tr>\n",
       "      <th>55</th>\n",
       "      <td>sh512880</td>\n",
       "      <td>证券ETF</td>\n",
       "      <td>0.44</td>\n",
       "      <td>0.002123</td>\n",
       "      <td>0.372</td>\n",
       "      <td>0.149</td>\n",
       "      <td>0.446</td>\n",
       "      <td>0.243</td>\n",
       "      <td>0.412</td>\n",
       "      <td>0.270</td>\n",
       "      <td>0.487</td>\n",
       "      <td>0.113</td>\n",
       "      <td>-0.338</td>\n",
       "      <td>0.279</td>\n",
       "      <td>-0.193</td>\n",
       "      <td>0.236</td>\n",
       "    </tr>\n",
       "    <tr>\n",
       "      <th>31</th>\n",
       "      <td>sh516970</td>\n",
       "      <td>基建50ETF</td>\n",
       "      <td>0.43</td>\n",
       "      <td>-0.002223</td>\n",
       "      <td>0.371</td>\n",
       "      <td>0.167</td>\n",
       "      <td>0.462</td>\n",
       "      <td>0.263</td>\n",
       "      <td>0.341</td>\n",
       "      <td>0.151</td>\n",
       "      <td>0.454</td>\n",
       "      <td>0.174</td>\n",
       "      <td>-0.160</td>\n",
       "      <td>0.109</td>\n",
       "      <td>-0.105</td>\n",
       "      <td>0.172</td>\n",
       "    </tr>\n",
       "    <tr>\n",
       "      <th>56</th>\n",
       "      <td>sh512690</td>\n",
       "      <td>酒ETF</td>\n",
       "      <td>0.49</td>\n",
       "      <td>0.006554</td>\n",
       "      <td>0.365</td>\n",
       "      <td>0.291</td>\n",
       "      <td>0.529</td>\n",
       "      <td>0.382</td>\n",
       "      <td>0.346</td>\n",
       "      <td>0.320</td>\n",
       "      <td>0.551</td>\n",
       "      <td>0.172</td>\n",
       "      <td>-0.261</td>\n",
       "      <td>0.235</td>\n",
       "      <td>0.060</td>\n",
       "      <td>0.233</td>\n",
       "    </tr>\n",
       "    <tr>\n",
       "      <th>54</th>\n",
       "      <td>sz159658</td>\n",
       "      <td>数字经济ETF</td>\n",
       "      <td>0.47</td>\n",
       "      <td>0.006505</td>\n",
       "      <td>0.361</td>\n",
       "      <td>0.183</td>\n",
       "      <td>0.383</td>\n",
       "      <td>0.202</td>\n",
       "      <td>0.415</td>\n",
       "      <td>0.286</td>\n",
       "      <td>0.473</td>\n",
       "      <td>0.132</td>\n",
       "      <td>-0.232</td>\n",
       "      <td>0.286</td>\n",
       "      <td>-0.036</td>\n",
       "      <td>0.435</td>\n",
       "    </tr>\n",
       "    <tr>\n",
       "      <th>49</th>\n",
       "      <td>sh512760</td>\n",
       "      <td>芯片ETF</td>\n",
       "      <td>0.50</td>\n",
       "      <td>-0.004404</td>\n",
       "      <td>0.357</td>\n",
       "      <td>0.096</td>\n",
       "      <td>0.406</td>\n",
       "      <td>0.111</td>\n",
       "      <td>0.362</td>\n",
       "      <td>0.173</td>\n",
       "      <td>0.438</td>\n",
       "      <td>0.079</td>\n",
       "      <td>-0.243</td>\n",
       "      <td>0.281</td>\n",
       "      <td>-0.137</td>\n",
       "      <td>0.253</td>\n",
       "    </tr>\n",
       "    <tr>\n",
       "      <th>58</th>\n",
       "      <td>sh510050</td>\n",
       "      <td>上证50ETF</td>\n",
       "      <td>0.44</td>\n",
       "      <td>0.012565</td>\n",
       "      <td>0.351</td>\n",
       "      <td>0.105</td>\n",
       "      <td>0.479</td>\n",
       "      <td>0.287</td>\n",
       "      <td>0.361</td>\n",
       "      <td>0.228</td>\n",
       "      <td>0.508</td>\n",
       "      <td>0.127</td>\n",
       "      <td>-0.429</td>\n",
       "      <td>0.480</td>\n",
       "      <td>-0.246</td>\n",
       "      <td>0.251</td>\n",
       "    </tr>\n",
       "    <tr>\n",
       "      <th>36</th>\n",
       "      <td>sh516110</td>\n",
       "      <td>汽车ETF</td>\n",
       "      <td>0.38</td>\n",
       "      <td>-0.000678</td>\n",
       "      <td>0.345</td>\n",
       "      <td>0.117</td>\n",
       "      <td>0.449</td>\n",
       "      <td>0.237</td>\n",
       "      <td>0.313</td>\n",
       "      <td>0.119</td>\n",
       "      <td>0.457</td>\n",
       "      <td>0.101</td>\n",
       "      <td>-0.332</td>\n",
       "      <td>0.252</td>\n",
       "      <td>-0.171</td>\n",
       "      <td>0.226</td>\n",
       "    </tr>\n",
       "    <tr>\n",
       "      <th>20</th>\n",
       "      <td>sh516510</td>\n",
       "      <td>云计算ETF</td>\n",
       "      <td>0.45</td>\n",
       "      <td>0.007630</td>\n",
       "      <td>0.343</td>\n",
       "      <td>0.230</td>\n",
       "      <td>0.433</td>\n",
       "      <td>0.274</td>\n",
       "      <td>0.300</td>\n",
       "      <td>0.210</td>\n",
       "      <td>0.498</td>\n",
       "      <td>0.163</td>\n",
       "      <td>-0.245</td>\n",
       "      <td>0.189</td>\n",
       "      <td>-0.072</td>\n",
       "      <td>0.280</td>\n",
       "    </tr>\n",
       "    <tr>\n",
       "      <th>63</th>\n",
       "      <td>sh512480</td>\n",
       "      <td>半导体ETF</td>\n",
       "      <td>0.45</td>\n",
       "      <td>0.003247</td>\n",
       "      <td>0.342</td>\n",
       "      <td>0.186</td>\n",
       "      <td>0.430</td>\n",
       "      <td>0.261</td>\n",
       "      <td>0.377</td>\n",
       "      <td>0.286</td>\n",
       "      <td>0.519</td>\n",
       "      <td>0.135</td>\n",
       "      <td>-0.221</td>\n",
       "      <td>0.220</td>\n",
       "      <td>-0.114</td>\n",
       "      <td>0.248</td>\n",
       "    </tr>\n",
       "    <tr>\n",
       "      <th>39</th>\n",
       "      <td>sz159928</td>\n",
       "      <td>消费ETF</td>\n",
       "      <td>0.35</td>\n",
       "      <td>0.009501</td>\n",
       "      <td>0.342</td>\n",
       "      <td>0.149</td>\n",
       "      <td>0.510</td>\n",
       "      <td>0.307</td>\n",
       "      <td>0.281</td>\n",
       "      <td>0.126</td>\n",
       "      <td>0.535</td>\n",
       "      <td>0.098</td>\n",
       "      <td>-0.226</td>\n",
       "      <td>0.329</td>\n",
       "      <td>0.013</td>\n",
       "      <td>0.330</td>\n",
       "    </tr>\n",
       "    <tr>\n",
       "      <th>48</th>\n",
       "      <td>sz159813</td>\n",
       "      <td>半导体ETF</td>\n",
       "      <td>0.36</td>\n",
       "      <td>-0.000217</td>\n",
       "      <td>0.337</td>\n",
       "      <td>0.172</td>\n",
       "      <td>0.387</td>\n",
       "      <td>0.202</td>\n",
       "      <td>0.310</td>\n",
       "      <td>0.168</td>\n",
       "      <td>0.481</td>\n",
       "      <td>0.101</td>\n",
       "      <td>-0.192</td>\n",
       "      <td>0.212</td>\n",
       "      <td>-0.146</td>\n",
       "      <td>0.172</td>\n",
       "    </tr>\n",
       "    <tr>\n",
       "      <th>59</th>\n",
       "      <td>sh512170</td>\n",
       "      <td>医疗ETF</td>\n",
       "      <td>0.35</td>\n",
       "      <td>0.027993</td>\n",
       "      <td>0.330</td>\n",
       "      <td>0.243</td>\n",
       "      <td>0.423</td>\n",
       "      <td>0.328</td>\n",
       "      <td>0.314</td>\n",
       "      <td>0.243</td>\n",
       "      <td>0.530</td>\n",
       "      <td>0.124</td>\n",
       "      <td>-0.221</td>\n",
       "      <td>0.366</td>\n",
       "      <td>0.025</td>\n",
       "      <td>0.287</td>\n",
       "    </tr>\n",
       "    <tr>\n",
       "      <th>41</th>\n",
       "      <td>sz159819</td>\n",
       "      <td>人工智能ETF</td>\n",
       "      <td>0.43</td>\n",
       "      <td>-0.008734</td>\n",
       "      <td>0.328</td>\n",
       "      <td>0.150</td>\n",
       "      <td>0.388</td>\n",
       "      <td>0.210</td>\n",
       "      <td>0.309</td>\n",
       "      <td>0.125</td>\n",
       "      <td>0.416</td>\n",
       "      <td>0.124</td>\n",
       "      <td>-0.179</td>\n",
       "      <td>0.200</td>\n",
       "      <td>0.009</td>\n",
       "      <td>0.232</td>\n",
       "    </tr>\n",
       "    <tr>\n",
       "      <th>60</th>\n",
       "      <td>sh510300</td>\n",
       "      <td>沪深300ETF</td>\n",
       "      <td>0.43</td>\n",
       "      <td>0.009521</td>\n",
       "      <td>0.327</td>\n",
       "      <td>0.168</td>\n",
       "      <td>0.437</td>\n",
       "      <td>0.261</td>\n",
       "      <td>0.283</td>\n",
       "      <td>0.141</td>\n",
       "      <td>0.489</td>\n",
       "      <td>0.105</td>\n",
       "      <td>-0.342</td>\n",
       "      <td>0.196</td>\n",
       "      <td>-0.282</td>\n",
       "      <td>0.276</td>\n",
       "    </tr>\n",
       "    <tr>\n",
       "      <th>45</th>\n",
       "      <td>sh513060</td>\n",
       "      <td>恒生医疗ETF</td>\n",
       "      <td>0.38</td>\n",
       "      <td>-0.002901</td>\n",
       "      <td>0.315</td>\n",
       "      <td>0.185</td>\n",
       "      <td>0.525</td>\n",
       "      <td>0.303</td>\n",
       "      <td>0.257</td>\n",
       "      <td>0.207</td>\n",
       "      <td>0.524</td>\n",
       "      <td>0.128</td>\n",
       "      <td>-0.106</td>\n",
       "      <td>0.152</td>\n",
       "      <td>0.025</td>\n",
       "      <td>0.275</td>\n",
       "    </tr>\n",
       "    <tr>\n",
       "      <th>12</th>\n",
       "      <td>sh562500</td>\n",
       "      <td>机器人ETF</td>\n",
       "      <td>0.31</td>\n",
       "      <td>-0.008621</td>\n",
       "      <td>0.310</td>\n",
       "      <td>0.115</td>\n",
       "      <td>0.417</td>\n",
       "      <td>0.236</td>\n",
       "      <td>0.273</td>\n",
       "      <td>0.107</td>\n",
       "      <td>0.437</td>\n",
       "      <td>0.145</td>\n",
       "      <td>-0.217</td>\n",
       "      <td>0.217</td>\n",
       "      <td>-0.136</td>\n",
       "      <td>0.300</td>\n",
       "    </tr>\n",
       "    <tr>\n",
       "      <th>21</th>\n",
       "      <td>sh512670</td>\n",
       "      <td>国防ETF</td>\n",
       "      <td>0.40</td>\n",
       "      <td>0.003435</td>\n",
       "      <td>0.305</td>\n",
       "      <td>0.183</td>\n",
       "      <td>0.428</td>\n",
       "      <td>0.272</td>\n",
       "      <td>0.274</td>\n",
       "      <td>0.196</td>\n",
       "      <td>0.460</td>\n",
       "      <td>0.160</td>\n",
       "      <td>-0.084</td>\n",
       "      <td>0.174</td>\n",
       "      <td>0.060</td>\n",
       "      <td>0.282</td>\n",
       "    </tr>\n",
       "    <tr>\n",
       "      <th>53</th>\n",
       "      <td>sh515030</td>\n",
       "      <td>新能源车ETF</td>\n",
       "      <td>0.45</td>\n",
       "      <td>-0.012215</td>\n",
       "      <td>0.300</td>\n",
       "      <td>0.182</td>\n",
       "      <td>0.389</td>\n",
       "      <td>0.236</td>\n",
       "      <td>0.270</td>\n",
       "      <td>0.192</td>\n",
       "      <td>0.428</td>\n",
       "      <td>0.117</td>\n",
       "      <td>-0.236</td>\n",
       "      <td>0.076</td>\n",
       "      <td>-0.183</td>\n",
       "      <td>0.222</td>\n",
       "    </tr>\n",
       "    <tr>\n",
       "      <th>1</th>\n",
       "      <td>sz399001</td>\n",
       "      <td>创业板指</td>\n",
       "      <td>0.45</td>\n",
       "      <td>0.006539</td>\n",
       "      <td>0.297</td>\n",
       "      <td>0.138</td>\n",
       "      <td>0.359</td>\n",
       "      <td>0.169</td>\n",
       "      <td>0.312</td>\n",
       "      <td>0.193</td>\n",
       "      <td>0.451</td>\n",
       "      <td>0.071</td>\n",
       "      <td>-0.159</td>\n",
       "      <td>0.204</td>\n",
       "      <td>-0.079</td>\n",
       "      <td>0.292</td>\n",
       "    </tr>\n",
       "    <tr>\n",
       "      <th>61</th>\n",
       "      <td>sz159915</td>\n",
       "      <td>创业板ETF</td>\n",
       "      <td>0.46</td>\n",
       "      <td>0.002542</td>\n",
       "      <td>0.266</td>\n",
       "      <td>0.224</td>\n",
       "      <td>0.325</td>\n",
       "      <td>0.261</td>\n",
       "      <td>0.243</td>\n",
       "      <td>0.217</td>\n",
       "      <td>0.498</td>\n",
       "      <td>0.103</td>\n",
       "      <td>-0.270</td>\n",
       "      <td>0.248</td>\n",
       "      <td>-0.283</td>\n",
       "      <td>0.339</td>\n",
       "    </tr>\n",
       "  </tbody>\n",
       "</table>\n",
       "</div>"
      ],
      "text/plain": [
       "    stock_id  stock_name  pred_today_cls  pred_today_reg     f1  f1_std  \\\n",
       "40  sh515220       煤炭ETF            0.47       -0.008004  0.664   0.112   \n",
       "16  sh512970      大湾区ETF            0.58        0.007818  0.623   0.138   \n",
       "15  sz159650       国开ETF            0.59        0.001208  0.620   0.118   \n",
       "26  sh515230       软件ETF            0.41        0.006173  0.588   0.098   \n",
       "22  sh515210       钢铁ETF            0.51       -0.021521  0.583   0.134   \n",
       "8   sh510370    300指数ETF            0.53        0.008374  0.533   0.173   \n",
       "27  sh512980       传媒ETF            0.43       -0.001811  0.525   0.183   \n",
       "29  sz159840      锂电池ETF            0.44       -0.002574  0.520   0.168   \n",
       "19  sz159998      计算机ETF            0.47        0.008712  0.513   0.150   \n",
       "46  sh515400      大数据ETF            0.52        0.006026  0.505   0.094   \n",
       "0   sh000001        上证指数            0.47        0.001393  0.504   0.151   \n",
       "30  sh512200      房地产ETF            0.46        0.015923  0.490   0.112   \n",
       "35  sh515880       通讯ETF            0.50       -0.004746  0.480   0.042   \n",
       "5   sh000905       中证500            0.47       -0.004842  0.479   0.066   \n",
       "23  sz159825       农业ETF            0.50       -0.011643  0.477   0.175   \n",
       "64  sh588000     科创50ETF            0.55       -0.006551  0.476   0.165   \n",
       "32  sz159766       旅游ETF            0.59        0.013322  0.474   0.176   \n",
       "25  sz159865       养殖ETF            0.41       -0.007980  0.462   0.219   \n",
       "17  sh588090      科创板ETF            0.44       -0.005563  0.450   0.149   \n",
       "10  sh510760     上证综指ETF            0.49       -0.001074  0.444   0.149   \n",
       "44  sh512800       银行ETF            0.54        0.008427  0.438   0.111   \n",
       "7   sh512510  中证500指数ETF            0.54        0.005156  0.427   0.121   \n",
       "3   sh000688        科创50            0.49       -0.004310  0.403   0.122   \n",
       "37  sz159992      创新药ETF            0.46        0.028133  0.402   0.114   \n",
       "52  sh512660       军工ETF            0.52       -0.007016  0.399   0.109   \n",
       "34  sh512400     有色金属ETF            0.44       -0.001962  0.399   0.197   \n",
       "50  sh518880       黄金ETF            0.42       -0.001756  0.397   0.135   \n",
       "6   bj899050        北证50            0.43       -0.006593  0.395   0.203   \n",
       "33  sz159934       黄金ETF            0.49       -0.001761  0.386   0.124   \n",
       "18  sz159869       游戏ETF            0.36        0.000265  0.381   0.209   \n",
       "55  sh512880       证券ETF            0.44        0.002123  0.372   0.149   \n",
       "31  sh516970     基建50ETF            0.43       -0.002223  0.371   0.167   \n",
       "56  sh512690        酒ETF            0.49        0.006554  0.365   0.291   \n",
       "54  sz159658     数字经济ETF            0.47        0.006505  0.361   0.183   \n",
       "49  sh512760       芯片ETF            0.50       -0.004404  0.357   0.096   \n",
       "58  sh510050     上证50ETF            0.44        0.012565  0.351   0.105   \n",
       "36  sh516110       汽车ETF            0.38       -0.000678  0.345   0.117   \n",
       "20  sh516510      云计算ETF            0.45        0.007630  0.343   0.230   \n",
       "63  sh512480      半导体ETF            0.45        0.003247  0.342   0.186   \n",
       "39  sz159928       消费ETF            0.35        0.009501  0.342   0.149   \n",
       "48  sz159813      半导体ETF            0.36       -0.000217  0.337   0.172   \n",
       "59  sh512170       医疗ETF            0.35        0.027993  0.330   0.243   \n",
       "41  sz159819     人工智能ETF            0.43       -0.008734  0.328   0.150   \n",
       "60  sh510300    沪深300ETF            0.43        0.009521  0.327   0.168   \n",
       "45  sh513060     恒生医疗ETF            0.38       -0.002901  0.315   0.185   \n",
       "12  sh562500      机器人ETF            0.31       -0.008621  0.310   0.115   \n",
       "21  sh512670       国防ETF            0.40        0.003435  0.305   0.183   \n",
       "53  sh515030     新能源车ETF            0.45       -0.012215  0.300   0.182   \n",
       "1   sz399001        创业板指            0.45        0.006539  0.297   0.138   \n",
       "61  sz159915      创业板ETF            0.46        0.002542  0.266   0.224   \n",
       "\n",
       "    precision  precision_std  recall  recall_std  roc_auc  roc_auc_std  \\\n",
       "40      0.614          0.150   0.762       0.146    0.568        0.114   \n",
       "16      0.557          0.140   0.739       0.168    0.501        0.149   \n",
       "15      0.550          0.136   0.743       0.171    0.437        0.115   \n",
       "26      0.556          0.169   0.742       0.211    0.539        0.108   \n",
       "22      0.553          0.157   0.707       0.206    0.511        0.086   \n",
       "8       0.506          0.158   0.594       0.237    0.502        0.184   \n",
       "27      0.476          0.165   0.597       0.224    0.462        0.121   \n",
       "29      0.511          0.168   0.540       0.189    0.513        0.127   \n",
       "19      0.549          0.150   0.501       0.180    0.541        0.131   \n",
       "46      0.517          0.102   0.541       0.155    0.492        0.061   \n",
       "0       0.589          0.220   0.511       0.214    0.547        0.145   \n",
       "30      0.516          0.162   0.495       0.119    0.501        0.103   \n",
       "35      0.497          0.100   0.511       0.174    0.487        0.099   \n",
       "5       0.466          0.099   0.511       0.074    0.422        0.058   \n",
       "23      0.546          0.197   0.502       0.247    0.572        0.172   \n",
       "64      0.592          0.210   0.451       0.192    0.602        0.114   \n",
       "32      0.480          0.169   0.537       0.249    0.473        0.109   \n",
       "25      0.469          0.161   0.531       0.307    0.523        0.137   \n",
       "17      0.528          0.227   0.426       0.171    0.511        0.135   \n",
       "10      0.536          0.234   0.402       0.137    0.525        0.119   \n",
       "44      0.470          0.174   0.444       0.132    0.437        0.128   \n",
       "7       0.457          0.188   0.463       0.190    0.427        0.137   \n",
       "3       0.482          0.223   0.394       0.167    0.475        0.099   \n",
       "37      0.525          0.211   0.386       0.158    0.525        0.122   \n",
       "52      0.417          0.124   0.397       0.110    0.416        0.095   \n",
       "34      0.474          0.284   0.403       0.248    0.508        0.132   \n",
       "50      0.477          0.254   0.380       0.110    0.438        0.140   \n",
       "6       0.537          0.285   0.347       0.186    0.548        0.123   \n",
       "33      0.572          0.215   0.367       0.236    0.565        0.107   \n",
       "18      0.475          0.283   0.390       0.269    0.481        0.144   \n",
       "55      0.446          0.243   0.412       0.270    0.487        0.113   \n",
       "31      0.462          0.263   0.341       0.151    0.454        0.174   \n",
       "56      0.529          0.382   0.346       0.320    0.551        0.172   \n",
       "54      0.383          0.202   0.415       0.286    0.473        0.132   \n",
       "49      0.406          0.111   0.362       0.173    0.438        0.079   \n",
       "58      0.479          0.287   0.361       0.228    0.508        0.127   \n",
       "36      0.449          0.237   0.313       0.119    0.457        0.101   \n",
       "20      0.433          0.274   0.300       0.210    0.498        0.163   \n",
       "63      0.430          0.261   0.377       0.286    0.519        0.135   \n",
       "39      0.510          0.307   0.281       0.126    0.535        0.098   \n",
       "48      0.387          0.202   0.310       0.168    0.481        0.101   \n",
       "59      0.423          0.328   0.314       0.243    0.530        0.124   \n",
       "41      0.388          0.210   0.309       0.125    0.416        0.124   \n",
       "60      0.437          0.261   0.283       0.141    0.489        0.105   \n",
       "45      0.525          0.303   0.257       0.207    0.524        0.128   \n",
       "12      0.417          0.236   0.273       0.107    0.437        0.145   \n",
       "21      0.428          0.272   0.274       0.196    0.460        0.160   \n",
       "53      0.389          0.236   0.270       0.192    0.428        0.117   \n",
       "1       0.359          0.169   0.312       0.193    0.451        0.071   \n",
       "61      0.325          0.261   0.243       0.217    0.498        0.103   \n",
       "\n",
       "    r2_score  r2_score_std  spearmanr  spearmanr_std  \n",
       "40    -0.187         0.167      0.114          0.250  \n",
       "16    -0.198         0.087     -0.163          0.212  \n",
       "15    -0.316         0.311     -0.052          0.395  \n",
       "26    -0.230         0.331      0.124          0.274  \n",
       "22    -0.134         0.186     -0.014          0.322  \n",
       "8     -0.358         0.264     -0.047          0.288  \n",
       "27    -0.161         0.152     -0.041          0.252  \n",
       "29    -0.253         0.166     -0.201          0.199  \n",
       "19    -0.307         0.281     -0.173          0.288  \n",
       "46    -0.291         0.263     -0.139          0.253  \n",
       "0     -0.138         0.127      0.008          0.287  \n",
       "30    -0.151         0.160      0.038          0.181  \n",
       "35    -0.174         0.136     -0.009          0.202  \n",
       "5     -0.187         0.240      0.018          0.283  \n",
       "23    -0.059         0.228      0.245          0.304  \n",
       "64    -0.137         0.202      0.004          0.284  \n",
       "32    -0.260         0.211     -0.031          0.222  \n",
       "25    -0.113         0.205      0.117          0.331  \n",
       "17    -0.139         0.156     -0.048          0.184  \n",
       "10    -0.195         0.134     -0.064          0.264  \n",
       "44    -0.270         0.236     -0.142          0.211  \n",
       "7     -0.264         0.214     -0.208          0.279  \n",
       "3     -0.138         0.241      0.021          0.287  \n",
       "37    -0.162         0.233      0.024          0.253  \n",
       "52    -0.128         0.152     -0.090          0.324  \n",
       "34    -0.181         0.174     -0.080          0.296  \n",
       "50    -0.196         0.334      0.108          0.272  \n",
       "6     -0.466         0.465      0.046          0.152  \n",
       "33    -0.032         0.158      0.096          0.243  \n",
       "18    -0.191         0.151     -0.052          0.192  \n",
       "55    -0.338         0.279     -0.193          0.236  \n",
       "31    -0.160         0.109     -0.105          0.172  \n",
       "56    -0.261         0.235      0.060          0.233  \n",
       "54    -0.232         0.286     -0.036          0.435  \n",
       "49    -0.243         0.281     -0.137          0.253  \n",
       "58    -0.429         0.480     -0.246          0.251  \n",
       "36    -0.332         0.252     -0.171          0.226  \n",
       "20    -0.245         0.189     -0.072          0.280  \n",
       "63    -0.221         0.220     -0.114          0.248  \n",
       "39    -0.226         0.329      0.013          0.330  \n",
       "48    -0.192         0.212     -0.146          0.172  \n",
       "59    -0.221         0.366      0.025          0.287  \n",
       "41    -0.179         0.200      0.009          0.232  \n",
       "60    -0.342         0.196     -0.282          0.276  \n",
       "45    -0.106         0.152      0.025          0.275  \n",
       "12    -0.217         0.217     -0.136          0.300  \n",
       "21    -0.084         0.174      0.060          0.282  \n",
       "53    -0.236         0.076     -0.183          0.222  \n",
       "1     -0.159         0.204     -0.079          0.292  \n",
       "61    -0.270         0.248     -0.283          0.339  "
      ]
     },
     "execution_count": 49,
     "metadata": {},
     "output_type": "execute_result"
    }
   ],
   "source": [
    "pred_res.head(50)\n"
   ]
  },
  {
   "cell_type": "code",
   "execution_count": null,
   "metadata": {},
   "outputs": [],
   "source": []
  },
  {
   "cell_type": "code",
   "execution_count": null,
   "metadata": {},
   "outputs": [],
   "source": []
  },
  {
   "cell_type": "code",
   "execution_count": 32,
   "metadata": {},
   "outputs": [
    {
     "data": {
      "text/plain": [
       "(0.52, -0.00018356557571424189)"
      ]
     },
     "execution_count": 32,
     "metadata": {},
     "output_type": "execute_result"
    }
   ],
   "source": []
  }
 ],
 "metadata": {
  "kernelspec": {
   "display_name": "base",
   "language": "python",
   "name": "python3"
  },
  "language_info": {
   "codemirror_mode": {
    "name": "ipython",
    "version": 3
   },
   "file_extension": ".py",
   "mimetype": "text/x-python",
   "name": "python",
   "nbconvert_exporter": "python",
   "pygments_lexer": "ipython3",
   "version": "3.9.7"
  },
  "orig_nbformat": 4,
  "vscode": {
   "interpreter": {
    "hash": "1e9867b585c0f10e2eb480253e40cab44b53d9f15cdd7fb9c79b17a5cb2fa039"
   }
  }
 },
 "nbformat": 4,
 "nbformat_minor": 2
}
